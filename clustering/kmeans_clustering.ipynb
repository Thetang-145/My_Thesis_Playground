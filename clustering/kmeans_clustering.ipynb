{
 "cells": [
  {
   "cell_type": "code",
   "execution_count": 1,
   "id": "d392ddf5-76ca-4c57-81fa-aa85ffbb31d4",
   "metadata": {
    "tags": []
   },
   "outputs": [],
   "source": [
    "import os\n",
    "import numpy as np\n",
    "import pandas as pd\n",
    "from pathlib import Path\n",
    "import seaborn as sns\n",
    "import matplotlib.pyplot as plt\n",
    "from sklearn.cluster import KMeans"
   ]
  },
  {
   "cell_type": "code",
   "execution_count": 2,
   "id": "ef5b1151-7f3d-439a-be90-56168a6fba85",
   "metadata": {
    "tags": []
   },
   "outputs": [],
   "source": [
    "def suffix_dupIndex(df, add_one_subfix=False):\n",
    "    dup_labels = df.index.duplicated(keep=False)\n",
    "    dup_count = dup_labels.sum()\n",
    "    if dup_count > 0:\n",
    "        new_labels = []\n",
    "        label_counts = {}\n",
    "        for i, label in enumerate(df.index):\n",
    "            if label in label_counts:\n",
    "                label_counts[label] += 1\n",
    "                new_labels.append(f\"{label}_{label_counts[label]+1}\")\n",
    "            else:\n",
    "                label_counts[label] = 0\n",
    "                if dup_labels[i] or add_one_subfix:\n",
    "                    new_labels.append(f\"{label}_{label_counts[label]+1}\")\n",
    "                else:\n",
    "                    new_labels.append(label)\n",
    "        # df.index = new_labels\n",
    "        return new_labels\n",
    "    \n",
    "def getEntPath(section, data_split):\n",
    "    file_dir = str((Path().absolute()).parents[0]) + f\"/PL-Marker/_statistics_data/{section}\"\n",
    "    ent_path = f\"{file_dir}/{data_split}_ent.csv\"\n",
    "    rel_path = f\"{file_dir}/{data_split}_rel.csv\"\n",
    "    return ent_path, rel_path"
   ]
  },
  {
   "cell_type": "markdown",
   "id": "74d2d61d-4821-44d1-b46d-0c5219710424",
   "metadata": {},
   "source": [
    "# Import data"
   ]
  },
  {
   "cell_type": "code",
   "execution_count": 88,
   "id": "26ffdc42-36db-42bb-ab15-cfce946bb00e",
   "metadata": {
    "tags": []
   },
   "outputs": [
    {
     "name": "stdout",
     "output_type": "stream",
     "text": [
      "Merge: 18933\tEnt: 18933\tRel: 18933\n",
      "Merge: 3604\tEnt: 3604\tRel: 3604\n"
     ]
    },
    {
     "data": {
      "text/html": [
       "<div>\n",
       "<style scoped>\n",
       "    .dataframe tbody tr th:only-of-type {\n",
       "        vertical-align: middle;\n",
       "    }\n",
       "\n",
       "    .dataframe tbody tr th {\n",
       "        vertical-align: top;\n",
       "    }\n",
       "\n",
       "    .dataframe thead th {\n",
       "        text-align: right;\n",
       "    }\n",
       "</style>\n",
       "<table border=\"1\" class=\"dataframe\">\n",
       "  <thead>\n",
       "    <tr style=\"text-align: right;\">\n",
       "      <th></th>\n",
       "      <th>paper_id</th>\n",
       "      <th>summary</th>\n",
       "      <th>Method</th>\n",
       "      <th>OtherScientificTerm</th>\n",
       "      <th>Task</th>\n",
       "      <th>Generic</th>\n",
       "      <th>Material</th>\n",
       "      <th>Metric</th>\n",
       "      <th>PART-OF</th>\n",
       "      <th>USED-FOR</th>\n",
       "      <th>FEATURE-OF</th>\n",
       "      <th>CONJUNCTION</th>\n",
       "      <th>EVALUATE-FOR</th>\n",
       "      <th>HYPONYM-OF</th>\n",
       "      <th>COMPARE</th>\n",
       "    </tr>\n",
       "  </thead>\n",
       "  <tbody>\n",
       "    <tr>\n",
       "      <th>0</th>\n",
       "      <td>SP:4d08cdb2de2044bcb574a425b42963b83fbebfbc</td>\n",
       "      <td>This paper investigates kernel ridge - less re...</td>\n",
       "      <td>3</td>\n",
       "      <td>2</td>\n",
       "      <td>1</td>\n",
       "      <td>0</td>\n",
       "      <td>0</td>\n",
       "      <td>0</td>\n",
       "      <td>0</td>\n",
       "      <td>3</td>\n",
       "      <td>0</td>\n",
       "      <td>0</td>\n",
       "      <td>0</td>\n",
       "      <td>0</td>\n",
       "      <td>0</td>\n",
       "    </tr>\n",
       "    <tr>\n",
       "      <th>1</th>\n",
       "      <td>SP:b80bc890180934092cde037b49d94d6e4e06fad9</td>\n",
       "      <td>This paper presents a novel way of making full...</td>\n",
       "      <td>5</td>\n",
       "      <td>4</td>\n",
       "      <td>0</td>\n",
       "      <td>1</td>\n",
       "      <td>0</td>\n",
       "      <td>0</td>\n",
       "      <td>0</td>\n",
       "      <td>5</td>\n",
       "      <td>1</td>\n",
       "      <td>1</td>\n",
       "      <td>0</td>\n",
       "      <td>0</td>\n",
       "      <td>0</td>\n",
       "    </tr>\n",
       "    <tr>\n",
       "      <th>2</th>\n",
       "      <td>SP:09f2fe6a482bbd6f9bd2c62aa841f995171ba939</td>\n",
       "      <td>This paper proposes a new framework that compu...</td>\n",
       "      <td>2</td>\n",
       "      <td>2</td>\n",
       "      <td>1</td>\n",
       "      <td>6</td>\n",
       "      <td>0</td>\n",
       "      <td>0</td>\n",
       "      <td>0</td>\n",
       "      <td>4</td>\n",
       "      <td>0</td>\n",
       "      <td>1</td>\n",
       "      <td>2</td>\n",
       "      <td>0</td>\n",
       "      <td>0</td>\n",
       "    </tr>\n",
       "    <tr>\n",
       "      <th>3</th>\n",
       "      <td>SP:a1e2218e6943bf138aeb359e23628676b396ed66</td>\n",
       "      <td>This work proposes a deep reinforcement learni...</td>\n",
       "      <td>4</td>\n",
       "      <td>1</td>\n",
       "      <td>3</td>\n",
       "      <td>2</td>\n",
       "      <td>0</td>\n",
       "      <td>0</td>\n",
       "      <td>0</td>\n",
       "      <td>5</td>\n",
       "      <td>0</td>\n",
       "      <td>0</td>\n",
       "      <td>0</td>\n",
       "      <td>0</td>\n",
       "      <td>0</td>\n",
       "    </tr>\n",
       "    <tr>\n",
       "      <th>4</th>\n",
       "      <td>SP:43e525fb3fa611df7fd44bd3bc9843e57b154c66</td>\n",
       "      <td>This paper proposes 3 deep generative models b...</td>\n",
       "      <td>7</td>\n",
       "      <td>3</td>\n",
       "      <td>4</td>\n",
       "      <td>2</td>\n",
       "      <td>0</td>\n",
       "      <td>0</td>\n",
       "      <td>0</td>\n",
       "      <td>5</td>\n",
       "      <td>0</td>\n",
       "      <td>4</td>\n",
       "      <td>1</td>\n",
       "      <td>5</td>\n",
       "      <td>0</td>\n",
       "    </tr>\n",
       "  </tbody>\n",
       "</table>\n",
       "</div>"
      ],
      "text/plain": [
       "                                      paper_id  \\\n",
       "0  SP:4d08cdb2de2044bcb574a425b42963b83fbebfbc   \n",
       "1  SP:b80bc890180934092cde037b49d94d6e4e06fad9   \n",
       "2  SP:09f2fe6a482bbd6f9bd2c62aa841f995171ba939   \n",
       "3  SP:a1e2218e6943bf138aeb359e23628676b396ed66   \n",
       "4  SP:43e525fb3fa611df7fd44bd3bc9843e57b154c66   \n",
       "\n",
       "                                             summary  Method  \\\n",
       "0  This paper investigates kernel ridge - less re...       3   \n",
       "1  This paper presents a novel way of making full...       5   \n",
       "2  This paper proposes a new framework that compu...       2   \n",
       "3  This work proposes a deep reinforcement learni...       4   \n",
       "4  This paper proposes 3 deep generative models b...       7   \n",
       "\n",
       "   OtherScientificTerm  Task  Generic  Material  Metric  PART-OF  USED-FOR  \\\n",
       "0                    2     1        0         0       0        0         3   \n",
       "1                    4     0        1         0       0        0         5   \n",
       "2                    2     1        6         0       0        0         4   \n",
       "3                    1     3        2         0       0        0         5   \n",
       "4                    3     4        2         0       0        0         5   \n",
       "\n",
       "   FEATURE-OF  CONJUNCTION  EVALUATE-FOR  HYPONYM-OF  COMPARE  \n",
       "0           0            0             0           0        0  \n",
       "1           1            1             0           0        0  \n",
       "2           0            1             2           0        0  \n",
       "3           0            0             0           0        0  \n",
       "4           0            4             1           5        0  "
      ]
     },
     "execution_count": 88,
     "metadata": {},
     "output_type": "execute_result"
    }
   ],
   "source": [
    "data_df = {}\n",
    "for data_split in [\"train\", \"val\"]:\n",
    "    ent_path, rel_path = getEntPath(\"summary\", data_split)\n",
    "    ent_df = pd.read_csv(ent_path, index_col=0).drop_duplicates()\n",
    "    rel_df = pd.read_csv(rel_path, index_col=0).drop_duplicates()\n",
    "    data_df[data_split] = ent_df.merge(rel_df, on=['paper_id', 'summary']).drop_duplicates()\n",
    "    print(f\"Merge: {len(data_df[data_split])}\\tEnt: {len(ent_df)}\\tRel: {len(rel_df)}\")\n",
    "data_df[\"train\"].head()"
   ]
  },
  {
   "cell_type": "code",
   "execution_count": null,
   "id": "c7eac97a-52a4-4030-a3ec-b8e3d4e97c4e",
   "metadata": {},
   "outputs": [],
   "source": []
  },
  {
   "cell_type": "markdown",
   "id": "025a3942-e7c2-475f-a7fc-7b057e6c68a0",
   "metadata": {},
   "source": [
    "# Kmeans Clustering"
   ]
  },
  {
   "cell_type": "markdown",
   "id": "66cf01ab-38bd-4bf6-bf76-0ccae5368e75",
   "metadata": {},
   "source": [
    "## Import and Define class"
   ]
  },
  {
   "cell_type": "code",
   "execution_count": 89,
   "id": "d88f56a2-c2a0-4bfe-95c5-0961697e7e90",
   "metadata": {
    "tags": []
   },
   "outputs": [],
   "source": [
    "import os\n",
    "#comment this if you are not using puffer?\n",
    "os.environ['http_proxy'] = 'http://192.41.170.23:3128'\n",
    "os.environ['https_proxy'] = 'http://192.41.170.23:3128'\n",
    "from transformers import BartTokenizer\n",
    "tokenizer = BartTokenizer.from_pretrained(\"facebook/bart-large\")\n",
    "def get_token(sentence, get_len=True):\n",
    "    tokens = tokenizer.encode(\n",
    "        sentence, \n",
    "        # padding='max_length',  \n",
    "        # max_length=args.max_input, \n",
    "        truncation=True, \n",
    "        return_attention_mask=True,\n",
    "        add_special_tokens=True,\n",
    "        return_tensors='pt'\n",
    "    )\n",
    "    if get_len: return tokens.shape[1]\n",
    "    else: return tokens"
   ]
  },
  {
   "cell_type": "code",
   "execution_count": 165,
   "id": "1b097b50-b721-4fd7-b88b-54fe9cc0d095",
   "metadata": {
    "tags": []
   },
   "outputs": [],
   "source": [
    "from sklearn.preprocessing import StandardScaler\n",
    "\n",
    "class kmeans_model:\n",
    "    def __init__(self, df_dict, k):\n",
    "        self.k = k\n",
    "        df_train = df_dict['train']\n",
    "        self.feature_col = [col for col in df_train.select_dtypes(['int'])]\n",
    "        X = self.tranform_input(df_train, train=True)\n",
    "        self.model = KMeans(n_clusters=self.k, random_state=42).fit(X)\n",
    "        self.cluster_dict = {}\n",
    "        for k, v in df_dict.items():\n",
    "            self.cluster_dict[k] = self.get_cluster(v)\n",
    "            print(f\"Finished clustering {k} data\")\n",
    "        \n",
    "    def tranform_input(self, df, train=False):\n",
    "        if 'cluster' in self.feature_col: self.feature_col.remove('cluster')\n",
    "        X_array = np.array([list(df[col]) for col in self.feature_col]).T\n",
    "        if train:\n",
    "            self.scaler = StandardScaler()\n",
    "            self.scaler.fit(X_array)\n",
    "        return self.scaler.transform(X_array)\n",
    "\n",
    "    def get_cluster(self, df):\n",
    "        X = self.tranform_input(df)\n",
    "        labels = self.model.predict(X)\n",
    "        cluster_df = df.copy()\n",
    "        cluster_df['cluster'] = labels\n",
    "        return cluster_df\n",
    "        # return labels\n",
    "    \n",
    "    def plot_entities(self, data_split, type=None, title='Number of entities'):\n",
    "        cluster_df = (self.cluster_dict[data_split]).copy()\n",
    "        if type==\"perc\":\n",
    "            for col in self.feature_col: cluster_df[col] = cluster_df[col]/max(cluster_df[col])*100\n",
    "        df_boxplot = pd.DataFrame()\n",
    "        for i in range(self.k):\n",
    "            df_boxplot_ = pd.melt(cluster_df[cluster_df['cluster']==i], value_vars=self.feature_col, var_name=\"input_features\")\n",
    "            df_boxplot_['cluster'] = i+1\n",
    "            df_boxplot = pd.concat([df_boxplot, df_boxplot_])\n",
    "        df_boxplot.rename(columns={'value': \"No. of Ent.\"}, inplace=True)\n",
    "        self.get_boxplot(\n",
    "            df_boxplot, \n",
    "            x='input_features', \n",
    "            y='No. of Ent.', \n",
    "            graph_title=title,\n",
    "            hue='cluster',\n",
    "            w=len(self.feature_col)*self.k/2\n",
    "        )\n",
    "        return cluster_df\n",
    "        \n",
    "    def plot_tokenlen(self, data_split, title=None, type=\"dist\"):\n",
    "        # type: boxplot, dist\n",
    "        if title==None: title='Number of entities'\n",
    "        token_df = (self.cluster_dict[data_split]).copy()\n",
    "        token_df['token_len'] = token_df['summary'].apply(get_token)\n",
    "        if type=='boxplot':\n",
    "            self.get_boxplot(\n",
    "                token_df, \n",
    "                x='cluster', \n",
    "                y='token_len', \n",
    "                graph_title=title,\n",
    "            )\n",
    "        elif type=='dist':\n",
    "            print(\"dist\")\n",
    "        return token_df\n",
    "    \n",
    "    def get_boxplot(self, df, x, y, graph_title, hue=None, hue_title=None, w=5):\n",
    "        plt.rcParams[\"figure.figsize\"] = [w, 5]\n",
    "        plt.rcParams[\"figure.autolayout\"] = True\n",
    "        sns.boxplot(x=x, y=y, hue=hue, data=df, palette=\"Set1\")\n",
    "        plt.title(graph_title)\n",
    "        if hue!=None:\n",
    "            if hue_title==None: hue_title = hue\n",
    "            plt.legend(bbox_to_anchor=(1.05, 1), title=hue, loc='upper left', borderaxespad=0)\n",
    "        plt.show()\n",
    "        \n",
    "    def export_cluster(self, data_split, exp_dir=\"\"):\n",
    "        exp_df = self.cluster_dict[data_split][[\"paper_id\", \"summary\", \"cluster\"]]\n",
    "        exp_df['sum_id'] = suffix_dupIndex(exp_df.set_index(\"paper_id\"), add_one_subfix=True)\n",
    "        filename = f\"kmeans-k{self.k}-{data_split}\"\n",
    "        ver  = -1\n",
    "        for file in sorted(os.listdir()):\n",
    "            if file[:len(filename)]==filename:\n",
    "                f = file.split(\".\")[0].split(\"-\")[-1]\n",
    "                if f[0]=='v' and f[1:].isdigit():\n",
    "                    ver = max(ver, int(f[1:]))\n",
    "        if exp_dir!=\"\" and exp_dir[-1]!='/': exp_dir+='/'\n",
    "        if exp_dir!=\"\" and not os.path.exists(exp_dir): os.makedirs(exp_dir)\n",
    "        exp_path = f\"{exp_dir}{filename}-v{ver+1}.csv\"\n",
    "        \n",
    "        exp_df.to_csv(exp_path, index=0)\n",
    "        print(f\"Saved {len(exp_df)} sample to {exp_path}\")\n",
    "        \n",
    "    def get_num_paper(self, data_split):\n",
    "        df_count = self.cluster_dict[data_split][[\"paper_id\", \"cluster\"]].groupby(\"cluster\").count()\n",
    "        df_count.rename(columns={\"paper_id\": \"num_paper\"}, inplace=True)\n",
    "        df_count[\"num_paper(%)\"] = df_count[\"num_paper\"]/df_count[\"num_paper\"].sum()*100\n",
    "        return df_count\n",
    "        \n"
   ]
  },
  {
   "cell_type": "markdown",
   "id": "3fdbcdc7-9946-42af-9889-180567924055",
   "metadata": {},
   "source": [
    "## Clustering"
   ]
  },
  {
   "cell_type": "code",
   "execution_count": 166,
   "id": "d97b250f-e02b-4241-ad4b-2be8491a78e5",
   "metadata": {},
   "outputs": [
    {
     "name": "stderr",
     "output_type": "stream",
     "text": [
      "/usr/local/lib/python3.10/dist-packages/sklearn/cluster/_kmeans.py:870: FutureWarning: The default value of `n_init` will change from 10 to 'auto' in 1.4. Set the value of `n_init` explicitly to suppress the warning\n",
      "  warnings.warn(\n"
     ]
    },
    {
     "name": "stdout",
     "output_type": "stream",
     "text": [
      "Finished clustering train data\n",
      "Finished clustering val data\n"
     ]
    }
   ],
   "source": [
    "model = kmeans_model(data_df, k=3)\n"
   ]
  },
  {
   "cell_type": "code",
   "execution_count": 167,
   "id": "318aa1b8-ef00-4e13-bfa4-68de17288006",
   "metadata": {},
   "outputs": [
    {
     "data": {
      "image/png": "[encoded data removed]",
      "text/plain": [
       "<Figure size 1950x500 with 1 Axes>"
      ]
     },
     "metadata": {},
     "output_type": "display_data"
    }
   ],
   "source": [
    "clust_df = model.plot_entities(\"train\", title=\"Number of entities/relations (Train)\", type='perc')"
   ]
  },
  {
   "cell_type": "code",
   "execution_count": 168,
   "id": "7097024c-dab4-412b-996c-851a514e5590",
   "metadata": {
    "tags": []
   },
   "outputs": [
    {
     "data": {
      "image/png": "[encoded data removed]",
      "text/plain": [
       "<Figure size 1950x500 with 1 Axes>"
      ]
     },
     "metadata": {},
     "output_type": "display_data"
    }
   ],
   "source": [
    "clust_df = model.plot_entities(\"val\", title=\"Number of entities/relations (Validation)\", type='perc')"
   ]
  },
  {
   "cell_type": "code",
   "execution_count": 169,
   "id": "cd3430d6-5d18-4a15-9fae-3a82f6f1e58b",
   "metadata": {},
   "outputs": [
    {
     "name": "stdout",
     "output_type": "stream",
     "text": [
      "dist\n"
     ]
    }
   ],
   "source": [
    "tokens = model.plot_tokenlen(\"train\", title='Summary length (Train)')"
   ]
  },
  {
   "cell_type": "code",
   "execution_count": 170,
   "id": "7e3be3d2-c31f-4704-bf9d-43943e087575",
   "metadata": {
    "tags": []
   },
   "outputs": [
    {
     "name": "stdout",
     "output_type": "stream",
     "text": [
      "dist\n"
     ]
    }
   ],
   "source": [
    "tokens = model.plot_tokenlen(\"val\", title='Summary length (Validation)')"
   ]
  },
  {
   "cell_type": "code",
   "execution_count": 171,
   "id": "d5126451-7c40-4954-ae81-ccb18145056a",
   "metadata": {
    "tags": []
   },
   "outputs": [],
   "source": [
    "# for i in range(3):\n",
    "#     token_cluster = tokens[tokens['cluster']==i]['token_len']\n",
    "#     output_len = token_cluster.quantile(.999)\n",
    "#     max_len = token_cluster.max()\n",
    "#     mean_len = token_cluster.mean()\n",
    "#     print(i, output_len, max_len, mean_len)"
   ]
  },
  {
   "cell_type": "code",
   "execution_count": 172,
   "id": "f7dcbd6f-0cf2-4aaa-8a1a-52dd912ac7ec",
   "metadata": {
    "tags": []
   },
   "outputs": [
    {
     "data": {
      "text/html": [
       "<div>\n",
       "<style scoped>\n",
       "    .dataframe tbody tr th:only-of-type {\n",
       "        vertical-align: middle;\n",
       "    }\n",
       "\n",
       "    .dataframe tbody tr th {\n",
       "        vertical-align: top;\n",
       "    }\n",
       "\n",
       "    .dataframe thead th {\n",
       "        text-align: right;\n",
       "    }\n",
       "</style>\n",
       "<table border=\"1\" class=\"dataframe\">\n",
       "  <thead>\n",
       "    <tr style=\"text-align: right;\">\n",
       "      <th></th>\n",
       "      <th>num_paper</th>\n",
       "      <th>num_paper(%)</th>\n",
       "    </tr>\n",
       "    <tr>\n",
       "      <th>cluster</th>\n",
       "      <th></th>\n",
       "      <th></th>\n",
       "    </tr>\n",
       "  </thead>\n",
       "  <tbody>\n",
       "    <tr>\n",
       "      <th>0</th>\n",
       "      <td>2813</td>\n",
       "      <td>14.857656</td>\n",
       "    </tr>\n",
       "    <tr>\n",
       "      <th>1</th>\n",
       "      <td>3110</td>\n",
       "      <td>16.426346</td>\n",
       "    </tr>\n",
       "    <tr>\n",
       "      <th>2</th>\n",
       "      <td>13010</td>\n",
       "      <td>68.715999</td>\n",
       "    </tr>\n",
       "  </tbody>\n",
       "</table>\n",
       "</div>"
      ],
      "text/plain": [
       "         num_paper  num_paper(%)\n",
       "cluster                         \n",
       "0             2813     14.857656\n",
       "1             3110     16.426346\n",
       "2            13010     68.715999"
      ]
     },
     "execution_count": 172,
     "metadata": {},
     "output_type": "execute_result"
    }
   ],
   "source": [
    "model.get_num_paper(\"train\")"
   ]
  },
  {
   "cell_type": "code",
   "execution_count": 173,
   "id": "f4318a19-3344-4c4f-850d-0413c97fe5da",
   "metadata": {
    "tags": []
   },
   "outputs": [
    {
     "data": {
      "text/html": [
       "<div>\n",
       "<style scoped>\n",
       "    .dataframe tbody tr th:only-of-type {\n",
       "        vertical-align: middle;\n",
       "    }\n",
       "\n",
       "    .dataframe tbody tr th {\n",
       "        vertical-align: top;\n",
       "    }\n",
       "\n",
       "    .dataframe thead th {\n",
       "        text-align: right;\n",
       "    }\n",
       "</style>\n",
       "<table border=\"1\" class=\"dataframe\">\n",
       "  <thead>\n",
       "    <tr style=\"text-align: right;\">\n",
       "      <th></th>\n",
       "      <th>num_paper</th>\n",
       "      <th>num_paper(%)</th>\n",
       "    </tr>\n",
       "    <tr>\n",
       "      <th>cluster</th>\n",
       "      <th></th>\n",
       "      <th></th>\n",
       "    </tr>\n",
       "  </thead>\n",
       "  <tbody>\n",
       "    <tr>\n",
       "      <th>0</th>\n",
       "      <td>521</td>\n",
       "      <td>14.456160</td>\n",
       "    </tr>\n",
       "    <tr>\n",
       "      <th>1</th>\n",
       "      <td>577</td>\n",
       "      <td>16.009989</td>\n",
       "    </tr>\n",
       "    <tr>\n",
       "      <th>2</th>\n",
       "      <td>2506</td>\n",
       "      <td>69.533851</td>\n",
       "    </tr>\n",
       "  </tbody>\n",
       "</table>\n",
       "</div>"
      ],
      "text/plain": [
       "         num_paper  num_paper(%)\n",
       "cluster                         \n",
       "0              521     14.456160\n",
       "1              577     16.009989\n",
       "2             2506     69.533851"
      ]
     },
     "execution_count": 173,
     "metadata": {},
     "output_type": "execute_result"
    }
   ],
   "source": [
    "model.get_num_paper(\"val\")"
   ]
  },
  {
   "cell_type": "code",
   "execution_count": 174,
   "id": "2fc71c1f-b0fd-497c-8ff4-e1841f932897",
   "metadata": {
    "tags": []
   },
   "outputs": [
    {
     "name": "stderr",
     "output_type": "stream",
     "text": [
      "/tmp/ipykernel_237762/3103623400.py:79: SettingWithCopyWarning: \n",
      "A value is trying to be set on a copy of a slice from a DataFrame.\n",
      "Try using .loc[row_indexer,col_indexer] = value instead\n",
      "\n",
      "See the caveats in the documentation: https://pandas.pydata.org/pandas-docs/stable/user_guide/indexing.html#returning-a-view-versus-a-copy\n",
      "  exp_df['sum_id'] = suffix_dupIndex(exp_df.set_index(\"paper_id\"), add_one_subfix=True)\n"
     ]
    },
    {
     "name": "stdout",
     "output_type": "stream",
     "text": [
      "Saved 18933 sample to Ent_Rel/kmeans-k3-train-v1.csv\n"
     ]
    }
   ],
   "source": [
    "model.export_cluster(\"train\", exp_dir=\"Ent_Rel\")"
   ]
  },
  {
   "cell_type": "code",
   "execution_count": 175,
   "id": "3da34e73-535d-47fd-a308-386d584370ea",
   "metadata": {
    "tags": []
   },
   "outputs": [
    {
     "name": "stdout",
     "output_type": "stream",
     "text": [
      "Saved 3604 sample to Ent_Rel/kmeans-k3-val-v1.csv\n"
     ]
    },
    {
     "name": "stderr",
     "output_type": "stream",
     "text": [
      "/tmp/ipykernel_237762/3103623400.py:79: SettingWithCopyWarning: \n",
      "A value is trying to be set on a copy of a slice from a DataFrame.\n",
      "Try using .loc[row_indexer,col_indexer] = value instead\n",
      "\n",
      "See the caveats in the documentation: https://pandas.pydata.org/pandas-docs/stable/user_guide/indexing.html#returning-a-view-versus-a-copy\n",
      "  exp_df['sum_id'] = suffix_dupIndex(exp_df.set_index(\"paper_id\"), add_one_subfix=True)\n"
     ]
    }
   ],
   "source": [
    "model.export_cluster(\"val\", exp_dir=\"Ent_Rel\")"
   ]
  },
  {
   "cell_type": "markdown",
   "id": "2bfd93de-2df5-4ed2-90bd-e49ef37839dd",
   "metadata": {},
   "source": [
    "# Entity display"
   ]
  },
  {
   "cell_type": "code",
   "execution_count": 58,
   "id": "4aae40e0-deb2-4929-b378-51de66ee8d77",
   "metadata": {},
   "outputs": [],
   "source": [
    "import json\n",
    "def getDataset(dataset_name='MuP', section='summary', data_split='val'):\n",
    "    main_path = str((Path().absolute()).parents[0])\n",
    "    filepath = f\"{main_path}/PL-Marker/_scire_models/{dataset_name}/{section}/{data_split}_re.json\"\n",
    "    with open(filepath, 'r') as json_file:\n",
    "        json_list = list(json_file)\n",
    "    return [json.loads(json_str) for json_str in json_list]"
   ]
  },
  {
   "cell_type": "code",
   "execution_count": 59,
   "id": "f435a287-1f5f-4707-84f9-433f3db6e621",
   "metadata": {},
   "outputs": [],
   "source": [
    "import spacy\n",
    "from spacy import displacy\n",
    "from spacy.tokens import Span\n",
    "from pathlib import Path\n",
    "\n",
    "colors = {\n",
    "    'Task':     \"#DE3163\", \n",
    "    \"Method\":   \"#6495ED\", \n",
    "    \"Metric\":   \"#FF00FF\", \n",
    "    \"Material\": \"#40E0D0\", \n",
    "    \"OtherScientificTerm\": \"#9FE2BF\", \n",
    "    \"Generic\":  \"#FFBF00\",\n",
    "}\n",
    "options = {\"ents\": colors.keys(), \"colors\": colors, \"compact\": True,}\n",
    "nlp = spacy.load(\"en_core_web_sm\")\n",
    "\n",
    "def display_ent(data, savefile=None):\n",
    "    all_sentences = [j for i in data[\"sentences\"] for j in i]\n",
    "    flatten_ner = [j for i in data[\"predicted_ner\"] for j in i]\n",
    "\n",
    "    doc = nlp(\" \".join(all_sentences))\n",
    "    span_list = [Span(doc, start, end+1, ent_type) for start, end, ent_type in flatten_ner]\n",
    "    doc.set_ents(span_list)\n",
    "    ents = list(doc.ents)\n",
    "    result = displacy.render(doc, style=\"ent\", options=options)\n",
    "    if not (savefile is None):\n",
    "        output_path = Path(\"_output_imgs/\"+savefile)\n",
    "        output_path.open(\"w\", encoding=\"utf-8\").write(result)"
   ]
  },
  {
   "cell_type": "code",
   "execution_count": 69,
   "id": "d481b892-31f0-45a4-91f5-2a3e50678fb2",
   "metadata": {},
   "outputs": [
    {
     "name": "stdout",
     "output_type": "stream",
     "text": [
      "paper_id = 'SP:ae70788404df28dd3f2e3089960d4f4e4d965bda'\n"
     ]
    },
    {
     "data": {
      "text/html": [
       "<div>\n",
       "<style scoped>\n",
       "    .dataframe tbody tr th:only-of-type {\n",
       "        vertical-align: middle;\n",
       "    }\n",
       "\n",
       "    .dataframe tbody tr th {\n",
       "        vertical-align: top;\n",
       "    }\n",
       "\n",
       "    .dataframe thead th {\n",
       "        text-align: right;\n",
       "    }\n",
       "</style>\n",
       "<table border=\"1\" class=\"dataframe\">\n",
       "  <thead>\n",
       "    <tr style=\"text-align: right;\">\n",
       "      <th></th>\n",
       "      <th>doc_key</th>\n",
       "      <th>sentences</th>\n",
       "      <th>ner</th>\n",
       "      <th>relations</th>\n",
       "      <th>predicted_ner</th>\n",
       "      <th>predicted_re</th>\n",
       "    </tr>\n",
       "  </thead>\n",
       "  <tbody>\n",
       "    <tr>\n",
       "      <th>0</th>\n",
       "      <td>SP:4d08cdb2de2044bcb574a425b42963b83fbebfbc</td>\n",
       "      <td>[[This, paper, investigates, kernel, ridge, -,...</td>\n",
       "      <td>[[], [], [], []]</td>\n",
       "      <td>[[], [], [], []]</td>\n",
       "      <td>[[[3, 7, Method], [15, 16, OtherScientificTerm...</td>\n",
       "      <td>[[0, []], [1, [[[19, 20], [23, 24], 'USED-FOR'...</td>\n",
       "    </tr>\n",
       "    <tr>\n",
       "      <th>1</th>\n",
       "      <td>SP:b80bc890180934092cde037b49d94d6e4e06fad9</td>\n",
       "      <td>[[This, paper, presents, a, novel, way, of, ma...</td>\n",
       "      <td>[[], [], [], []]</td>\n",
       "      <td>[[], [], [], []]</td>\n",
       "      <td>[[[11, 13, Method], [16, 17, OtherScientificTe...</td>\n",
       "      <td>[[0, [[[11, 13], [16, 17], 'USED-FOR'], [[16, ...</td>\n",
       "    </tr>\n",
       "    <tr>\n",
       "      <th>2</th>\n",
       "      <td>SP:09f2fe6a482bbd6f9bd2c62aa841f995171ba939</td>\n",
       "      <td>[[This, paper, proposes, a, new, framework, th...</td>\n",
       "      <td>[[], [], [], []]</td>\n",
       "      <td>[[], [], [], []]</td>\n",
       "      <td>[[[5, 5, Generic], [9, 12, Method], [16, 17, O...</td>\n",
       "      <td>[[0, [[[9, 12], [16, 17], 'USED-FOR'], [[5, 5]...</td>\n",
       "    </tr>\n",
       "    <tr>\n",
       "      <th>3</th>\n",
       "      <td>SP:a1e2218e6943bf138aeb359e23628676b396ed66</td>\n",
       "      <td>[[This, work, proposes, a, deep, reinforcement...</td>\n",
       "      <td>[[], [], [], []]</td>\n",
       "      <td>[[], [], [], []]</td>\n",
       "      <td>[[[4, 10, Method], [13, 15, Task], [18, 20, Ta...</td>\n",
       "      <td>[[0, [[[4, 10], [13, 15], 'USED-FOR'], [[13, 1...</td>\n",
       "    </tr>\n",
       "    <tr>\n",
       "      <th>4</th>\n",
       "      <td>SP:43e525fb3fa611df7fd44bd3bc9843e57b154c66</td>\n",
       "      <td>[[This, paper, proposes, 3, deep, generative, ...</td>\n",
       "      <td>[[], [], []]</td>\n",
       "      <td>[[], [], []]</td>\n",
       "      <td>[[[4, 6, Method], [9, 9, Method], [13, 14, Oth...</td>\n",
       "      <td>[[0, [[[4, 6], [22, 26], 'USED-FOR'], [[13, 14...</td>\n",
       "    </tr>\n",
       "  </tbody>\n",
       "</table>\n",
       "</div>"
      ],
      "text/plain": [
       "                                       doc_key  \\\n",
       "0  SP:4d08cdb2de2044bcb574a425b42963b83fbebfbc   \n",
       "1  SP:b80bc890180934092cde037b49d94d6e4e06fad9   \n",
       "2  SP:09f2fe6a482bbd6f9bd2c62aa841f995171ba939   \n",
       "3  SP:a1e2218e6943bf138aeb359e23628676b396ed66   \n",
       "4  SP:43e525fb3fa611df7fd44bd3bc9843e57b154c66   \n",
       "\n",
       "                                           sentences               ner  \\\n",
       "0  [[This, paper, investigates, kernel, ridge, -,...  [[], [], [], []]   \n",
       "1  [[This, paper, presents, a, novel, way, of, ma...  [[], [], [], []]   \n",
       "2  [[This, paper, proposes, a, new, framework, th...  [[], [], [], []]   \n",
       "3  [[This, work, proposes, a, deep, reinforcement...  [[], [], [], []]   \n",
       "4  [[This, paper, proposes, 3, deep, generative, ...      [[], [], []]   \n",
       "\n",
       "          relations                                      predicted_ner  \\\n",
       "0  [[], [], [], []]  [[[3, 7, Method], [15, 16, OtherScientificTerm...   \n",
       "1  [[], [], [], []]  [[[11, 13, Method], [16, 17, OtherScientificTe...   \n",
       "2  [[], [], [], []]  [[[5, 5, Generic], [9, 12, Method], [16, 17, O...   \n",
       "3  [[], [], [], []]  [[[4, 10, Method], [13, 15, Task], [18, 20, Ta...   \n",
       "4      [[], [], []]  [[[4, 6, Method], [9, 9, Method], [13, 14, Oth...   \n",
       "\n",
       "                                        predicted_re  \n",
       "0  [[0, []], [1, [[[19, 20], [23, 24], 'USED-FOR'...  \n",
       "1  [[0, [[[11, 13], [16, 17], 'USED-FOR'], [[16, ...  \n",
       "2  [[0, [[[9, 12], [16, 17], 'USED-FOR'], [[5, 5]...  \n",
       "3  [[0, [[[4, 10], [13, 15], 'USED-FOR'], [[13, 1...  \n",
       "4  [[0, [[[4, 6], [22, 26], 'USED-FOR'], [[13, 14...  "
      ]
     },
     "execution_count": 69,
     "metadata": {},
     "output_type": "execute_result"
    }
   ],
   "source": [
    "ner_data = getDataset(dataset_name='MuP', data_split='train')\n",
    "ner_data = pd.DataFrame(ner_data)\n",
    "print(f\"{paper_id = }\")\n",
    "ner_data.head()"
   ]
  },
  {
   "cell_type": "code",
   "execution_count": 116,
   "id": "0c224b37-072c-4f59-b434-dad7b211bb27",
   "metadata": {
    "scrolled": true
   },
   "outputs": [
    {
     "data": {
      "text/html": [
       "<div>\n",
       "<style scoped>\n",
       "    .dataframe tbody tr th:only-of-type {\n",
       "        vertical-align: middle;\n",
       "    }\n",
       "\n",
       "    .dataframe tbody tr th {\n",
       "        vertical-align: top;\n",
       "    }\n",
       "\n",
       "    .dataframe thead th {\n",
       "        text-align: right;\n",
       "    }\n",
       "</style>\n",
       "<table border=\"1\" class=\"dataframe\">\n",
       "  <thead>\n",
       "    <tr style=\"text-align: right;\">\n",
       "      <th></th>\n",
       "      <th>paper_id</th>\n",
       "      <th>summary</th>\n",
       "      <th>cluster</th>\n",
       "    </tr>\n",
       "  </thead>\n",
       "  <tbody>\n",
       "    <tr>\n",
       "      <th>0</th>\n",
       "      <td>SP:4d08cdb2de2044bcb574a425b42963b83fbebfbc</td>\n",
       "      <td>This paper investigates kernel ridge - less re...</td>\n",
       "      <td>2</td>\n",
       "    </tr>\n",
       "    <tr>\n",
       "      <th>1</th>\n",
       "      <td>SP:b80bc890180934092cde037b49d94d6e4e06fad9</td>\n",
       "      <td>This paper presents a novel way of making full...</td>\n",
       "      <td>2</td>\n",
       "    </tr>\n",
       "    <tr>\n",
       "      <th>2</th>\n",
       "      <td>SP:09f2fe6a482bbd6f9bd2c62aa841f995171ba939</td>\n",
       "      <td>This paper proposes a new framework that compu...</td>\n",
       "      <td>2</td>\n",
       "    </tr>\n",
       "    <tr>\n",
       "      <th>3</th>\n",
       "      <td>SP:a1e2218e6943bf138aeb359e23628676b396ed66</td>\n",
       "      <td>This work proposes a deep reinforcement learni...</td>\n",
       "      <td>2</td>\n",
       "    </tr>\n",
       "    <tr>\n",
       "      <th>4</th>\n",
       "      <td>SP:43e525fb3fa611df7fd44bd3bc9843e57b154c66</td>\n",
       "      <td>This paper proposes 3 deep generative models b...</td>\n",
       "      <td>1</td>\n",
       "    </tr>\n",
       "    <tr>\n",
       "      <th>...</th>\n",
       "      <td>...</td>\n",
       "      <td>...</td>\n",
       "      <td>...</td>\n",
       "    </tr>\n",
       "    <tr>\n",
       "      <th>18928</th>\n",
       "      <td>SP:0d872fb4321f3a4a3fc61cf4d33b0c7e33f2d695</td>\n",
       "      <td>This paper presents a RNN - RL based method fo...</td>\n",
       "      <td>2</td>\n",
       "    </tr>\n",
       "    <tr>\n",
       "      <th>18929</th>\n",
       "      <td>SP:4706017e6f8b958c7d0825fed98b285ea2994b59</td>\n",
       "      <td>This paper proposes a new pointwise convolutio...</td>\n",
       "      <td>2</td>\n",
       "    </tr>\n",
       "    <tr>\n",
       "      <th>18930</th>\n",
       "      <td>SP:4706017e6f8b958c7d0825fed98b285ea2994b59</td>\n",
       "      <td>This paper presents a new pointwise convolutio...</td>\n",
       "      <td>0</td>\n",
       "    </tr>\n",
       "    <tr>\n",
       "      <th>18931</th>\n",
       "      <td>SP:63ad3be1dae7ede5c02a847304072c1cbc91b1cb</td>\n",
       "      <td>This paper proposes to model various uncertain...</td>\n",
       "      <td>1</td>\n",
       "    </tr>\n",
       "    <tr>\n",
       "      <th>18932</th>\n",
       "      <td>SP:63ad3be1dae7ede5c02a847304072c1cbc91b1cb</td>\n",
       "      <td>The authors proposed a Bayesian graph neural n...</td>\n",
       "      <td>0</td>\n",
       "    </tr>\n",
       "  </tbody>\n",
       "</table>\n",
       "<p>18933 rows × 3 columns</p>\n",
       "</div>"
      ],
      "text/plain": [
       "                                          paper_id  \\\n",
       "0      SP:4d08cdb2de2044bcb574a425b42963b83fbebfbc   \n",
       "1      SP:b80bc890180934092cde037b49d94d6e4e06fad9   \n",
       "2      SP:09f2fe6a482bbd6f9bd2c62aa841f995171ba939   \n",
       "3      SP:a1e2218e6943bf138aeb359e23628676b396ed66   \n",
       "4      SP:43e525fb3fa611df7fd44bd3bc9843e57b154c66   \n",
       "...                                            ...   \n",
       "18928  SP:0d872fb4321f3a4a3fc61cf4d33b0c7e33f2d695   \n",
       "18929  SP:4706017e6f8b958c7d0825fed98b285ea2994b59   \n",
       "18930  SP:4706017e6f8b958c7d0825fed98b285ea2994b59   \n",
       "18931  SP:63ad3be1dae7ede5c02a847304072c1cbc91b1cb   \n",
       "18932  SP:63ad3be1dae7ede5c02a847304072c1cbc91b1cb   \n",
       "\n",
       "                                                 summary  cluster  \n",
       "0      This paper investigates kernel ridge - less re...        2  \n",
       "1      This paper presents a novel way of making full...        2  \n",
       "2      This paper proposes a new framework that compu...        2  \n",
       "3      This work proposes a deep reinforcement learni...        2  \n",
       "4      This paper proposes 3 deep generative models b...        1  \n",
       "...                                                  ...      ...  \n",
       "18928  This paper presents a RNN - RL based method fo...        2  \n",
       "18929  This paper proposes a new pointwise convolutio...        2  \n",
       "18930  This paper presents a new pointwise convolutio...        0  \n",
       "18931  This paper proposes to model various uncertain...        1  \n",
       "18932  The authors proposed a Bayesian graph neural n...        0  \n",
       "\n",
       "[18933 rows x 3 columns]"
      ]
     },
     "execution_count": 116,
     "metadata": {},
     "output_type": "execute_result"
    }
   ],
   "source": [
    "cluster_train = model.cluster_dict[\"train\"].drop(columns=model.feature_col)\n",
    "cluster_train"
   ]
  },
  {
   "cell_type": "code",
   "execution_count": 116,
   "id": "30f704a4-8c25-4a6b-9c3c-d3e9f5c6d58b",
   "metadata": {},
   "outputs": [
    {
     "data": {
      "text/html": [
       "<div>\n",
       "<style scoped>\n",
       "    .dataframe tbody tr th:only-of-type {\n",
       "        vertical-align: middle;\n",
       "    }\n",
       "\n",
       "    .dataframe tbody tr th {\n",
       "        vertical-align: top;\n",
       "    }\n",
       "\n",
       "    .dataframe thead th {\n",
       "        text-align: right;\n",
       "    }\n",
       "</style>\n",
       "<table border=\"1\" class=\"dataframe\">\n",
       "  <thead>\n",
       "    <tr style=\"text-align: right;\">\n",
       "      <th></th>\n",
       "      <th>paper_id</th>\n",
       "      <th>summary</th>\n",
       "      <th>cluster</th>\n",
       "    </tr>\n",
       "  </thead>\n",
       "  <tbody>\n",
       "    <tr>\n",
       "      <th>0</th>\n",
       "      <td>SP:4d08cdb2de2044bcb574a425b42963b83fbebfbc</td>\n",
       "      <td>This paper investigates kernel ridge - less re...</td>\n",
       "      <td>2</td>\n",
       "    </tr>\n",
       "    <tr>\n",
       "      <th>1</th>\n",
       "      <td>SP:b80bc890180934092cde037b49d94d6e4e06fad9</td>\n",
       "      <td>This paper presents a novel way of making full...</td>\n",
       "      <td>2</td>\n",
       "    </tr>\n",
       "    <tr>\n",
       "      <th>2</th>\n",
       "      <td>SP:09f2fe6a482bbd6f9bd2c62aa841f995171ba939</td>\n",
       "      <td>This paper proposes a new framework that compu...</td>\n",
       "      <td>2</td>\n",
       "    </tr>\n",
       "    <tr>\n",
       "      <th>3</th>\n",
       "      <td>SP:a1e2218e6943bf138aeb359e23628676b396ed66</td>\n",
       "      <td>This work proposes a deep reinforcement learni...</td>\n",
       "      <td>2</td>\n",
       "    </tr>\n",
       "    <tr>\n",
       "      <th>4</th>\n",
       "      <td>SP:43e525fb3fa611df7fd44bd3bc9843e57b154c66</td>\n",
       "      <td>This paper proposes 3 deep generative models b...</td>\n",
       "      <td>1</td>\n",
       "    </tr>\n",
       "    <tr>\n",
       "      <th>...</th>\n",
       "      <td>...</td>\n",
       "      <td>...</td>\n",
       "      <td>...</td>\n",
       "    </tr>\n",
       "    <tr>\n",
       "      <th>18928</th>\n",
       "      <td>SP:0d872fb4321f3a4a3fc61cf4d33b0c7e33f2d695</td>\n",
       "      <td>This paper presents a RNN - RL based method fo...</td>\n",
       "      <td>2</td>\n",
       "    </tr>\n",
       "    <tr>\n",
       "      <th>18929</th>\n",
       "      <td>SP:4706017e6f8b958c7d0825fed98b285ea2994b59</td>\n",
       "      <td>This paper proposes a new pointwise convolutio...</td>\n",
       "      <td>2</td>\n",
       "    </tr>\n",
       "    <tr>\n",
       "      <th>18930</th>\n",
       "      <td>SP:4706017e6f8b958c7d0825fed98b285ea2994b59</td>\n",
       "      <td>This paper presents a new pointwise convolutio...</td>\n",
       "      <td>0</td>\n",
       "    </tr>\n",
       "    <tr>\n",
       "      <th>18931</th>\n",
       "      <td>SP:63ad3be1dae7ede5c02a847304072c1cbc91b1cb</td>\n",
       "      <td>This paper proposes to model various uncertain...</td>\n",
       "      <td>1</td>\n",
       "    </tr>\n",
       "    <tr>\n",
       "      <th>18932</th>\n",
       "      <td>SP:63ad3be1dae7ede5c02a847304072c1cbc91b1cb</td>\n",
       "      <td>The authors proposed a Bayesian graph neural n...</td>\n",
       "      <td>0</td>\n",
       "    </tr>\n",
       "  </tbody>\n",
       "</table>\n",
       "<p>18933 rows × 3 columns</p>\n",
       "</div>"
      ],
      "text/plain": [
       "                                          paper_id  \\\n",
       "0      SP:4d08cdb2de2044bcb574a425b42963b83fbebfbc   \n",
       "1      SP:b80bc890180934092cde037b49d94d6e4e06fad9   \n",
       "2      SP:09f2fe6a482bbd6f9bd2c62aa841f995171ba939   \n",
       "3      SP:a1e2218e6943bf138aeb359e23628676b396ed66   \n",
       "4      SP:43e525fb3fa611df7fd44bd3bc9843e57b154c66   \n",
       "...                                            ...   \n",
       "18928  SP:0d872fb4321f3a4a3fc61cf4d33b0c7e33f2d695   \n",
       "18929  SP:4706017e6f8b958c7d0825fed98b285ea2994b59   \n",
       "18930  SP:4706017e6f8b958c7d0825fed98b285ea2994b59   \n",
       "18931  SP:63ad3be1dae7ede5c02a847304072c1cbc91b1cb   \n",
       "18932  SP:63ad3be1dae7ede5c02a847304072c1cbc91b1cb   \n",
       "\n",
       "                                                 summary  cluster  \n",
       "0      This paper investigates kernel ridge - less re...        2  \n",
       "1      This paper presents a novel way of making full...        2  \n",
       "2      This paper proposes a new framework that compu...        2  \n",
       "3      This work proposes a deep reinforcement learni...        2  \n",
       "4      This paper proposes 3 deep generative models b...        1  \n",
       "...                                                  ...      ...  \n",
       "18928  This paper presents a RNN - RL based method fo...        2  \n",
       "18929  This paper proposes a new pointwise convolutio...        2  \n",
       "18930  This paper presents a new pointwise convolutio...        0  \n",
       "18931  This paper proposes to model various uncertain...        1  \n",
       "18932  The authors proposed a Bayesian graph neural n...        0  \n",
       "\n",
       "[18933 rows x 3 columns]"
      ]
     },
     "execution_count": 116,
     "metadata": {},
     "output_type": "execute_result"
    }
   ],
   "source": [
    "cluster_train = model.cluster_dict[\"train\"].drop(columns=model.feature_col)\n",
    "cluster_train"
   ]
  },
  {
   "cell_type": "code",
   "execution_count": 53,
   "id": "08a97808-4721-4cbe-a209-4836332dee7c",
   "metadata": {},
   "outputs": [
    {
     "data": {
      "text/plain": [
       "'SP:ae70788404df28dd3f2e3089960d4f4e4d965bda'"
      ]
     },
     "execution_count": 53,
     "metadata": {},
     "output_type": "execute_result"
    }
   ],
   "source": [
    "for paper_id in set(clust_df.paper_id):\n",
    "    no_clust=len(set(clust_df[clust_df.paper_id==paper_id].cluster))\n",
    "    if no_clust==3: break\n",
    "paper_id"
   ]
  },
  {
   "cell_type": "code",
   "execution_count": 67,
   "id": "f0f700ae-af45-4fb4-85e5-4f801e1277ce",
   "metadata": {},
   "outputs": [
    {
     "name": "stdout",
     "output_type": "stream",
     "text": [
      "15014\n"
     ]
    },
    {
     "data": {
      "text/html": [
       "<span class=\"tex2jax_ignore\"><div class=\"entities\" style=\"line-height: 2.5; direction: ltr\">This paper introduce a \n",
       "<mark class=\"entity\" style=\"background: #6495ED; padding: 0.45em 0.6em; margin: 0 0.25em; line-height: 1; border-radius: 0.35em;\">\n",
       "    universal module\n",
       "    <span style=\"font-size: 0.8em; font-weight: bold; line-height: 1; border-radius: 0.35em; vertical-align: middle; margin-left: 0.5rem\">Method</span>\n",
       "</mark>\n",
       " to improve \n",
       "<mark class=\"entity\" style=\"background: #6495ED; padding: 0.45em 0.6em; margin: 0 0.25em; line-height: 1; border-radius: 0.35em;\">\n",
       "    vision transformers\n",
       "    <span style=\"font-size: 0.8em; font-weight: bold; line-height: 1; border-radius: 0.35em; vertical-align: middle; margin-left: 0.5rem\">Method</span>\n",
       "</mark>\n",
       " . They show that \n",
       "<mark class=\"entity\" style=\"background: #6495ED; padding: 0.45em 0.6em; margin: 0 0.25em; line-height: 1; border-radius: 0.35em;\">\n",
       "    vision transformers\n",
       "    <span style=\"font-size: 0.8em; font-weight: bold; line-height: 1; border-radius: 0.35em; vertical-align: middle; margin-left: 0.5rem\">Method</span>\n",
       "</mark>\n",
       " suffer feature collapse , which mean that \n",
       "<mark class=\"entity\" style=\"background: #9FE2BF; padding: 0.45em 0.6em; margin: 0 0.25em; line-height: 1; border-radius: 0.35em;\">\n",
       "    features\n",
       "    <span style=\"font-size: 0.8em; font-weight: bold; line-height: 1; border-radius: 0.35em; vertical-align: middle; margin-left: 0.5rem\">OtherScientificTerm</span>\n",
       "</mark>\n",
       " in \n",
       "<mark class=\"entity\" style=\"background: #9FE2BF; padding: 0.45em 0.6em; margin: 0 0.25em; line-height: 1; border-radius: 0.35em;\">\n",
       "    deep layers\n",
       "    <span style=\"font-size: 0.8em; font-weight: bold; line-height: 1; border-radius: 0.35em; vertical-align: middle; margin-left: 0.5rem\">OtherScientificTerm</span>\n",
       "</mark>\n",
       " will become similar . To address , this paper presents an \n",
       "<mark class=\"entity\" style=\"background: #6495ED; padding: 0.45em 0.6em; margin: 0 0.25em; line-height: 1; border-radius: 0.35em;\">\n",
       "    augmented shortcut module\n",
       "    <span style=\"font-size: 0.8em; font-weight: bold; line-height: 1; border-radius: 0.35em; vertical-align: middle; margin-left: 0.5rem\">Method</span>\n",
       "</mark>\n",
       " to   be flexibly embedded into various \n",
       "<mark class=\"entity\" style=\"background: #6495ED; padding: 0.45em 0.6em; margin: 0 0.25em; line-height: 1; border-radius: 0.35em;\">\n",
       "    transformer models\n",
       "    <span style=\"font-size: 0.8em; font-weight: bold; line-height: 1; border-radius: 0.35em; vertical-align: middle; margin-left: 0.5rem\">Method</span>\n",
       "</mark>\n",
       " . Extensive experiments are conducted on \n",
       "<mark class=\"entity\" style=\"background: #FFBF00; padding: 0.45em 0.6em; margin: 0 0.25em; line-height: 1; border-radius: 0.35em;\">\n",
       "    multiple tasks\n",
       "    <span style=\"font-size: 0.8em; font-weight: bold; line-height: 1; border-radius: 0.35em; vertical-align: middle; margin-left: 0.5rem\">Generic</span>\n",
       "</mark>\n",
       " ( \n",
       "<mark class=\"entity\" style=\"background: #DE3163; padding: 0.45em 0.6em; margin: 0 0.25em; line-height: 1; border-radius: 0.35em;\">\n",
       "    image classification\n",
       "    <span style=\"font-size: 0.8em; font-weight: bold; line-height: 1; border-radius: 0.35em; vertical-align: middle; margin-left: 0.5rem\">Task</span>\n",
       "</mark>\n",
       " , \n",
       "<mark class=\"entity\" style=\"background: #DE3163; padding: 0.45em 0.6em; margin: 0 0.25em; line-height: 1; border-radius: 0.35em;\">\n",
       "    object detection\n",
       "    <span style=\"font-size: 0.8em; font-weight: bold; line-height: 1; border-radius: 0.35em; vertical-align: middle; margin-left: 0.5rem\">Task</span>\n",
       "</mark>\n",
       " , and \n",
       "<mark class=\"entity\" style=\"background: #DE3163; padding: 0.45em 0.6em; margin: 0 0.25em; line-height: 1; border-radius: 0.35em;\">\n",
       "    transfer learning\n",
       "    <span style=\"font-size: 0.8em; font-weight: bold; line-height: 1; border-radius: 0.35em; vertical-align: middle; margin-left: 0.5rem\">Task</span>\n",
       "</mark>\n",
       " ) , which show that \n",
       "<mark class=\"entity\" style=\"background: #6495ED; padding: 0.45em 0.6em; margin: 0 0.25em; line-height: 1; border-radius: 0.35em;\">\n",
       "    augmented shortcuts\n",
       "    <span style=\"font-size: 0.8em; font-weight: bold; line-height: 1; border-radius: 0.35em; vertical-align: middle; margin-left: 0.5rem\">Method</span>\n",
       "</mark>\n",
       " can bring obvious performance improvements . That is a good paper to me because of the new and effective \n",
       "<mark class=\"entity\" style=\"background: #FFBF00; padding: 0.45em 0.6em; margin: 0 0.25em; line-height: 1; border-radius: 0.35em;\">\n",
       "    module\n",
       "    <span style=\"font-size: 0.8em; font-weight: bold; line-height: 1; border-radius: 0.35em; vertical-align: middle; margin-left: 0.5rem\">Generic</span>\n",
       "</mark>\n",
       " which is a new investigation to the field .</div></span>"
      ],
      "text/plain": [
       "<IPython.core.display.HTML object>"
      ]
     },
     "metadata": {},
     "output_type": "display_data"
    },
    {
     "name": "stdout",
     "output_type": "stream",
     "text": [
      "15015\n"
     ]
    },
    {
     "data": {
      "text/html": [
       "<span class=\"tex2jax_ignore\"><div class=\"entities\" style=\"line-height: 2.5; direction: ltr\">This work proposes to boost the performance of \n",
       "<mark class=\"entity\" style=\"background: #6495ED; padding: 0.45em 0.6em; margin: 0 0.25em; line-height: 1; border-radius: 0.35em;\">\n",
       "    vision transformers\n",
       "    <span style=\"font-size: 0.8em; font-weight: bold; line-height: 1; border-radius: 0.35em; vertical-align: middle; margin-left: 0.5rem\">Method</span>\n",
       "</mark>\n",
       " from \n",
       "<mark class=\"entity\" style=\"background: #9FE2BF; padding: 0.45em 0.6em; margin: 0 0.25em; line-height: 1; border-radius: 0.35em;\">\n",
       "    shortcuts\n",
       "    <span style=\"font-size: 0.8em; font-weight: bold; line-height: 1; border-radius: 0.35em; vertical-align: middle; margin-left: 0.5rem\">OtherScientificTerm</span>\n",
       "</mark>\n",
       " . As analyzed , the \n",
       "<mark class=\"entity\" style=\"background: #FF00FF; padding: 0.45em 0.6em; margin: 0 0.25em; line-height: 1; border-radius: 0.35em;\">\n",
       "    feature diversity\n",
       "    <span style=\"font-size: 0.8em; font-weight: bold; line-height: 1; border-radius: 0.35em; vertical-align: middle; margin-left: 0.5rem\">Metric</span>\n",
       "</mark>\n",
       " of tokens declines as the \n",
       "<mark class=\"entity\" style=\"background: #9FE2BF; padding: 0.45em 0.6em; margin: 0 0.25em; line-height: 1; border-radius: 0.35em;\">\n",
       "    layers\n",
       "    <span style=\"font-size: 0.8em; font-weight: bold; line-height: 1; border-radius: 0.35em; vertical-align: middle; margin-left: 0.5rem\">OtherScientificTerm</span>\n",
       "</mark>\n",
       " go deeper while the \n",
       "<mark class=\"entity\" style=\"background: #9FE2BF; padding: 0.45em 0.6em; margin: 0 0.25em; line-height: 1; border-radius: 0.35em;\">\n",
       "    shortcut connection\n",
       "    <span style=\"font-size: 0.8em; font-weight: bold; line-height: 1; border-radius: 0.35em; vertical-align: middle; margin-left: 0.5rem\">OtherScientificTerm</span>\n",
       "</mark>\n",
       " provide a fix towards to potential \n",
       "<mark class=\"entity\" style=\"background: #9FE2BF; padding: 0.45em 0.6em; margin: 0 0.25em; line-height: 1; border-radius: 0.35em;\">\n",
       "    ` ` feature collapse '' issue\n",
       "    <span style=\"font-size: 0.8em; font-weight: bold; line-height: 1; border-radius: 0.35em; vertical-align: middle; margin-left: 0.5rem\">OtherScientificTerm</span>\n",
       "</mark>\n",
       " . To this end , additional branches of \n",
       "<mark class=\"entity\" style=\"background: #9FE2BF; padding: 0.45em 0.6em; margin: 0 0.25em; line-height: 1; border-radius: 0.35em;\">\n",
       "    augmented shortcut\n",
       "    <span style=\"font-size: 0.8em; font-weight: bold; line-height: 1; border-radius: 0.35em; vertical-align: middle; margin-left: 0.5rem\">OtherScientificTerm</span>\n",
       "</mark>\n",
       " is proposed to further improve the \n",
       "<mark class=\"entity\" style=\"background: #FF00FF; padding: 0.45em 0.6em; margin: 0 0.25em; line-height: 1; border-radius: 0.35em;\">\n",
       "    feature diversity\n",
       "    <span style=\"font-size: 0.8em; font-weight: bold; line-height: 1; border-radius: 0.35em; vertical-align: middle; margin-left: 0.5rem\">Metric</span>\n",
       "</mark>\n",
       " as well as the final \n",
       "<mark class=\"entity\" style=\"background: #FF00FF; padding: 0.45em 0.6em; margin: 0 0.25em; line-height: 1; border-radius: 0.35em;\">\n",
       "    recognition power\n",
       "    <span style=\"font-size: 0.8em; font-weight: bold; line-height: 1; border-radius: 0.35em; vertical-align: middle; margin-left: 0.5rem\">Metric</span>\n",
       "</mark>\n",
       " .</div></span>"
      ],
      "text/plain": [
       "<IPython.core.display.HTML object>"
      ]
     },
     "metadata": {},
     "output_type": "display_data"
    },
    {
     "name": "stdout",
     "output_type": "stream",
     "text": [
      "15016\n"
     ]
    },
    {
     "data": {
      "text/html": [
       "<span class=\"tex2jax_ignore\"><div class=\"entities\" style=\"line-height: 2.5; direction: ltr\">This paper observes the problem of \n",
       "<mark class=\"entity\" style=\"background: #DE3163; padding: 0.45em 0.6em; margin: 0 0.25em; line-height: 1; border-radius: 0.35em;\">\n",
       "    feature collapse\n",
       "    <span style=\"font-size: 0.8em; font-weight: bold; line-height: 1; border-radius: 0.35em; vertical-align: middle; margin-left: 0.5rem\">Task</span>\n",
       "</mark>\n",
       " in \n",
       "<mark class=\"entity\" style=\"background: #6495ED; padding: 0.45em 0.6em; margin: 0 0.25em; line-height: 1; border-radius: 0.35em;\">\n",
       "    transformer\n",
       "    <span style=\"font-size: 0.8em; font-weight: bold; line-height: 1; border-radius: 0.35em; vertical-align: middle; margin-left: 0.5rem\">Method</span>\n",
       "</mark>\n",
       " , where the tokens in \n",
       "<mark class=\"entity\" style=\"background: #9FE2BF; padding: 0.45em 0.6em; margin: 0 0.25em; line-height: 1; border-radius: 0.35em;\">\n",
       "    deep layers\n",
       "    <span style=\"font-size: 0.8em; font-weight: bold; line-height: 1; border-radius: 0.35em; vertical-align: middle; margin-left: 0.5rem\">OtherScientificTerm</span>\n",
       "</mark>\n",
       " collapse to the same \n",
       "<mark class=\"entity\" style=\"background: #FFBF00; padding: 0.45em 0.6em; margin: 0 0.25em; line-height: 1; border-radius: 0.35em;\">\n",
       "    representation\n",
       "    <span style=\"font-size: 0.8em; font-weight: bold; line-height: 1; border-radius: 0.35em; vertical-align: middle; margin-left: 0.5rem\">Generic</span>\n",
       "</mark>\n",
       " . It then proposes to add additional \n",
       "<mark class=\"entity\" style=\"background: #9FE2BF; padding: 0.45em 0.6em; margin: 0 0.25em; line-height: 1; border-radius: 0.35em;\">\n",
       "    augmented shortcuts\n",
       "    <span style=\"font-size: 0.8em; font-weight: bold; line-height: 1; border-radius: 0.35em; vertical-align: middle; margin-left: 0.5rem\">OtherScientificTerm</span>\n",
       "</mark>\n",
       " in parallel to the original \n",
       "<mark class=\"entity\" style=\"background: #9FE2BF; padding: 0.45em 0.6em; margin: 0 0.25em; line-height: 1; border-radius: 0.35em;\">\n",
       "    shortcut connection\n",
       "    <span style=\"font-size: 0.8em; font-weight: bold; line-height: 1; border-radius: 0.35em; vertical-align: middle; margin-left: 0.5rem\">OtherScientificTerm</span>\n",
       "</mark>\n",
       " in the \n",
       "<mark class=\"entity\" style=\"background: #6495ED; padding: 0.45em 0.6em; margin: 0 0.25em; line-height: 1; border-radius: 0.35em;\">\n",
       "    multihead self - attention modules\n",
       "    <span style=\"font-size: 0.8em; font-weight: bold; line-height: 1; border-radius: 0.35em; vertical-align: middle; margin-left: 0.5rem\">Method</span>\n",
       "</mark>\n",
       " and \n",
       "<mark class=\"entity\" style=\"background: #6495ED; padding: 0.45em 0.6em; margin: 0 0.25em; line-height: 1; border-radius: 0.35em;\">\n",
       "    MLP modules\n",
       "    <span style=\"font-size: 0.8em; font-weight: bold; line-height: 1; border-radius: 0.35em; vertical-align: middle; margin-left: 0.5rem\">Method</span>\n",
       "</mark>\n",
       " , based on the observation that simple \n",
       "<mark class=\"entity\" style=\"background: #9FE2BF; padding: 0.45em 0.6em; margin: 0 0.25em; line-height: 1; border-radius: 0.35em;\">\n",
       "    identity shortcut\n",
       "    <span style=\"font-size: 0.8em; font-weight: bold; line-height: 1; border-radius: 0.35em; vertical-align: middle; margin-left: 0.5rem\">OtherScientificTerm</span>\n",
       "</mark>\n",
       " alleviates the problem of \n",
       "<mark class=\"entity\" style=\"background: #9FE2BF; padding: 0.45em 0.6em; margin: 0 0.25em; line-height: 1; border-radius: 0.35em;\">\n",
       "    feature collapse\n",
       "    <span style=\"font-size: 0.8em; font-weight: bold; line-height: 1; border-radius: 0.35em; vertical-align: middle; margin-left: 0.5rem\">OtherScientificTerm</span>\n",
       "</mark>\n",
       " . In the experiments , the proposed \n",
       "<mark class=\"entity\" style=\"background: #FFBF00; padding: 0.45em 0.6em; margin: 0 0.25em; line-height: 1; border-radius: 0.35em;\">\n",
       "    method\n",
       "    <span style=\"font-size: 0.8em; font-weight: bold; line-height: 1; border-radius: 0.35em; vertical-align: middle; margin-left: 0.5rem\">Generic</span>\n",
       "</mark>\n",
       " brings 1.1 % performance gain in the \n",
       "<mark class=\"entity\" style=\"background: #DE3163; padding: 0.45em 0.6em; margin: 0 0.25em; line-height: 1; border-radius: 0.35em;\">\n",
       "    ImageNet classification task\n",
       "    <span style=\"font-size: 0.8em; font-weight: bold; line-height: 1; border-radius: 0.35em; vertical-align: middle; margin-left: 0.5rem\">Task</span>\n",
       "</mark>\n",
       " compared to the \n",
       "<mark class=\"entity\" style=\"background: #FFBF00; padding: 0.45em 0.6em; margin: 0 0.25em; line-height: 1; border-radius: 0.35em;\">\n",
       "    baseline model\n",
       "    <span style=\"font-size: 0.8em; font-weight: bold; line-height: 1; border-radius: 0.35em; vertical-align: middle; margin-left: 0.5rem\">Generic</span>\n",
       "</mark>\n",
       " . Performance gains can also be seen from \n",
       "<mark class=\"entity\" style=\"background: #DE3163; padding: 0.45em 0.6em; margin: 0 0.25em; line-height: 1; border-radius: 0.35em;\">\n",
       "    COCO detection task\n",
       "    <span style=\"font-size: 0.8em; font-weight: bold; line-height: 1; border-radius: 0.35em; vertical-align: middle; margin-left: 0.5rem\">Task</span>\n",
       "</mark>\n",
       " and other \n",
       "<mark class=\"entity\" style=\"background: #DE3163; padding: 0.45em 0.6em; margin: 0 0.25em; line-height: 1; border-radius: 0.35em;\">\n",
       "    downstream finegrained classification tasks\n",
       "    <span style=\"font-size: 0.8em; font-weight: bold; line-height: 1; border-radius: 0.35em; vertical-align: middle; margin-left: 0.5rem\">Task</span>\n",
       "</mark>\n",
       " , as compared to the \n",
       "<mark class=\"entity\" style=\"background: #FFBF00; padding: 0.45em 0.6em; margin: 0 0.25em; line-height: 1; border-radius: 0.35em;\">\n",
       "    baseline models\n",
       "    <span style=\"font-size: 0.8em; font-weight: bold; line-height: 1; border-radius: 0.35em; vertical-align: middle; margin-left: 0.5rem\">Generic</span>\n",
       "</mark>\n",
       " .</div></span>"
      ],
      "text/plain": [
       "<IPython.core.display.HTML object>"
      ]
     },
     "metadata": {},
     "output_type": "display_data"
    },
    {
     "name": "stdout",
     "output_type": "stream",
     "text": [
      "15017\n"
     ]
    },
    {
     "data": {
      "text/html": [
       "<span class=\"tex2jax_ignore\"><div class=\"entities\" style=\"line-height: 2.5; direction: ltr\">This paper alleviates \n",
       "<mark class=\"entity\" style=\"background: #9FE2BF; padding: 0.45em 0.6em; margin: 0 0.25em; line-height: 1; border-radius: 0.35em;\">\n",
       "    feature collapse\n",
       "    <span style=\"font-size: 0.8em; font-weight: bold; line-height: 1; border-radius: 0.35em; vertical-align: middle; margin-left: 0.5rem\">OtherScientificTerm</span>\n",
       "</mark>\n",
       " in \n",
       "<mark class=\"entity\" style=\"background: #DE3163; padding: 0.45em 0.6em; margin: 0 0.25em; line-height: 1; border-radius: 0.35em;\">\n",
       "    vision transformers\n",
       "    <span style=\"font-size: 0.8em; font-weight: bold; line-height: 1; border-radius: 0.35em; vertical-align: middle; margin-left: 0.5rem\">Task</span>\n",
       "</mark>\n",
       " by introducing an efficient \n",
       "<mark class=\"entity\" style=\"background: #FFBF00; padding: 0.45em 0.6em; margin: 0 0.25em; line-height: 1; border-radius: 0.35em;\">\n",
       "    module\n",
       "    <span style=\"font-size: 0.8em; font-weight: bold; line-height: 1; border-radius: 0.35em; vertical-align: middle; margin-left: 0.5rem\">Generic</span>\n",
       "</mark>\n",
       " , named \n",
       "<mark class=\"entity\" style=\"background: #6495ED; padding: 0.45em 0.6em; margin: 0 0.25em; line-height: 1; border-radius: 0.35em;\">\n",
       "    augmented shortcut\n",
       "    <span style=\"font-size: 0.8em; font-weight: bold; line-height: 1; border-radius: 0.35em; vertical-align: middle; margin-left: 0.5rem\">Method</span>\n",
       "</mark>\n",
       " . As shown in the theoretical and empirical results , the \n",
       "<mark class=\"entity\" style=\"background: #9FE2BF; padding: 0.45em 0.6em; margin: 0 0.25em; line-height: 1; border-radius: 0.35em;\">\n",
       "    feature diversity\n",
       "    <span style=\"font-size: 0.8em; font-weight: bold; line-height: 1; border-radius: 0.35em; vertical-align: middle; margin-left: 0.5rem\">OtherScientificTerm</span>\n",
       "</mark>\n",
       " is enhanced and obvious performance improvement is achieved . The authors conduct experiments with various \n",
       "<mark class=\"entity\" style=\"background: #6495ED; padding: 0.45em 0.6em; margin: 0 0.25em; line-height: 1; border-radius: 0.35em;\">\n",
       "    SOTA vision transformer models\n",
       "    <span style=\"font-size: 0.8em; font-weight: bold; line-height: 1; border-radius: 0.35em; vertical-align: middle; margin-left: 0.5rem\">Method</span>\n",
       "</mark>\n",
       " and validate the effectiveness of the proposed \n",
       "<mark class=\"entity\" style=\"background: #6495ED; padding: 0.45em 0.6em; margin: 0 0.25em; line-height: 1; border-radius: 0.35em;\">\n",
       "    augmented shortcuts\n",
       "    <span style=\"font-size: 0.8em; font-weight: bold; line-height: 1; border-radius: 0.35em; vertical-align: middle; margin-left: 0.5rem\">Method</span>\n",
       "</mark>\n",
       " .</div></span>"
      ],
      "text/plain": [
       "<IPython.core.display.HTML object>"
      ]
     },
     "metadata": {},
     "output_type": "display_data"
    }
   ],
   "source": [
    "for idx, row in dataset[dataset.doc_key==paper_id].iterrows():\n",
    "    print(idx)\n",
    "    display_ent(row)\n",
    "    # break"
   ]
  },
  {
   "cell_type": "code",
   "execution_count": null,
   "id": "b2d77275-3e76-4f68-93c1-0ae088cf1eed",
   "metadata": {},
   "outputs": [],
   "source": [
    " "
   ]
  }
 ],
 "metadata": {
  "kernelspec": {
   "display_name": "Python 3 (ipykernel)",
   "language": "python",
   "name": "python3"
  },
  "language_info": {
   "codemirror_mode": {
    "name": "ipython",
    "version": 3
   },
   "file_extension": ".py",
   "mimetype": "text/x-python",
   "name": "python",
   "nbconvert_exporter": "python",
   "pygments_lexer": "ipython3",
   "version": "3.10.6"
  }
 },
 "nbformat": 4,
 "nbformat_minor": 5
}
