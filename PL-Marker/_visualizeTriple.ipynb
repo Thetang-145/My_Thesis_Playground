{
 "cells": [
  {
   "cell_type": "code",
   "execution_count": 1,
   "id": "8dd3dc61-bc1b-498d-889a-1981cfc62340",
   "metadata": {},
   "outputs": [],
   "source": [
    "import json\n",
    "import sys\n",
    "import pandas as pd\n",
    "import matplotlib.pyplot as plt"
   ]
  },
  {
   "cell_type": "code",
   "execution_count": 2,
   "id": "0808a7da-aa2c-47a1-b1ca-35052f1c5e0a",
   "metadata": {},
   "outputs": [],
   "source": [
    "FILEPATHS = {\n",
    "    \"NER\": {\n",
    "        \"train\": \"_sciner_models/summary/train_ner.json\",\n",
    "        \"val\": \"_sciner_models/summary/val_ner.json\",\n",
    "    },\n",
    "    \"RE\": {\n",
    "        \"train\": \"_scire_models/summary/train_re.json\",\n",
    "        \"val\": \"_scire_models/summary/val_re.json\",\n",
    "    }\n",
    "}"
   ]
  },
  {
   "cell_type": "code",
   "execution_count": 3,
   "id": "11e154ab-c77f-40bc-a2d2-9444862f1095",
   "metadata": {},
   "outputs": [],
   "source": [
    "def print_progress(curr, full, prefix=\"\", bar_size=30):    \n",
    "    bar = int((curr+1)/full*bar_size)\n",
    "    sys.stdout.write(f\"\\r{prefix}[{'='*bar}{' '*(bar_size-bar)}] {curr+1}/{full}\")\n",
    "    sys.stdout.flush()\n",
    "    "
   ]
  },
  {
   "cell_type": "code",
   "execution_count": 4,
   "id": "50b66aba-41be-4f36-aa40-b0fe968e27b5",
   "metadata": {},
   "outputs": [
    {
     "name": "stdout",
     "output_type": "stream",
     "text": [
      "{'doc_key': 'SP:7f4b788b00a2a10bcd60351c3e04c8f597101e96', 'sentences': [['This', 'paper', 'studies', 'FL', 'under', 'local', 'differential', 'privacy', 'constraints', '.'], ['They', 'identify', 'two', 'major', 'concerns', 'in', 'designing', 'practical', 'privacy', '-', 'preserving', 'FL', 'algorithms', ':', 'communication', 'efficiency', 'and', 'high\\x02dimensional', 'compatibility', ',', 'and', 'develop', 'a', 'gradient', '-', 'based', 'learning', 'algorithm', 'sqSGD', 'that', 'addresses', 'both', 'concerns', '.'], ['They', 'improve', 'the', 'base', 'algorithm', 'in', 'two', 'ways', ':', 'First', ',', 'apply', 'a', 'gradient', 'subsampling', 'strategy', 'that', 'offers', 'simultaneously', 'better', 'training', 'performance', 'and', 'smaller', 'communication', 'costs', '.'], ['Secondly', ',', 'utilize', 'randomized', 'rotation', 'as', 'a', 'preprocessing', 'step', 'to', 'reduce', 'quantization', 'error', '.']], 'ner': [[], [], [], []], 'relations': [[], [], [], []], 'predicted_ner': [[[3, 3, 'Task'], [5, 8, 'OtherScientificTerm']], [[18, 22, 'Method'], [24, 25, 'Metric'], [27, 28, 'Metric'], [33, 38, 'Method']], [[47, 48, 'Generic'], [57, 59, 'Method'], [68, 69, 'Metric']], [[74, 75, 'Method'], [82, 83, 'OtherScientificTerm']]]}\n"
     ]
    }
   ],
   "source": [
    "filepath = FILEPATHS[\"NER\"][\"val\"]\n",
    "with open(filepath, 'r') as json_file:\n",
    "    json_list = list(json_file)\n",
    "data_ner = [json.loads(json_str) for json_str in json_list]\n",
    "print(data_ner[0])"
   ]
  },
  {
   "cell_type": "code",
   "execution_count": 5,
   "id": "181d98a6-d7e5-425b-b9aa-b4f51381774e",
   "metadata": {},
   "outputs": [
    {
     "name": "stdout",
     "output_type": "stream",
     "text": [
      "Sentence 0: \n",
      "This paper studies FL under local differential privacy constraints .\n",
      "\t                Task: FL                                                \n",
      "\t OtherScientificTerm: local differential privacy constraints            \n",
      "\n",
      "Sentence 1: \n",
      "They identify two major concerns in designing practical privacy - preserving FL algorithms : communication efficiency and high\u0002dimensional compatibility , and develop a gradient - based learning algorithm sqSGD that addresses both concerns .\n",
      "\t              Method: privacy - preserving FL algorithms                \n",
      "\t              Metric: communication efficiency                          \n",
      "\t              Metric: high\u0002dimensional compatibility                    \n",
      "\t              Method: gradient - based learning algorithm sqSGD         \n",
      "\n",
      "Sentence 2: \n",
      "They improve the base algorithm in two ways : First , apply a gradient subsampling strategy that offers simultaneously better training performance and smaller communication costs .\n",
      "\t             Generic: base algorithm                                    \n",
      "\t              Method: gradient subsampling strategy                     \n",
      "\t              Metric: communication costs                               \n",
      "\n",
      "Sentence 3: \n",
      "Secondly , utilize randomized rotation as a preprocessing step to reduce quantization error .\n",
      "\t              Method: randomized rotation                               \n",
      "\t OtherScientificTerm: quantization error                                \n",
      "\n"
     ]
    }
   ],
   "source": [
    "result = data_ner[0]\n",
    "all_sentences = [j for i in result[\"sentences\"] for j in i]\n",
    "\n",
    "for idx, sent in enumerate(result[\"sentences\"]):\n",
    "    print(f\"Sentence {idx}: \")\n",
    "    print(\" \".join(sent))\n",
    "    for pred_ner in result[\"predicted_ner\"][idx]:\n",
    "        start_idx = pred_ner[0]\n",
    "        end_idx   = pred_ner[1]+1\n",
    "        ent       = \" \".join(all_sentences[start_idx:end_idx])\n",
    "        print(\"\\t{: >20}: {: <50}\".format(pred_ner[2], ent))\n",
    "    print()"
   ]
  },
  {
   "cell_type": "code",
   "execution_count": 6,
   "id": "6a8f402e-6def-4866-9b55-844068fbd9d1",
   "metadata": {},
   "outputs": [],
   "source": [
    "filepath = FILEPATHS[\"RE\"][\"val\"]\n",
    "with open(filepath, 'r') as json_file:\n",
    "    json_list = list(json_file)\n",
    "data_len = len(json_list)\n",
    "data_re = [json.loads(json_str) for json_str in json_list]"
   ]
  },
  {
   "cell_type": "code",
   "execution_count": 7,
   "id": "201d5d43-d5d5-4174-9eb5-f4c94ca82ca9",
   "metadata": {},
   "outputs": [
    {
     "name": "stdout",
     "output_type": "stream",
     "text": [
      "{'doc_key': 'SP:7f4b788b00a2a10bcd60351c3e04c8f597101e96', 'sentences': [['The', 'paper', 'proposed', 'a', 'differentially', 'private', 'training', 'algorithm', 'for', 'federated', 'learning', '.'], ['The', 'target', 'is', 'to', 'achieve', 'communication', 'reduction', 'while', 'keeping', 'differential', 'privacy', 'during', 'training', '.'], ['The', 'proposed', 'algorithm', 'adds', 'a', 'few', 'new', 'components', 'to', 'SGD', ',', 'including', 'a', 'privacy', 'mechanism', ',', 'a', 'random', 'rotation', 'to', 'reduce', 'quantization', 'error', ',', 'a', 'gradient', 'coordinate', 'selection', 'mechanism', 'to', 'reduce', 'communication', '/', 'computation', '.'], ['Experiments', 'with', 'high', '\\\\epsilon', 'local', 'differentially', 'privacy', 'guarantees', 'are', 'conducted', '.'], ['The', 'proposed', 'algorithm', 'outperforms', 'a', 'baseline', 'algorithm', '.']], 'ner': [[], [], [], [], []], 'relations': [[], [], [], [], []], 'predicted_ner': [[[4, 7, 'Method'], [9, 10, 'Method']], [[17, 18, 'Task'], [21, 22, 'OtherScientificTerm']], [[28, 28, 'Generic'], [33, 33, 'Generic'], [35, 35, 'Method'], [39, 40, 'Method'], [43, 44, 'Method'], [47, 48, 'OtherScientificTerm'], [51, 54, 'Method'], [57, 59, 'OtherScientificTerm']], [[63, 68, 'OtherScientificTerm']], [[74, 74, 'Generic'], [77, 78, 'Generic']]], 'predicted_re': [[0, [[[4, 7], [9, 10], 'USED-FOR']]], [1, []], [2, [[[39, 40], [43, 44], 'CONJUNCTION'], [[43, 44], [47, 48], 'USED-FOR'], [[43, 44], [51, 54], 'CONJUNCTION'], [[51, 54], [57, 59], 'USED-FOR'], [[28, 28], [35, 35], 'USED-FOR'], [[33, 33], [35, 35], 'USED-FOR'], [[33, 33], [28, 28], 'PART-OF'], [[43, 44], [33, 33], 'PART-OF'], [[51, 54], [33, 33], 'PART-OF'], [[39, 40], [33, 33], 'PART-OF']]], [3, []], [4, [[[74, 74], [77, 78], 'COMPARE']]]]}\n"
     ]
    }
   ],
   "source": [
    "result = data_re[2]\n",
    "print(result)"
   ]
  },
  {
   "cell_type": "code",
   "execution_count": 8,
   "id": "9c3cd981-1238-49b1-825d-25d7da71b327",
   "metadata": {},
   "outputs": [
    {
     "name": "stdout",
     "output_type": "stream",
     "text": [
      "Sentence 0: \n",
      "The paper proposed a differentially private training algorithm for federated learning .\n",
      "[Entity type]\n",
      "\t              Method: differentially private training algorithm         \n",
      "\t              Method: federated learning                                \n",
      "[Triples]\n",
      "(differentially private training algorithm) (USED-FOR) (federated learning)\n",
      "\n",
      "Sentence 1: \n",
      "The target is to achieve communication reduction while keeping differential privacy during training .\n",
      "[Entity type]\n",
      "\t                Task: communication reduction                           \n",
      "\t OtherScientificTerm: differential privacy                              \n",
      "[Triples]\n",
      "\n",
      "Sentence 2: \n",
      "The proposed algorithm adds a few new components to SGD , including a privacy mechanism , a random rotation to reduce quantization error , a gradient coordinate selection mechanism to reduce communication / computation .\n",
      "[Entity type]\n",
      "\t             Generic: algorithm                                         \n",
      "\t             Generic: components                                        \n",
      "\t              Method: SGD                                               \n",
      "\t              Method: privacy mechanism                                 \n",
      "\t              Method: random rotation                                   \n",
      "\t OtherScientificTerm: quantization error                                \n",
      "\t              Method: gradient coordinate selection mechanism           \n",
      "\t OtherScientificTerm: communication / computation                       \n",
      "[Triples]\n",
      "(privacy mechanism) (CONJUNCTION) (random rotation)\n",
      "(random rotation) (USED-FOR) (quantization error)\n",
      "(random rotation) (CONJUNCTION) (gradient coordinate selection mechanism)\n",
      "(gradient coordinate selection mechanism) (USED-FOR) (communication / computation)\n",
      "(algorithm) (USED-FOR) (SGD)\n",
      "(components) (USED-FOR) (SGD)\n",
      "(components) (PART-OF) (algorithm)\n",
      "(random rotation) (PART-OF) (components)\n",
      "(gradient coordinate selection mechanism) (PART-OF) (components)\n",
      "(privacy mechanism) (PART-OF) (components)\n",
      "\n",
      "Sentence 3: \n",
      "Experiments with high \\epsilon local differentially privacy guarantees are conducted .\n",
      "[Entity type]\n",
      "\t OtherScientificTerm: high \\epsilon local differentially privacy guarantees\n",
      "[Triples]\n",
      "\n",
      "Sentence 4: \n",
      "The proposed algorithm outperforms a baseline algorithm .\n",
      "[Entity type]\n",
      "\t             Generic: algorithm                                         \n",
      "\t             Generic: baseline algorithm                                \n",
      "[Triples]\n",
      "(algorithm) (COMPARE) (baseline algorithm)\n",
      "\n"
     ]
    }
   ],
   "source": [
    "all_sentences = [j for i in result[\"sentences\"] for j in i]\n",
    "for idx, sent in enumerate(result[\"sentences\"]):\n",
    "    print(f\"Sentence {idx}: \")\n",
    "    print(\" \".join(sent))\n",
    "    print(f\"[Entity type]\")\n",
    "    for pred_ner in result[\"predicted_ner\"][idx]:\n",
    "        start_idx = pred_ner[0]\n",
    "        end_idx   = pred_ner[1]+1\n",
    "        ent       = \" \".join(all_sentences[start_idx:end_idx])\n",
    "        print(\"\\t{: >20}: {: <50}\".format(pred_ner[2], ent))\n",
    "    print(f\"[Triples]\")\n",
    "    for re in result[\"predicted_re\"][idx][1]:\n",
    "        s = \" \".join(all_sentences[re[0][0]:(re[0][1]+1)])\n",
    "        p = re[2]\n",
    "        o = \" \".join(all_sentences[re[1][0]:(re[1][1]+1)])\n",
    "        print(f\"({s}) ({p}) ({o})\")\n",
    "    \n",
    "    print()"
   ]
  },
  {
   "cell_type": "code",
   "execution_count": 17,
   "id": "77195e7f-b219-4784-88b6-d465f08162e5",
   "metadata": {},
   "outputs": [],
   "source": [
    "def display_triple(sent, rel=\"\"):\n",
    "    # s_inx_beg = rel[0][0]\n",
    "    # s_inx_end = rel[0][1]+1\n",
    "    # o_inx_beg = rel[1][0]\n",
    "    # o_inx_end = rel[1][1]+1\n",
    "    # s = \" \".join(all_sentences[s_inx_beg:s_inx_end])\n",
    "    # p = re[2]\n",
    "    # s = \" \".join(all_sentences[o_inx_beg:o_inx_end])\n",
    "    for w in sent:\n",
    "        print(f\"{w}\", end=\" \")"
   ]
  },
  {
   "cell_type": "code",
   "execution_count": 18,
   "id": "ff0b235f-919b-43ba-a5ed-7625c5d3bd98",
   "metadata": {},
   "outputs": [
    {
     "name": "stdout",
     "output_type": "stream",
     "text": [
      "The paper proposed a differentially private training algorithm for federated learning . The target is to achieve communication reduction while keeping differential privacy during training . The proposed algorithm adds a few new components to SGD , including a privacy mechanism , a random rotation to reduce quantization error , a gradient coordinate selection mechanism to reduce communication / computation . Experiments with high \\epsilon local differentially privacy guarantees are conducted . The proposed algorithm outperforms a baseline algorithm . "
     ]
    }
   ],
   "source": [
    "display_triple(all_sentences)"
   ]
  },
  {
   "cell_type": "code",
   "execution_count": 11,
   "id": "5cac0312-4cc3-432b-ab50-358a3b25152b",
   "metadata": {},
   "outputs": [],
   "source": [
    "import spacy\n",
    "from spacy import displacy\n",
    "from spacy.tokens import Span\n",
    "from pathlib import Path\n",
    "\n",
    "colors = {\n",
    "    'Task':     \"#DE3163\", \n",
    "    \"Method\":   \"#6495ED\", \n",
    "    \"Metric\":   \"#FF00FF\", \n",
    "    \"Material\": \"#40E0D0\", \n",
    "    \"Generic\":  \"#FFBF00\",\n",
    "    \"OtherScientificTerm\": \"#9FE2BF\", \n",
    "}\n",
    "options = {\"ents\": colors.keys(), \"colors\": colors, \"compact\": True,}\n",
    "nlp = spacy.load(\"en_core_web_sm\")\n",
    "\n",
    "def display_ent(doc, ents, savefile=None):\n",
    "    doc = nlp(doc)\n",
    "    span_list = [Span(doc, start, end+1, ent_type) for start, end, ent_type in ents]\n",
    "    doc.set_ents(span_list)\n",
    "    ents = list(doc.ents)\n",
    "    result = displacy.render(doc, style=\"ent\", options=options)\n",
    "    if not (savefile is None):\n",
    "        output_path = Path(\"_output_imgs/\"+savefile)\n",
    "        output_path.open(\"w\", encoding=\"utf-8\").write(result)"
   ]
  },
  {
   "cell_type": "code",
   "execution_count": 12,
   "id": "9615a3fa-7dc2-4704-8522-2ff87e1e64d9",
   "metadata": {},
   "outputs": [],
   "source": [
    "def display_graph(doc, rels):\n",
    "    pass"
   ]
  },
  {
   "cell_type": "code",
   "execution_count": 13,
   "id": "afaec8b0-a63e-42e0-ab92-a33c59dd1da7",
   "metadata": {},
   "outputs": [
    {
     "name": "stdout",
     "output_type": "stream",
     "text": [
      "[0, [[[4, 7], [9, 10], 'USED-FOR']]]\n",
      "[1, []]\n",
      "[2, [[[39, 40], [43, 44], 'CONJUNCTION'], [[43, 44], [47, 48], 'USED-FOR'], [[43, 44], [51, 54], 'CONJUNCTION'], [[51, 54], [57, 59], 'USED-FOR'], [[28, 28], [35, 35], 'USED-FOR'], [[33, 33], [35, 35], 'USED-FOR'], [[33, 33], [28, 28], 'PART-OF'], [[43, 44], [33, 33], 'PART-OF'], [[51, 54], [33, 33], 'PART-OF'], [[39, 40], [33, 33], 'PART-OF']]]\n",
      "[3, []]\n",
      "[4, [[[74, 74], [77, 78], 'COMPARE']]]\n"
     ]
    }
   ],
   "source": [
    "flatten_ner = [j for i in result[\"predicted_ner\"] for j in i]\n",
    "flatten_re  = [j for i in result[\"predicted_re\"] for j in i[1]]\n",
    "for i in result[\"predicted_re\"]:\n",
    "    print(i)"
   ]
  },
  {
   "cell_type": "code",
   "execution_count": 15,
   "id": "46f7b724-b91a-4665-aa8e-ee3515ba5760",
   "metadata": {},
   "outputs": [
    {
     "name": "stdout",
     "output_type": "stream",
     "text": [
      "\t              Method: differentially private training algorithm         \n",
      "\t              Method: federated learning                                \n",
      "\t                Task: communication reduction                           \n",
      "\t OtherScientificTerm: differential privacy                              \n",
      "\t             Generic: algorithm                                         \n",
      "\t             Generic: components                                        \n",
      "\t              Method: SGD                                               \n",
      "\t              Method: privacy mechanism                                 \n",
      "\t              Method: random rotation                                   \n",
      "\t OtherScientificTerm: quantization error                                \n",
      "\t              Method: gradient coordinate selection mechanism           \n",
      "\t OtherScientificTerm: communication / computation                       \n",
      "\t OtherScientificTerm: high \\epsilon local differentially privacy guarantees\n",
      "\t             Generic: algorithm                                         \n",
      "\t             Generic: baseline algorithm                                \n"
     ]
    },
    {
     "data": {
      "text/html": [
       "<span class=\"tex2jax_ignore\"><div class=\"entities\" style=\"line-height: 2.5; direction: ltr\">The paper proposed a \n",
       "<mark class=\"entity\" style=\"background: #6495ED; padding: 0.45em 0.6em; margin: 0 0.25em; line-height: 1; border-radius: 0.35em;\">\n",
       "    differentially private training algorithm\n",
       "    <span style=\"font-size: 0.8em; font-weight: bold; line-height: 1; border-radius: 0.35em; vertical-align: middle; margin-left: 0.5rem\">Method</span>\n",
       "</mark>\n",
       " for \n",
       "<mark class=\"entity\" style=\"background: #6495ED; padding: 0.45em 0.6em; margin: 0 0.25em; line-height: 1; border-radius: 0.35em;\">\n",
       "    federated learning\n",
       "    <span style=\"font-size: 0.8em; font-weight: bold; line-height: 1; border-radius: 0.35em; vertical-align: middle; margin-left: 0.5rem\">Method</span>\n",
       "</mark>\n",
       " . The target is to achieve \n",
       "<mark class=\"entity\" style=\"background: #DE3163; padding: 0.45em 0.6em; margin: 0 0.25em; line-height: 1; border-radius: 0.35em;\">\n",
       "    communication reduction\n",
       "    <span style=\"font-size: 0.8em; font-weight: bold; line-height: 1; border-radius: 0.35em; vertical-align: middle; margin-left: 0.5rem\">Task</span>\n",
       "</mark>\n",
       " while keeping \n",
       "<mark class=\"entity\" style=\"background: #9FE2BF; padding: 0.45em 0.6em; margin: 0 0.25em; line-height: 1; border-radius: 0.35em;\">\n",
       "    differential privacy\n",
       "    <span style=\"font-size: 0.8em; font-weight: bold; line-height: 1; border-radius: 0.35em; vertical-align: middle; margin-left: 0.5rem\">OtherScientificTerm</span>\n",
       "</mark>\n",
       " during training . The proposed \n",
       "<mark class=\"entity\" style=\"background: #FFBF00; padding: 0.45em 0.6em; margin: 0 0.25em; line-height: 1; border-radius: 0.35em;\">\n",
       "    algorithm\n",
       "    <span style=\"font-size: 0.8em; font-weight: bold; line-height: 1; border-radius: 0.35em; vertical-align: middle; margin-left: 0.5rem\">Generic</span>\n",
       "</mark>\n",
       " adds a few new \n",
       "<mark class=\"entity\" style=\"background: #FFBF00; padding: 0.45em 0.6em; margin: 0 0.25em; line-height: 1; border-radius: 0.35em;\">\n",
       "    components\n",
       "    <span style=\"font-size: 0.8em; font-weight: bold; line-height: 1; border-radius: 0.35em; vertical-align: middle; margin-left: 0.5rem\">Generic</span>\n",
       "</mark>\n",
       " to \n",
       "<mark class=\"entity\" style=\"background: #6495ED; padding: 0.45em 0.6em; margin: 0 0.25em; line-height: 1; border-radius: 0.35em;\">\n",
       "    SGD\n",
       "    <span style=\"font-size: 0.8em; font-weight: bold; line-height: 1; border-radius: 0.35em; vertical-align: middle; margin-left: 0.5rem\">Method</span>\n",
       "</mark>\n",
       " , including a \n",
       "<mark class=\"entity\" style=\"background: #6495ED; padding: 0.45em 0.6em; margin: 0 0.25em; line-height: 1; border-radius: 0.35em;\">\n",
       "    privacy mechanism\n",
       "    <span style=\"font-size: 0.8em; font-weight: bold; line-height: 1; border-radius: 0.35em; vertical-align: middle; margin-left: 0.5rem\">Method</span>\n",
       "</mark>\n",
       " , a \n",
       "<mark class=\"entity\" style=\"background: #6495ED; padding: 0.45em 0.6em; margin: 0 0.25em; line-height: 1; border-radius: 0.35em;\">\n",
       "    random rotation\n",
       "    <span style=\"font-size: 0.8em; font-weight: bold; line-height: 1; border-radius: 0.35em; vertical-align: middle; margin-left: 0.5rem\">Method</span>\n",
       "</mark>\n",
       " to reduce \n",
       "<mark class=\"entity\" style=\"background: #9FE2BF; padding: 0.45em 0.6em; margin: 0 0.25em; line-height: 1; border-radius: 0.35em;\">\n",
       "    quantization error\n",
       "    <span style=\"font-size: 0.8em; font-weight: bold; line-height: 1; border-radius: 0.35em; vertical-align: middle; margin-left: 0.5rem\">OtherScientificTerm</span>\n",
       "</mark>\n",
       " , a \n",
       "<mark class=\"entity\" style=\"background: #6495ED; padding: 0.45em 0.6em; margin: 0 0.25em; line-height: 1; border-radius: 0.35em;\">\n",
       "    gradient coordinate selection mechanism\n",
       "    <span style=\"font-size: 0.8em; font-weight: bold; line-height: 1; border-radius: 0.35em; vertical-align: middle; margin-left: 0.5rem\">Method</span>\n",
       "</mark>\n",
       " to reduce \n",
       "<mark class=\"entity\" style=\"background: #9FE2BF; padding: 0.45em 0.6em; margin: 0 0.25em; line-height: 1; border-radius: 0.35em;\">\n",
       "    communication / computation\n",
       "    <span style=\"font-size: 0.8em; font-weight: bold; line-height: 1; border-radius: 0.35em; vertical-align: middle; margin-left: 0.5rem\">OtherScientificTerm</span>\n",
       "</mark>\n",
       " . Experiments with \n",
       "<mark class=\"entity\" style=\"background: #9FE2BF; padding: 0.45em 0.6em; margin: 0 0.25em; line-height: 1; border-radius: 0.35em;\">\n",
       "    high \\epsilon local differentially privacy guarantees\n",
       "    <span style=\"font-size: 0.8em; font-weight: bold; line-height: 1; border-radius: 0.35em; vertical-align: middle; margin-left: 0.5rem\">OtherScientificTerm</span>\n",
       "</mark>\n",
       " are conducted . The proposed \n",
       "<mark class=\"entity\" style=\"background: #FFBF00; padding: 0.45em 0.6em; margin: 0 0.25em; line-height: 1; border-radius: 0.35em;\">\n",
       "    algorithm\n",
       "    <span style=\"font-size: 0.8em; font-weight: bold; line-height: 1; border-radius: 0.35em; vertical-align: middle; margin-left: 0.5rem\">Generic</span>\n",
       "</mark>\n",
       " outperforms a \n",
       "<mark class=\"entity\" style=\"background: #FFBF00; padding: 0.45em 0.6em; margin: 0 0.25em; line-height: 1; border-radius: 0.35em;\">\n",
       "    baseline algorithm\n",
       "    <span style=\"font-size: 0.8em; font-weight: bold; line-height: 1; border-radius: 0.35em; vertical-align: middle; margin-left: 0.5rem\">Generic</span>\n",
       "</mark>\n",
       " .</div></span>"
      ],
      "text/plain": [
       "<IPython.core.display.HTML object>"
      ]
     },
     "metadata": {},
     "output_type": "display_data"
    }
   ],
   "source": [
    "for idx, sent in enumerate(result[\"sentences\"]):\n",
    "    for pred_ner in result[\"predicted_ner\"][idx]:\n",
    "        start_idx = pred_ner[0]\n",
    "        end_idx   = pred_ner[1]+1\n",
    "        ent       = \" \".join(all_sentences[start_idx:end_idx])\n",
    "        print(\"\\t{: >20}: {: <50}\".format(pred_ner[2], ent))\n",
    "display_ent(\" \".join(all_sentences), flatten_ner)"
   ]
  },
  {
   "cell_type": "code",
   "execution_count": 37,
   "id": "b7c969e8-1775-4680-b89b-ca414d6e801c",
   "metadata": {},
   "outputs": [],
   "source": [
    "from graphviz import Digraph\n",
    "# Create Digraph object\n",
    "# dot = Digraph()\n",
    "dot = Digraph('Knowledge Graph', filename='kg')\n",
    "\n",
    "dot.attr('node', shape='box', style=\"filled\")\n",
    "\n"
   ]
  },
  {
   "cell_type": "code",
   "execution_count": 38,
   "id": "87eef03d",
   "metadata": {},
   "outputs": [
    {
     "name": "stdout",
     "output_type": "stream",
     "text": [
      "(differentially private training algorithm) (USED-FOR) (federated learning)\n",
      "(privacy mechanism) (CONJUNCTION) (random rotation)\n",
      "(random rotation) (USED-FOR) (quantization error)\n",
      "(random rotation) (CONJUNCTION) (gradient coordinate selection mechanism)\n",
      "(gradient coordinate selection mechanism) (USED-FOR) (communication / computation)\n",
      "(algorithm) (USED-FOR) (SGD)\n",
      "(components) (USED-FOR) (SGD)\n",
      "(components) (PART-OF) (algorithm)\n",
      "(random rotation) (PART-OF) (components)\n",
      "(gradient coordinate selection mechanism) (PART-OF) (components)\n",
      "(privacy mechanism) (PART-OF) (components)\n",
      "(algorithm) (COMPARE) (baseline algorithm)\n"
     ]
    },
    {
     "data": {
      "text/plain": [
       "'kg.png.pdf'"
      ]
     },
     "execution_count": 38,
     "metadata": {},
     "output_type": "execute_result"
    }
   ],
   "source": [
    "for ner in flatten_ner:\n",
    "    ent = \" \".join(all_sentences[ner[0]:ner[1]+1])\n",
    "    dot.node(ent, color=colors[ner[2]])\n",
    "for re in flatten_re:\n",
    "    s = \" \".join(all_sentences[re[0][0]:(re[0][1]+1)])\n",
    "    o = \" \".join(all_sentences[re[1][0]:(re[1][1]+1)])\n",
    "    p = re[2]\n",
    "    print(f\"({s}) ({p}) ({o})\")\n",
    "    dot.edge(s, o, label=p)\n",
    "\n",
    "dot.view()\n",
    "dot.render(filename=\"kg.png\")\n",
    "    \n"
   ]
  },
  {
   "cell_type": "code",
   "execution_count": 18,
   "id": "c946cc5f-9f29-4b66-9c98-aa8d1ce2d732",
   "metadata": {},
   "outputs": [],
   "source": [
    "# Add nodes 1 and 2\n",
    "dot.node('1')\n",
    "dot.node('2')\n",
    "\n",
    "# Add edge between 1 and 2\n",
    "dot.edges(['12'])\n",
    "\n"
   ]
  },
  {
   "attachments": {},
   "cell_type": "markdown",
   "id": "b463728d",
   "metadata": {},
   "source": [
    "# Statistics of IE from Summary"
   ]
  },
  {
   "cell_type": "code",
   "execution_count": 52,
   "id": "319962c0-3201-4dca-8f54-8dad3b0636e8",
   "metadata": {},
   "outputs": [
    {
     "name": "stdout",
     "output_type": "stream",
     "text": [
      "doc_key SP:7f4b788b00a2a10bcd60351c3e04c8f597101e96\n",
      "sentences [['This', 'paper', 'studies', 'FL', 'under', 'local', 'differential', 'privacy', 'constraints', '.'], ['They', 'identify', 'two', 'major', 'concerns', 'in', 'designing', 'practical', 'privacy', '-', 'preserving', 'FL', 'algorithms', ':', 'communication', 'efficiency', 'and', 'high\\x02dimensional', 'compatibility', ',', 'and', 'develop', 'a', 'gradient', '-', 'based', 'learning', 'algorithm', 'sqSGD', 'that', 'addresses', 'both', 'concerns', '.'], ['They', 'improve', 'the', 'base', 'algorithm', 'in', 'two', 'ways', ':', 'First', ',', 'apply', 'a', 'gradient', 'subsampling', 'strategy', 'that', 'offers', 'simultaneously', 'better', 'training', 'performance', 'and', 'smaller', 'communication', 'costs', '.'], ['Secondly', ',', 'utilize', 'randomized', 'rotation', 'as', 'a', 'preprocessing', 'step', 'to', 'reduce', 'quantization', 'error', '.']]\n",
      "ner [[], [], [], []]\n",
      "relations [[], [], [], []]\n",
      "predicted_ner [[[3, 3, 'Task'], [5, 8, 'OtherScientificTerm']], [[18, 22, 'Method'], [24, 25, 'Metric'], [27, 28, 'Metric'], [33, 38, 'Method']], [[47, 48, 'Generic'], [57, 59, 'Method'], [68, 69, 'Metric']], [[74, 75, 'Method'], [82, 83, 'OtherScientificTerm']]]\n",
      "predicted_re [[0, [[[5, 8], [3, 3], 'FEATURE-OF']]], [1, [[[24, 25], [27, 28], 'CONJUNCTION']]], [2, [[[68, 69], [57, 59], 'EVALUATE-FOR']]], [3, [[[74, 75], [82, 83], 'USED-FOR']]]]\n"
     ]
    }
   ],
   "source": [
    "filepath = FILEPATHS[\"RE\"][\"val\"]\n",
    "with open(filepath, 'r') as json_file:\n",
    "    json_list = list(json_file)\n",
    "dataset = [json.loads(json_str) for json_str in json_list]\n",
    "for key, val in dataset[0].items():\n",
    "    print(key, val)"
   ]
  },
  {
   "cell_type": "code",
   "execution_count": 81,
   "id": "8e3c453c",
   "metadata": {},
   "outputs": [
    {
     "data": {
      "text/html": [
       "<div>\n",
       "<style scoped>\n",
       "    .dataframe tbody tr th:only-of-type {\n",
       "        vertical-align: middle;\n",
       "    }\n",
       "\n",
       "    .dataframe tbody tr th {\n",
       "        vertical-align: top;\n",
       "    }\n",
       "\n",
       "    .dataframe thead th {\n",
       "        text-align: right;\n",
       "    }\n",
       "</style>\n",
       "<table border=\"1\" class=\"dataframe\">\n",
       "  <thead>\n",
       "    <tr style=\"text-align: right;\">\n",
       "      <th></th>\n",
       "      <th>paper_id</th>\n",
       "      <th>summary</th>\n",
       "      <th>PART-OF</th>\n",
       "      <th>USED-FOR</th>\n",
       "      <th>FEATURE-OF</th>\n",
       "      <th>CONJUNCTION</th>\n",
       "      <th>EVALUATE-FOR</th>\n",
       "      <th>HYPONYM-OF</th>\n",
       "      <th>COMPARE</th>\n",
       "    </tr>\n",
       "  </thead>\n",
       "  <tbody>\n",
       "    <tr>\n",
       "      <th>0</th>\n",
       "      <td>SP:3058e6bc5e8c62af325c214c9e1436d6cdf09204</td>\n",
       "      <td>In this paper , the authors address representa...</td>\n",
       "      <td>0</td>\n",
       "      <td>4</td>\n",
       "      <td>0</td>\n",
       "      <td>2</td>\n",
       "      <td>0</td>\n",
       "      <td>0</td>\n",
       "      <td>0</td>\n",
       "    </tr>\n",
       "  </tbody>\n",
       "</table>\n",
       "</div>"
      ],
      "text/plain": [
       "                                      paper_id  \\\n",
       "0  SP:3058e6bc5e8c62af325c214c9e1436d6cdf09204   \n",
       "\n",
       "                                             summary  PART-OF  USED-FOR  \\\n",
       "0  In this paper , the authors address representa...        0         4   \n",
       "\n",
       "   FEATURE-OF  CONJUNCTION  EVALUATE-FOR  HYPONYM-OF  COMPARE  \n",
       "0           0            2             0           0        0  "
      ]
     },
     "execution_count": 81,
     "metadata": {},
     "output_type": "execute_result"
    }
   ],
   "source": [
    "import pandas as pd\n",
    "col = [\"paper_id\", \"summary\"]\n",
    "ent_types = ['Method', 'OtherScientificTerm', 'Task', 'Generic', 'Material', 'Metric']\n",
    "rel_types = ['PART-OF', 'USED-FOR', 'FEATURE-OF', 'CONJUNCTION', 'EVALUATE-FOR', 'HYPONYM-OF', 'COMPARE']\n",
    "# for ent_type in ent_types: col.append(f\"ent_{ent_type}\")\n",
    "# for rel_type in rel_types: col.append(f\"rel_{rel_type}\")\n",
    "ent_stat_df = pd.DataFrame(columns=col+ent_types)\n",
    "rel_stat_df = pd.DataFrame(columns=col+rel_types)\n",
    "\n",
    "for data in dataset:\n",
    "    paper_id = data[\"doc_key\"]\n",
    "    all_sentences = [j for i in data[\"sentences\"] for j in i]\n",
    "    flatten_ner = [j for i in data[\"predicted_ner\"] for j in i]\n",
    "    flatten_re  = [j for i in data[\"predicted_re\"] for j in i[1]]\n",
    "\n",
    "    # Count entity\n",
    "    ent_count = {}\n",
    "    for ent_type in ent_types: ent_count[ent_type]=0\n",
    "    for ent in flatten_ner:\n",
    "        ent_count[ent[2]] += 1\n",
    "    ent_data = [paper_id, \" \".join(all_sentences)] + list(ent_count.values())\n",
    "    row_ent_df = pd.DataFrame([ent_data], columns=col+ent_types)\n",
    "    ent_stat_df = pd.concat([ent_stat_df, row_ent_df], axis=0)\n",
    "        \n",
    "    # Count relation\n",
    "    rel_count = {}\n",
    "    for rel_type in rel_types: rel_count[rel_type]=0\n",
    "    for rel in flatten_re:\n",
    "        rel_count[rel[2]] += 1\n",
    "    rel_data = [paper_id, \" \".join(all_sentences)] + list(rel_count.values())\n",
    "    row_rel_df = pd.DataFrame([rel_data], columns=col+rel_types)\n",
    "    rel_stat_df = pd.concat([rel_stat_df, row_rel_df], axis=0)"
   ]
  },
  {
   "cell_type": "code",
   "execution_count": 82,
   "id": "4794563f",
   "metadata": {},
   "outputs": [
    {
     "data": {
      "text/html": [
       "<div>\n",
       "<style scoped>\n",
       "    .dataframe tbody tr th:only-of-type {\n",
       "        vertical-align: middle;\n",
       "    }\n",
       "\n",
       "    .dataframe tbody tr th {\n",
       "        vertical-align: top;\n",
       "    }\n",
       "\n",
       "    .dataframe thead th {\n",
       "        text-align: right;\n",
       "    }\n",
       "</style>\n",
       "<table border=\"1\" class=\"dataframe\">\n",
       "  <thead>\n",
       "    <tr style=\"text-align: right;\">\n",
       "      <th></th>\n",
       "      <th>paper_id</th>\n",
       "      <th>summary</th>\n",
       "      <th>PART-OF</th>\n",
       "      <th>USED-FOR</th>\n",
       "      <th>FEATURE-OF</th>\n",
       "      <th>CONJUNCTION</th>\n",
       "      <th>EVALUATE-FOR</th>\n",
       "      <th>HYPONYM-OF</th>\n",
       "      <th>COMPARE</th>\n",
       "    </tr>\n",
       "  </thead>\n",
       "  <tbody>\n",
       "    <tr>\n",
       "      <th>0</th>\n",
       "      <td>SP:7f4b788b00a2a10bcd60351c3e04c8f597101e96</td>\n",
       "      <td>This paper studies FL under local differential...</td>\n",
       "      <td>0</td>\n",
       "      <td>1</td>\n",
       "      <td>1</td>\n",
       "      <td>1</td>\n",
       "      <td>1</td>\n",
       "      <td>0</td>\n",
       "      <td>0</td>\n",
       "    </tr>\n",
       "    <tr>\n",
       "      <th>0</th>\n",
       "      <td>SP:7f4b788b00a2a10bcd60351c3e04c8f597101e96</td>\n",
       "      <td>This paper studies a low communication algorit...</td>\n",
       "      <td>0</td>\n",
       "      <td>10</td>\n",
       "      <td>1</td>\n",
       "      <td>2</td>\n",
       "      <td>1</td>\n",
       "      <td>0</td>\n",
       "      <td>0</td>\n",
       "    </tr>\n",
       "    <tr>\n",
       "      <th>0</th>\n",
       "      <td>SP:7f4b788b00a2a10bcd60351c3e04c8f597101e96</td>\n",
       "      <td>The paper proposed a differentially private tr...</td>\n",
       "      <td>4</td>\n",
       "      <td>5</td>\n",
       "      <td>0</td>\n",
       "      <td>2</td>\n",
       "      <td>0</td>\n",
       "      <td>0</td>\n",
       "      <td>1</td>\n",
       "    </tr>\n",
       "    <tr>\n",
       "      <th>0</th>\n",
       "      <td>SP:632666b52c7c551d67fbbe70c06ed589c3a5e187</td>\n",
       "      <td>This submission works on the neural machine tr...</td>\n",
       "      <td>1</td>\n",
       "      <td>7</td>\n",
       "      <td>0</td>\n",
       "      <td>5</td>\n",
       "      <td>0</td>\n",
       "      <td>5</td>\n",
       "      <td>0</td>\n",
       "    </tr>\n",
       "    <tr>\n",
       "      <th>0</th>\n",
       "      <td>SP:632666b52c7c551d67fbbe70c06ed589c3a5e187</td>\n",
       "      <td>This paper proposes a method to introduce * * ...</td>\n",
       "      <td>1</td>\n",
       "      <td>7</td>\n",
       "      <td>0</td>\n",
       "      <td>0</td>\n",
       "      <td>0</td>\n",
       "      <td>0</td>\n",
       "      <td>0</td>\n",
       "    </tr>\n",
       "    <tr>\n",
       "      <th>...</th>\n",
       "      <td>...</td>\n",
       "      <td>...</td>\n",
       "      <td>...</td>\n",
       "      <td>...</td>\n",
       "      <td>...</td>\n",
       "      <td>...</td>\n",
       "      <td>...</td>\n",
       "      <td>...</td>\n",
       "      <td>...</td>\n",
       "    </tr>\n",
       "    <tr>\n",
       "      <th>0</th>\n",
       "      <td>SP:18aaba3423e81e9437b509d1a5e24836ef5635f6</td>\n",
       "      <td>This paper defines a set of learnable basis fu...</td>\n",
       "      <td>0</td>\n",
       "      <td>3</td>\n",
       "      <td>1</td>\n",
       "      <td>0</td>\n",
       "      <td>0</td>\n",
       "      <td>0</td>\n",
       "      <td>0</td>\n",
       "    </tr>\n",
       "    <tr>\n",
       "      <th>0</th>\n",
       "      <td>SP:18aaba3423e81e9437b509d1a5e24836ef5635f6</td>\n",
       "      <td>A typical Wavelet Transform is built through t...</td>\n",
       "      <td>0</td>\n",
       "      <td>2</td>\n",
       "      <td>1</td>\n",
       "      <td>0</td>\n",
       "      <td>0</td>\n",
       "      <td>0</td>\n",
       "      <td>0</td>\n",
       "    </tr>\n",
       "    <tr>\n",
       "      <th>0</th>\n",
       "      <td>SP:3058e6bc5e8c62af325c214c9e1436d6cdf09204</td>\n",
       "      <td>This paper builds a new graph convolutional ne...</td>\n",
       "      <td>2</td>\n",
       "      <td>5</td>\n",
       "      <td>1</td>\n",
       "      <td>2</td>\n",
       "      <td>2</td>\n",
       "      <td>0</td>\n",
       "      <td>0</td>\n",
       "    </tr>\n",
       "    <tr>\n",
       "      <th>0</th>\n",
       "      <td>SP:3058e6bc5e8c62af325c214c9e1436d6cdf09204</td>\n",
       "      <td>The authors propose using non - Euclidean spac...</td>\n",
       "      <td>0</td>\n",
       "      <td>3</td>\n",
       "      <td>0</td>\n",
       "      <td>0</td>\n",
       "      <td>0</td>\n",
       "      <td>0</td>\n",
       "      <td>0</td>\n",
       "    </tr>\n",
       "    <tr>\n",
       "      <th>0</th>\n",
       "      <td>SP:3058e6bc5e8c62af325c214c9e1436d6cdf09204</td>\n",
       "      <td>In this paper , the authors address representa...</td>\n",
       "      <td>0</td>\n",
       "      <td>4</td>\n",
       "      <td>0</td>\n",
       "      <td>2</td>\n",
       "      <td>0</td>\n",
       "      <td>0</td>\n",
       "      <td>0</td>\n",
       "    </tr>\n",
       "  </tbody>\n",
       "</table>\n",
       "<p>3604 rows × 9 columns</p>\n",
       "</div>"
      ],
      "text/plain": [
       "                                       paper_id  \\\n",
       "0   SP:7f4b788b00a2a10bcd60351c3e04c8f597101e96   \n",
       "0   SP:7f4b788b00a2a10bcd60351c3e04c8f597101e96   \n",
       "0   SP:7f4b788b00a2a10bcd60351c3e04c8f597101e96   \n",
       "0   SP:632666b52c7c551d67fbbe70c06ed589c3a5e187   \n",
       "0   SP:632666b52c7c551d67fbbe70c06ed589c3a5e187   \n",
       "..                                          ...   \n",
       "0   SP:18aaba3423e81e9437b509d1a5e24836ef5635f6   \n",
       "0   SP:18aaba3423e81e9437b509d1a5e24836ef5635f6   \n",
       "0   SP:3058e6bc5e8c62af325c214c9e1436d6cdf09204   \n",
       "0   SP:3058e6bc5e8c62af325c214c9e1436d6cdf09204   \n",
       "0   SP:3058e6bc5e8c62af325c214c9e1436d6cdf09204   \n",
       "\n",
       "                                              summary PART-OF USED-FOR  \\\n",
       "0   This paper studies FL under local differential...       0        1   \n",
       "0   This paper studies a low communication algorit...       0       10   \n",
       "0   The paper proposed a differentially private tr...       4        5   \n",
       "0   This submission works on the neural machine tr...       1        7   \n",
       "0   This paper proposes a method to introduce * * ...       1        7   \n",
       "..                                                ...     ...      ...   \n",
       "0   This paper defines a set of learnable basis fu...       0        3   \n",
       "0   A typical Wavelet Transform is built through t...       0        2   \n",
       "0   This paper builds a new graph convolutional ne...       2        5   \n",
       "0   The authors propose using non - Euclidean spac...       0        3   \n",
       "0   In this paper , the authors address representa...       0        4   \n",
       "\n",
       "   FEATURE-OF CONJUNCTION EVALUATE-FOR HYPONYM-OF COMPARE  \n",
       "0           1           1            1          0       0  \n",
       "0           1           2            1          0       0  \n",
       "0           0           2            0          0       1  \n",
       "0           0           5            0          5       0  \n",
       "0           0           0            0          0       0  \n",
       "..        ...         ...          ...        ...     ...  \n",
       "0           1           0            0          0       0  \n",
       "0           1           0            0          0       0  \n",
       "0           1           2            2          0       0  \n",
       "0           0           0            0          0       0  \n",
       "0           0           2            0          0       0  \n",
       "\n",
       "[3604 rows x 9 columns]"
      ]
     },
     "execution_count": 82,
     "metadata": {},
     "output_type": "execute_result"
    }
   ],
   "source": [
    "rel_stat_df"
   ]
  },
  {
   "cell_type": "code",
   "execution_count": 92,
   "id": "45fcc43e",
   "metadata": {},
   "outputs": [
    {
     "data": {
      "text/plain": [
       "summary\n",
       "2    194\n",
       "3    352\n",
       "4    410\n",
       "5    104\n",
       "Name: num_paper, dtype: int64"
      ]
     },
     "execution_count": 92,
     "metadata": {},
     "output_type": "execute_result"
    }
   ],
   "source": [
    "def count_num_paper(df):\n",
    "    num_paper = df.groupby(['paper_id']).count()\n",
    "    num_paper['num_paper'] = 1\n",
    "    num_paper = num_paper.groupby(['summary']).count()\n",
    "    return num_paper[\"num_paper\"]\n",
    "count_num_paper(rel_stat_df)"
   ]
  },
  {
   "cell_type": "code",
   "execution_count": 110,
   "id": "9f8c3033",
   "metadata": {},
   "outputs": [
    {
     "data": {
      "text/plain": [
       "Text(0.5, 1.0, 'Summary length distribution')"
      ]
     },
     "execution_count": 110,
     "metadata": {},
     "output_type": "execute_result"
    },
    {
     "data": {
      "image/png": "[encoded data removed]",
      "text/plain": [
       "<Figure size 640x480 with 1 Axes>"
      ]
     },
     "metadata": {},
     "output_type": "display_data"
    }
   ],
   "source": [
    "fig, ax = plt.subplots()\n",
    "ent_max = max([ent_stat_df[ent_type].max() for ent_type in ent_types]) \n",
    "# for ent_type in ent_types:\n",
    "# x = ent_stat_df[ent_types]\n",
    "ax.hist(ent_stat_df[ent_types], density=True, histtype='bar', label=ent_types)\n",
    "ax.legend(prop={'size': 10})\n",
    "\n",
    "\n",
    "    # ent_stat_df[ent_type].plot(kind='density', ax=ax, xlim=[0, ent_max], legend=True)\n",
    "\n",
    "ax.set_xlabel(f\"Summary length (words)\")\n",
    "\n",
    "ax.set_title(\"Summary length distribution\")"
   ]
  },
  {
   "cell_type": "code",
   "execution_count": null,
   "id": "ba96b033",
   "metadata": {},
   "outputs": [],
   "source": []
  },
  {
   "cell_type": "code",
   "execution_count": 99,
   "id": "6e9c8f0e",
   "metadata": {},
   "outputs": [
    {
     "data": {
      "text/plain": [
       "34"
      ]
     },
     "execution_count": 99,
     "metadata": {},
     "output_type": "execute_result"
    }
   ],
   "source": [
    "ent_stat_df['Method'].max()"
   ]
  },
  {
   "cell_type": "code",
   "execution_count": 106,
   "id": "67583a15",
   "metadata": {},
   "outputs": [
    {
     "data": {
      "text/plain": [
       "34"
      ]
     },
     "execution_count": 106,
     "metadata": {},
     "output_type": "execute_result"
    }
   ],
   "source": []
  },
  {
   "cell_type": "code",
   "execution_count": null,
   "id": "a27dfe9a",
   "metadata": {},
   "outputs": [],
   "source": []
  }
 ],
 "metadata": {
  "kernelspec": {
   "display_name": "Python 3 (ipykernel)",
   "language": "python",
   "name": "python3"
  },
  "language_info": {
   "codemirror_mode": {
    "name": "ipython",
    "version": 3
   },
   "file_extension": ".py",
   "mimetype": "text/x-python",
   "name": "python",
   "nbconvert_exporter": "python",
   "pygments_lexer": "ipython3",
   "version": "3.8.15"
  }
 },
 "nbformat": 4,
 "nbformat_minor": 5
}
