{
 "cells": [
  {
   "cell_type": "code",
   "execution_count": 1,
   "id": "de829ab0-c585-4a0d-b4e6-60b9055d9443",
   "metadata": {},
   "outputs": [],
   "source": [
    "import sys\n",
    "import json\n",
    "import pandas as pd\n",
    "import matplotlib.pyplot as plt"
   ]
  },
  {
   "cell_type": "code",
   "execution_count": 5,
   "id": "aa9aacde-4b6f-4b37-afe0-1d37657f7465",
   "metadata": {},
   "outputs": [],
   "source": [
    "paths = {\n",
    "    \"train\": \"dataset/training_complete.jsonl\",\n",
    "    \"val\": \"dataset/validation_complete.jsonl\",\n",
    "    \"test\": \"dataset/testing_with_paper_release.jsonl\"\n",
    "}"
   ]
  },
  {
   "cell_type": "code",
   "execution_count": null,
   "id": "e3f8427b-3c62-4305-b591-8b08f959873d",
   "metadata": {},
   "outputs": [],
   "source": [
    "path = paths[\"test\"]\n",
    "with open(path, 'r') as json_file:\n",
    "    json_list = list(json_file)\n",
    "    col_name = [\"paper_id\",\"summary\"]\n",
    "summary_df = pd.DataFrame(columns=col_name)\n",
    "for json_str in json_list:\n",
    "    result = json.loads(json_str)\n",
    "    df = pd.DataFrame([[result[\"paper_id\"], result[\"summary\"]]], columns=col_name)\n",
    "    summary_df = pd.concat([summary_df,df])\n",
    "    # break\n",
    "(result['paper']).keys()\n",
    "result.keys()"
   ]
  },
  {
   "cell_type": "markdown",
   "id": "2e99c830-d933-444b-bbe6-340eda330def",
   "metadata": {},
   "source": [
    "# Adapter-tuning"
   ]
  },
  {
   "cell_type": "code",
   "execution_count": 15,
   "id": "2d268b43-5c81-457b-839d-6052f2641314",
   "metadata": {},
   "outputs": [],
   "source": [
    "from transformers import list_adapters"
   ]
  },
  {
   "cell_type": "code",
   "execution_count": 29,
   "id": "6bca6a02-4d4e-4634-96a6-7519165b9729",
   "metadata": {},
   "outputs": [],
   "source": [
    "!export http_proxy=http://192.41.170.23:3128\n",
    "!export https_proxy=http://192.41.170.23:3128"
   ]
  },
  {
   "cell_type": "code",
   "execution_count": null,
   "id": "aaa67b36-e685-4a31-9641-908404a5cf1f",
   "metadata": {},
   "outputs": [],
   "source": [
    "for adapter_info in adapter_infos:\n",
    "    print(\"Id:\", adapter_info.adapter_id)\n",
    "    print(\"Model name:\", adapter_info.model_name)\n",
    "    print(\"Uploaded by:\", adapter_info.username)"
   ]
  },
  {
   "cell_type": "code",
   "execution_count": 20,
   "id": "fa71a781-5f4f-48f1-b63d-80f2aef52664",
   "metadata": {},
   "outputs": [],
   "source": [
    "from transformers.adapters import BartAdapterModel"
   ]
  },
  {
   "cell_type": "code",
   "execution_count": 22,
   "id": "103d4c16-435a-480c-b394-e78975219921",
   "metadata": {},
   "outputs": [
    {
     "data": {
      "text/plain": [
       "abc.ABCMeta"
      ]
     },
     "execution_count": 22,
     "metadata": {},
     "output_type": "execute_result"
    }
   ],
   "source": [
    "type(BartAdapterModel)"
   ]
  },
  {
   "cell_type": "code",
   "execution_count": 27,
   "id": "34f9ab9e-0554-4296-a561-00a0908661c9",
   "metadata": {},
   "outputs": [],
   "source": [
    "from transformers.adapters import AutoAdapterModel\n"
   ]
  },
  {
   "cell_type": "code",
   "execution_count": 30,
   "id": "33987603-33b3-4018-b2b4-d87319983da3",
   "metadata": {},
   "outputs": [
    {
     "name": "stdout",
     "output_type": "stream",
     "text": [
      "Unexpected exception formatting exception. Falling back to standard exception\n"
     ]
    },
    {
     "name": "stderr",
     "output_type": "stream",
     "text": [
      "Traceback (most recent call last):\n",
      "  File \"/home/nopphawann/.local/lib/python3.8/site-packages/transformers/configuration_utils.py\", line 623, in _get_config_dict\n",
      "    cache_dir=cache_dir,\n",
      "  File \"/home/nopphawann/.local/lib/python3.8/site-packages/transformers/utils/hub.py\", line 284, in cached_path\n",
      "    return _CACHED_NO_EXIST\n",
      "  File \"/home/nopphawann/.local/lib/python3.8/site-packages/transformers/utils/hub.py\", line 562, in get_from_cache\n",
      "ValueError: Connection error, and we cannot find the requested files in the cached path. Please try again or make sure your Internet connection is on.\n",
      "\n",
      "During handling of the above exception, another exception occurred:\n",
      "\n",
      "Traceback (most recent call last):\n",
      "  File \"/usr/local/lib/python3.8/dist-packages/IPython/core/interactiveshell.py\", line 3378, in run_code\n",
      "    exec(code_obj, self.user_global_ns, self.user_ns)\n",
      "  File \"/tmp/ipykernel_974766/360782448.py\", line 1, in <module>\n",
      "    model = AutoAdapterModel.from_pretrained(\"facebook/bart-large\")\n",
      "  File \"/home/nopphawann/.local/lib/python3.8/site-packages/transformers/models/auto/auto_factory.py\", line 434, in from_pretrained\n",
      "    config, kwargs = AutoConfig.from_pretrained(\n",
      "  File \"/home/nopphawann/.local/lib/python3.8/site-packages/transformers/models/auto/configuration_auto.py\", line 776, in from_pretrained\n",
      "    config_dict, unused_kwargs = PretrainedConfig.get_config_dict(pretrained_model_name_or_path, **kwargs)\n",
      "  File \"/home/nopphawann/.local/lib/python3.8/site-packages/transformers/configuration_utils.py\", line 561, in get_config_dict\n",
      "    original_kwargs[\"_commit_hash\"] = config_dict[\"_commit_hash\"]\n",
      "  File \"/home/nopphawann/.local/lib/python3.8/site-packages/transformers/configuration_utils.py\", line 656, in _get_config_dict\n",
      "OSError: We couldn't connect to 'https://huggingface.co' to load this model, couldn't find it in the cached files and it looks like facebook/bart-large is not the path to a directory containing a config.json file.\n",
      "Checkout your internet connection or see how to run the library in offline mode at 'https://huggingface.co/docs/transformers/installation#offline-mode'.\n",
      "\n",
      "During handling of the above exception, another exception occurred:\n",
      "\n",
      "Traceback (most recent call last):\n",
      "  File \"/usr/local/lib/python3.8/dist-packages/IPython/core/interactiveshell.py\", line 1997, in showtraceback\n",
      "    stb = self.InteractiveTB.structured_traceback(\n",
      "  File \"/usr/local/lib/python3.8/dist-packages/IPython/core/ultratb.py\", line 1112, in structured_traceback\n",
      "    return FormattedTB.structured_traceback(\n",
      "  File \"/usr/local/lib/python3.8/dist-packages/IPython/core/ultratb.py\", line 1006, in structured_traceback\n",
      "    return VerboseTB.structured_traceback(\n",
      "  File \"/usr/local/lib/python3.8/dist-packages/IPython/core/ultratb.py\", line 859, in structured_traceback\n",
      "    formatted_exception = self.format_exception_as_a_whole(etype, evalue, etb, number_of_lines_of_context,\n",
      "  File \"/usr/local/lib/python3.8/dist-packages/IPython/core/ultratb.py\", line 812, in format_exception_as_a_whole\n",
      "    frames.append(self.format_record(r))\n",
      "  File \"/usr/local/lib/python3.8/dist-packages/IPython/core/ultratb.py\", line 730, in format_record\n",
      "    result += ''.join(_format_traceback_lines(frame_info.lines, Colors, self.has_colors, lvals))\n",
      "  File \"/usr/local/lib/python3.8/dist-packages/stack_data/utils.py\", line 145, in cached_property_wrapper\n",
      "    value = obj.__dict__[self.func.__name__] = self.func(obj)\n",
      "  File \"/usr/local/lib/python3.8/dist-packages/stack_data/core.py\", line 734, in lines\n",
      "    pieces = self.included_pieces\n",
      "  File \"/usr/local/lib/python3.8/dist-packages/stack_data/utils.py\", line 145, in cached_property_wrapper\n",
      "    value = obj.__dict__[self.func.__name__] = self.func(obj)\n",
      "  File \"/usr/local/lib/python3.8/dist-packages/stack_data/core.py\", line 681, in included_pieces\n",
      "    pos = scope_pieces.index(self.executing_piece)\n",
      "  File \"/usr/local/lib/python3.8/dist-packages/stack_data/utils.py\", line 145, in cached_property_wrapper\n",
      "    value = obj.__dict__[self.func.__name__] = self.func(obj)\n",
      "  File \"/usr/local/lib/python3.8/dist-packages/stack_data/core.py\", line 660, in executing_piece\n",
      "    return only(\n",
      "  File \"/usr/local/lib/python3.8/dist-packages/executing/executing.py\", line 164, in only\n",
      "    raise NotOneValueFound('Expected one value, found 0')\n",
      "executing.executing.NotOneValueFound: Expected one value, found 0\n"
     ]
    }
   ],
   "source": [
    "model = AutoAdapterModel.from_pretrained(\"facebook/bart-large\")"
   ]
  },
  {
   "cell_type": "code",
   "execution_count": null,
   "id": "07aff17b-6beb-4403-83fc-d44ed68f5069",
   "metadata": {},
   "outputs": [],
   "source": [
    "config = AdapterConfig.load(\"pfeiffer\", non_linearity=\"relu\", reduction_factor=2)"
   ]
  },
  {
   "cell_type": "code",
   "execution_count": null,
   "id": "ff465fb9-9bad-471a-b3fc-1028a57f2aaa",
   "metadata": {},
   "outputs": [],
   "source": [
    "model.load_adapter(\"sum/xsum@ukp\", config=config)"
   ]
  },
  {
   "cell_type": "code",
   "execution_count": 32,
   "id": "ad608c36-529e-4195-981b-5f53cbd5e974",
   "metadata": {},
   "outputs": [
    {
     "name": "stdout",
     "output_type": "stream",
     "text": [
      "Python 3.8.10\n"
     ]
    }
   ],
   "source": [
    "!python3 --version"
   ]
  },
  {
   "cell_type": "code",
   "execution_count": null,
   "id": "8d2e4f20-96d0-4382-b2fa-7a84b1c218ae",
   "metadata": {},
   "outputs": [],
   "source": []
  }
 ],
 "metadata": {
  "kernelspec": {
   "display_name": "Python 3 (ipykernel)",
   "language": "python",
   "name": "python3"
  },
  "language_info": {
   "codemirror_mode": {
    "name": "ipython",
    "version": 3
   },
   "file_extension": ".py",
   "mimetype": "text/x-python",
   "name": "python",
   "nbconvert_exporter": "python",
   "pygments_lexer": "ipython3",
   "version": "3.8.10"
  }
 },
 "nbformat": 4,
 "nbformat_minor": 5
}
