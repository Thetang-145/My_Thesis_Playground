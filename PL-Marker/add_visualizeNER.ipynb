{
 "cells": [
  {
   "cell_type": "code",
   "execution_count": 8,
   "id": "8dd3dc61-bc1b-498d-889a-1981cfc62340",
   "metadata": {},
   "outputs": [],
   "source": [
    "import json\n",
    "import pandas as pd\n",
    "import matplotlib.pyplot as plt"
   ]
  },
  {
   "cell_type": "code",
   "execution_count": 3,
   "id": "0808a7da-aa2c-47a1-b1ca-35052f1c5e0a",
   "metadata": {},
   "outputs": [],
   "source": [
    "FILEPATHS = {\n",
    "    \"train\": \"sciner_models/sciner-scibert/train_ner.json\",\n",
    "    \"val\": \"sciner_models/sciner-scibert/val_ner.json\",\n",
    "}"
   ]
  },
  {
   "cell_type": "code",
   "execution_count": 4,
   "id": "11e154ab-c77f-40bc-a2d2-9444862f1095",
   "metadata": {},
   "outputs": [],
   "source": [
    "def print_progress(curr, full, prefix=\"\", bar_size=40):    \n",
    "    bar = int((curr+1)/full*bar_size)\n",
    "    sys.stdout.write(f\"\\r{prefix}[{'='*bar}{' '*(bar_size-bar)}] {curr+1}/{full}\")\n",
    "    sys.stdout.flush()\n",
    "    "
   ]
  },
  {
   "cell_type": "code",
   "execution_count": 9,
   "id": "50b66aba-41be-4f36-aa40-b0fe968e27b5",
   "metadata": {},
   "outputs": [
    {
     "name": "stdout",
     "output_type": "stream",
     "text": [
      "{'doc_key': 'SP:7f4b788b00a2a10bcd60351c3e04c8f597101e96', 'sentences': [['This', 'paper', 'studies', 'FL', 'under', 'local', 'differential', 'privacy', 'constraints', '.'], ['They', 'identify', 'two', 'major', 'concerns', 'in', 'designing', 'practical', 'privacy-preserving', 'FL', 'algorithms', ':', 'communication', 'efficiency', 'and', 'high\\x02dimensional', 'compatibility', ',', 'and', 'develop', 'a', 'gradient-based', 'learning', 'algorithm', 'sqSGD', 'that', 'addresses', 'both', 'concerns', '.'], ['They', 'improve', 'the', 'base', 'algorithm', 'in', 'two', 'ways', ':', 'First', ',', 'apply', 'a', 'gradient', 'subsampling', 'strategy', 'that', 'offers', 'simultaneously', 'better', 'training', 'performance', 'and', 'smaller', 'communication', 'costs', '.'], ['Secondly', ',', 'utilize', 'randomized', 'rotation', 'as', 'a', 'preprocessing', 'step', 'to', 'reduce', 'quantization', 'error', '.']], 'ner': [[], [], [], []], 'relations': [[], [], [], []], 'predicted_ner': [[[3, 3, 'Task'], [5, 8, 'OtherScientificTerm']], [[18, 20, 'Method'], [22, 23, 'Metric'], [25, 26, 'Metric'], [31, 34, 'Method']], [[43, 44, 'Generic'], [53, 55, 'Method'], [64, 65, 'Metric']], [[70, 71, 'Method'], [78, 79, 'OtherScientificTerm']]]}\n"
     ]
    }
   ],
   "source": [
    "filepath = FILEPATHS[\"val\"]\n",
    "with open(filepath, 'r') as json_file:\n",
    "    json_list = list(json_file)\n",
    "data_len = len(json_list)\n",
    "for i, json_str in enumerate(json_list):\n",
    "    result = json.loads(json_str)\n",
    "    print(result)\n",
    "    # print_progress(i, data_len)\n",
    "    break"
   ]
  },
  {
   "cell_type": "code",
   "execution_count": 34,
   "id": "181d98a6-d7e5-425b-b9aa-b4f51381774e",
   "metadata": {},
   "outputs": [
    {
     "name": "stdout",
     "output_type": "stream",
     "text": [
      "Sentence 0: \n",
      "This paper studies FL under local differential privacy constraints .\n",
      "\t                Task: FL                                                \n",
      "\t OtherScientificTerm: local differential privacy constraints            \n",
      "\n",
      "Sentence 1: \n",
      "They identify two major concerns in designing practical privacy-preserving FL algorithms : communication efficiency and high\u0002dimensional compatibility , and develop a gradient-based learning algorithm sqSGD that addresses both concerns .\n",
      "\t              Method: privacy-preserving FL algorithms                  \n",
      "\t              Metric: communication efficiency                          \n",
      "\t              Metric: high\u0002dimensional compatibility                    \n",
      "\t              Method: gradient-based learning algorithm sqSGD           \n",
      "\n",
      "Sentence 2: \n",
      "They improve the base algorithm in two ways : First , apply a gradient subsampling strategy that offers simultaneously better training performance and smaller communication costs .\n",
      "\t             Generic: base algorithm                                    \n",
      "\t              Method: gradient subsampling strategy                     \n",
      "\t              Metric: communication costs                               \n",
      "\n",
      "Sentence 3: \n",
      "Secondly , utilize randomized rotation as a preprocessing step to reduce quantization error .\n",
      "\t              Method: randomized rotation                               \n",
      "\t OtherScientificTerm: quantization error                                \n",
      "\n"
     ]
    }
   ],
   "source": [
    "all_sentences = [j for i in result[\"sentences\"] for j in i]\n",
    "\n",
    "for idx, sent in enumerate(result[\"sentences\"]):\n",
    "    print(f\"Sentence {idx}: \")\n",
    "    print(\" \".join(sent))\n",
    "    for pred_ner in result[\"predicted_ner\"][idx]:\n",
    "        start_idx = pred_ner[0]\n",
    "        end_idx   = pred_ner[1]+1\n",
    "        ent       = \" \".join(all_sentences[start_idx:end_idx])\n",
    "        print(\"\\t{: >20}: {: <50}\".format(pred_ner[2], ent))\n",
    "    print()"
   ]
  },
  {
   "cell_type": "code",
   "execution_count": null,
   "id": "6a8f402e-6def-4866-9b55-844068fbd9d1",
   "metadata": {},
   "outputs": [],
   "source": []
  }
 ],
 "metadata": {
  "kernelspec": {
   "display_name": "Python 3 (ipykernel)",
   "language": "python",
   "name": "python3"
  },
  "language_info": {
   "codemirror_mode": {
    "name": "ipython",
    "version": 3
   },
   "file_extension": ".py",
   "mimetype": "text/x-python",
   "name": "python",
   "nbconvert_exporter": "python",
   "pygments_lexer": "ipython3",
   "version": "3.8.10"
  }
 },
 "nbformat": 4,
 "nbformat_minor": 5
}
