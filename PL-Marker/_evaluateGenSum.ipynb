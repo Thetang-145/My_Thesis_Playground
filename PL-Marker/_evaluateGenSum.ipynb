{
 "cells": [
  {
   "cell_type": "markdown",
   "id": "aefafbb0-71ac-4a56-8523-e9f7a927bbf9",
   "metadata": {},
   "source": [
    "# Visuallize KG recheck"
   ]
  },
  {
   "cell_type": "markdown",
   "id": "d6848f89-d727-4f88-b053-8c6cf78fbb2f",
   "metadata": {},
   "source": [
    "## Load generated summary KG"
   ]
  },
  {
   "cell_type": "code",
   "execution_count": 1,
   "id": "81aad8aa-a9a3-41d5-b025-f0f8e00a1ff5",
   "metadata": {
    "tags": []
   },
   "outputs": [],
   "source": [
    "from pathlib import Path\n",
    "import json\n",
    "import pandas as pd\n",
    "\n",
    "main_path = str((Path().absolute()))\n",
    "models = [\n",
    "    'bart-large', \n",
    "    'bart-large-cnn'\n",
    "]\n",
    "experiments = [\n",
    "    ['abstract-kg', 'abstract-kg'],\n",
    "    ['summary-kg', 'abstract-kg'],\n",
    "    ['summary-kg', 'summary-kg'],\n",
    "]\n",
    "best_score = ['output_bestRouge1', 'output_bestRougeAvg']\n",
    "exclude = [\n",
    "    'bart-large-cnn_abstract-kg_abstract-kg',\n",
    "    'bart-large-cnn_summary-kg_summary-kg',\n",
    "]\n",
    "def load_re(filename):\n",
    "    filepath = f\"_scire_models/csv/{filename}_re.json\"\n",
    "    with open(filepath, 'r') as json_file:\n",
    "        json_list = list(json_file)\n",
    "    return [json.loads(json_str) for json_str in json_list]\n",
    "\n",
    "def load_pre(filename):\n",
    "    filepath = f\"_prepared_data/csv/{filename}.jsonl\"\n",
    "    with open(filepath, 'r') as json_file:\n",
    "        json_list = list(json_file)\n",
    "    return [json.loads(json_str) for json_str in json_list]\n"
   ]
  },
  {
   "cell_type": "code",
   "execution_count": 71,
   "id": "42106254-1a82-4e6d-a88d-d35fabff9ca3",
   "metadata": {
    "tags": []
   },
   "outputs": [
    {
     "name": "stdout",
     "output_type": "stream",
     "text": [
      "0 [bart-large]_[abstract-kg]_[abstract-kg]_Rouge1 1060\n",
      "\tBlank NER 0/1060\n",
      "\tBlank RE 0/1060\n",
      "1 [bart-large]_[abstract-kg]_[abstract-kg]_RougeAvg 1060\n",
      "\tBlank NER 0/1060\n",
      "\tBlank RE 0/1060\n",
      "2 [bart-large]_[summary-kg]_[abstract-kg]_Rouge1 1060\n",
      "\tBlank NER 0/1060\n",
      "\tBlank RE 0/1060\n",
      "3 [bart-large]_[summary-kg]_[abstract-kg]_RougeAvg 1060\n",
      "\tBlank NER 0/1060\n",
      "\tBlank RE 0/1060\n",
      "4 [bart-large]_[summary-kg]_[summary-kg]_Rouge1 3604\n",
      "\tBlank NER 0/3604\n",
      "\tBlank RE 3599/3604\n",
      "5 [bart-large]_[summary-kg]_[summary-kg]_RougeAvg 3604\n",
      "\tBlank NER 0/3604\n",
      "\tBlank RE 3600/3604\n",
      "6 [bart-large-cnn]_[abstract-kg]_[abstract-kg] 1060\n",
      "\tBlank NER 0/1060\n",
      "\tBlank RE 0/1060\n",
      "7 [bart-large-cnn]_[abstract-kg]_[abstract-kg] 1060\n",
      "\tBlank NER 0/1060\n",
      "\tBlank RE 0/1060\n",
      "8 [bart-large-cnn]_[summary-kg]_[abstract-kg]_Rouge1 1060\n",
      "\tBlank NER 0/1060\n",
      "\tBlank RE 1057/1060\n",
      "9 [bart-large-cnn]_[summary-kg]_[abstract-kg]_RougeAvg 1060\n",
      "\tBlank NER 0/1060\n",
      "\tBlank RE 1057/1060\n",
      "10 [bart-large-cnn]_[summary-kg]_[summary-kg] 3604\n",
      "\tBlank NER 0/3604\n",
      "\tBlank RE 3600/3604\n",
      "11 [bart-large-cnn]_[summary-kg]_[summary-kg] 3604\n",
      "\tBlank NER 0/3604\n",
      "\tBlank RE 3600/3604\n"
     ]
    }
   ],
   "source": [
    "result_all = []\n",
    "for model in models:\n",
    "    for exp in experiments:\n",
    "        for best in best_score:\n",
    "            if f\"{model}_{exp[0]}_{exp[1]}\" in exclude: \n",
    "                filename=f\"[{model}]_[{exp[0]}]_[{exp[1]}]\"\n",
    "            else:\n",
    "                filename=f\"[{model}]_[{exp[0]}]_[{exp[1]}]_{best[11:]}\"\n",
    "                \n",
    "            try:\n",
    "                result_list = load_re(filename)\n",
    "                print(len(result_all), filename, len(result_list))\n",
    "                ner = re = 0\n",
    "                for result in result_list:\n",
    "                    if len(result['predicted_ner'])==0: ner+=1\n",
    "                    if len(result['predicted_re'])==0: re+=1\n",
    "                print(f\"\\tBlank NER {ner}/{len(result_list)}\")\n",
    "                print(f\"\\tBlank RE {re}/{len(result_list)}\")\n",
    "                result_all.append(result_list)\n",
    "            except:\n",
    "                print(filename, \"CANNOT IMPORT\")\n",
    "    #         break\n",
    "    #     break\n",
    "    # break\n",
    "            "
   ]
  },
  {
   "cell_type": "markdown",
   "id": "c6feff4b-23ea-457d-a321-d9f48fbc7c35",
   "metadata": {},
   "source": [
    "## Load reference summary KG"
   ]
  },
  {
   "cell_type": "code",
   "execution_count": 73,
   "id": "ed208059-588c-4827-a19b-64ea84700a19",
   "metadata": {
    "tags": []
   },
   "outputs": [],
   "source": [
    "def load_refKG():\n",
    "    filepath = \"_scire_models/MuP/summary/val_re.json\"\n",
    "    with open(filepath, 'r') as json_file:\n",
    "        json_list = list(json_file)\n",
    "    return [json.loads(json_str) for json_str in json_list]\n",
    "\n",
    "def evaluate(gen):\n",
    "    drop_col = [\"ner\", \"relations\", \"predicted_re\"]\n",
    "    ref = pd.DataFrame(load_refKG()).drop(drop_col, axis=1).rename(columns={\"predicted_ner\": \"ref_ner\", \"sentences\": \"ref_sentences\"})\n",
    "    gen = gen.drop(drop_col, axis=1).rename(columns={\"predicted_ner\": \"gen_ner\", \"sentences\": \"gen_sentences\"})\n",
    "    # return pd.concat([gen, ref.drop(\"doc_key\", axis=1)], axis=1)\n",
    "    return pd.merge(gen, ref, on='doc_key', how='outer')"
   ]
  },
  {
   "cell_type": "code",
   "execution_count": 133,
   "id": "7c8fea66-d536-4f55-9b6e-3a13cd529dde",
   "metadata": {
    "tags": []
   },
   "outputs": [
    {
     "data": {
      "text/html": [
       "<div>\n",
       "<style scoped>\n",
       "    .dataframe tbody tr th:only-of-type {\n",
       "        vertical-align: middle;\n",
       "    }\n",
       "\n",
       "    .dataframe tbody tr th {\n",
       "        vertical-align: top;\n",
       "    }\n",
       "\n",
       "    .dataframe thead th {\n",
       "        text-align: right;\n",
       "    }\n",
       "</style>\n",
       "<table border=\"1\" class=\"dataframe\">\n",
       "  <thead>\n",
       "    <tr style=\"text-align: right;\">\n",
       "      <th></th>\n",
       "      <th>doc_key</th>\n",
       "      <th>gen_sentences</th>\n",
       "      <th>gen_ner</th>\n",
       "      <th>ref_sentences</th>\n",
       "      <th>ref_ner</th>\n",
       "    </tr>\n",
       "  </thead>\n",
       "  <tbody>\n",
       "    <tr>\n",
       "      <th>0</th>\n",
       "      <td>SP:7f4b788b00a2a10bcd60351c3e04c8f597101e96</td>\n",
       "      <td>[[This, paper, studies, the, problem, of, priv...</td>\n",
       "      <td>[[[6, 10, Task], [12, 15, OtherScientificTerm]...</td>\n",
       "      <td>[[This, paper, studies, FL, under, local, diff...</td>\n",
       "      <td>[[[3, 3, Task], [5, 8, OtherScientificTerm]], ...</td>\n",
       "    </tr>\n",
       "    <tr>\n",
       "      <th>1</th>\n",
       "      <td>SP:7f4b788b00a2a10bcd60351c3e04c8f597101e96</td>\n",
       "      <td>[[This, paper, studies, the, problem, of, priv...</td>\n",
       "      <td>[[[6, 10, Task], [12, 15, OtherScientificTerm]...</td>\n",
       "      <td>[[This, paper, studies, a, low, communication,...</td>\n",
       "      <td>[[[4, 6, Method], [8, 10, Task], [13, 15, Mate...</td>\n",
       "    </tr>\n",
       "    <tr>\n",
       "      <th>2</th>\n",
       "      <td>SP:7f4b788b00a2a10bcd60351c3e04c8f597101e96</td>\n",
       "      <td>[[This, paper, studies, the, problem, of, priv...</td>\n",
       "      <td>[[[6, 10, Task], [12, 15, OtherScientificTerm]...</td>\n",
       "      <td>[[The, paper, proposed, a, differentially, pri...</td>\n",
       "      <td>[[[4, 7, Method], [9, 10, Method]], [[17, 18, ...</td>\n",
       "    </tr>\n",
       "    <tr>\n",
       "      <th>3</th>\n",
       "      <td>SP:7f4b788b00a2a10bcd60351c3e04c8f597101e96</td>\n",
       "      <td>[[This, paper, proposes, a, low, communication...</td>\n",
       "      <td>[[[4, 6, Method], [8, 10, Task], [13, 15, Mate...</td>\n",
       "      <td>[[This, paper, studies, FL, under, local, diff...</td>\n",
       "      <td>[[[3, 3, Task], [5, 8, OtherScientificTerm]], ...</td>\n",
       "    </tr>\n",
       "    <tr>\n",
       "      <th>4</th>\n",
       "      <td>SP:7f4b788b00a2a10bcd60351c3e04c8f597101e96</td>\n",
       "      <td>[[This, paper, proposes, a, low, communication...</td>\n",
       "      <td>[[[4, 6, Method], [8, 10, Task], [13, 15, Mate...</td>\n",
       "      <td>[[This, paper, studies, a, low, communication,...</td>\n",
       "      <td>[[[4, 6, Method], [8, 10, Task], [13, 15, Mate...</td>\n",
       "    </tr>\n",
       "    <tr>\n",
       "      <th>5</th>\n",
       "      <td>SP:7f4b788b00a2a10bcd60351c3e04c8f597101e96</td>\n",
       "      <td>[[This, paper, proposes, a, low, communication...</td>\n",
       "      <td>[[[4, 6, Method], [8, 10, Task], [13, 15, Mate...</td>\n",
       "      <td>[[The, paper, proposed, a, differentially, pri...</td>\n",
       "      <td>[[[4, 7, Method], [9, 10, Method]], [[17, 18, ...</td>\n",
       "    </tr>\n",
       "    <tr>\n",
       "      <th>6</th>\n",
       "      <td>SP:7f4b788b00a2a10bcd60351c3e04c8f597101e96</td>\n",
       "      <td>[[This, paper, proposes, a, differentially, pr...</td>\n",
       "      <td>[[[4, 7, Method], [9, 10, Method]], [[19, 22, ...</td>\n",
       "      <td>[[This, paper, studies, FL, under, local, diff...</td>\n",
       "      <td>[[[3, 3, Task], [5, 8, OtherScientificTerm]], ...</td>\n",
       "    </tr>\n",
       "    <tr>\n",
       "      <th>7</th>\n",
       "      <td>SP:7f4b788b00a2a10bcd60351c3e04c8f597101e96</td>\n",
       "      <td>[[This, paper, proposes, a, differentially, pr...</td>\n",
       "      <td>[[[4, 7, Method], [9, 10, Method]], [[19, 22, ...</td>\n",
       "      <td>[[This, paper, studies, a, low, communication,...</td>\n",
       "      <td>[[[4, 6, Method], [8, 10, Task], [13, 15, Mate...</td>\n",
       "    </tr>\n",
       "    <tr>\n",
       "      <th>8</th>\n",
       "      <td>SP:7f4b788b00a2a10bcd60351c3e04c8f597101e96</td>\n",
       "      <td>[[This, paper, proposes, a, differentially, pr...</td>\n",
       "      <td>[[[4, 7, Method], [9, 10, Method]], [[19, 22, ...</td>\n",
       "      <td>[[The, paper, proposed, a, differentially, pri...</td>\n",
       "      <td>[[[4, 7, Method], [9, 10, Method]], [[17, 18, ...</td>\n",
       "    </tr>\n",
       "    <tr>\n",
       "      <th>9</th>\n",
       "      <td>SP:632666b52c7c551d67fbbe70c06ed589c3a5e187</td>\n",
       "      <td>[[This, paper, studies, the, neural, machine, ...</td>\n",
       "      <td>[[[4, 7, Task], [12, 17, Method]], [[23, 24, M...</td>\n",
       "      <td>[[This, submission, works, on, the, neural, ma...</td>\n",
       "      <td>[[[5, 8, Task]], [[18, 19, OtherScientificTerm...</td>\n",
       "    </tr>\n",
       "    <tr>\n",
       "      <th>10</th>\n",
       "      <td>SP:632666b52c7c551d67fbbe70c06ed589c3a5e187</td>\n",
       "      <td>[[This, paper, studies, the, neural, machine, ...</td>\n",
       "      <td>[[[4, 7, Task], [12, 17, Method]], [[23, 24, M...</td>\n",
       "      <td>[[This, paper, proposes, a, method, to, introd...</td>\n",
       "      <td>[[[4, 4, Generic], [9, 10, OtherScientificTerm...</td>\n",
       "    </tr>\n",
       "    <tr>\n",
       "      <th>11</th>\n",
       "      <td>SP:632666b52c7c551d67fbbe70c06ed589c3a5e187</td>\n",
       "      <td>[[This, paper, studies, the, neural, machine, ...</td>\n",
       "      <td>[[[4, 7, Task], [12, 17, Method]], [[23, 24, M...</td>\n",
       "      <td>[[This, paper, presents, a, method, for, intro...</td>\n",
       "      <td>[[[4, 4, Generic], [7, 8, OtherScientificTerm]...</td>\n",
       "    </tr>\n",
       "    <tr>\n",
       "      <th>12</th>\n",
       "      <td>SP:632666b52c7c551d67fbbe70c06ed589c3a5e187</td>\n",
       "      <td>[[This, paper, proposes, a, method, to, learn,...</td>\n",
       "      <td>[[[4, 4, Generic], [8, 9, OtherScientificTerm]...</td>\n",
       "      <td>[[This, submission, works, on, the, neural, ma...</td>\n",
       "      <td>[[[5, 8, Task]], [[18, 19, OtherScientificTerm...</td>\n",
       "    </tr>\n",
       "    <tr>\n",
       "      <th>13</th>\n",
       "      <td>SP:632666b52c7c551d67fbbe70c06ed589c3a5e187</td>\n",
       "      <td>[[This, paper, proposes, a, method, to, learn,...</td>\n",
       "      <td>[[[4, 4, Generic], [8, 9, OtherScientificTerm]...</td>\n",
       "      <td>[[This, paper, proposes, a, method, to, introd...</td>\n",
       "      <td>[[[4, 4, Generic], [9, 10, OtherScientificTerm...</td>\n",
       "    </tr>\n",
       "    <tr>\n",
       "      <th>14</th>\n",
       "      <td>SP:632666b52c7c551d67fbbe70c06ed589c3a5e187</td>\n",
       "      <td>[[This, paper, proposes, a, method, to, learn,...</td>\n",
       "      <td>[[[4, 4, Generic], [8, 9, OtherScientificTerm]...</td>\n",
       "      <td>[[This, paper, presents, a, method, for, intro...</td>\n",
       "      <td>[[[4, 4, Generic], [7, 8, OtherScientificTerm]...</td>\n",
       "    </tr>\n",
       "    <tr>\n",
       "      <th>15</th>\n",
       "      <td>SP:632666b52c7c551d67fbbe70c06ed589c3a5e187</td>\n",
       "      <td>[[This, paper, proposes, a, method, to, improv...</td>\n",
       "      <td>[[], [], []]</td>\n",
       "      <td>[[This, submission, works, on, the, neural, ma...</td>\n",
       "      <td>[[[5, 8, Task]], [[18, 19, OtherScientificTerm...</td>\n",
       "    </tr>\n",
       "    <tr>\n",
       "      <th>16</th>\n",
       "      <td>SP:632666b52c7c551d67fbbe70c06ed589c3a5e187</td>\n",
       "      <td>[[This, paper, proposes, a, method, to, improv...</td>\n",
       "      <td>[[], [], []]</td>\n",
       "      <td>[[This, paper, proposes, a, method, to, introd...</td>\n",
       "      <td>[[[4, 4, Generic], [9, 10, OtherScientificTerm...</td>\n",
       "    </tr>\n",
       "    <tr>\n",
       "      <th>17</th>\n",
       "      <td>SP:632666b52c7c551d67fbbe70c06ed589c3a5e187</td>\n",
       "      <td>[[This, paper, proposes, a, method, to, improv...</td>\n",
       "      <td>[[], [], []]</td>\n",
       "      <td>[[This, paper, presents, a, method, for, intro...</td>\n",
       "      <td>[[[4, 4, Generic], [7, 8, OtherScientificTerm]...</td>\n",
       "    </tr>\n",
       "    <tr>\n",
       "      <th>18</th>\n",
       "      <td>SP:e3e728837f26acb9da283a42c219b6c3b3e131cb</td>\n",
       "      <td>[[This, paper, proposes, a, new, formalism, fo...</td>\n",
       "      <td>[[], [], []]</td>\n",
       "      <td>[[This, paper, proposes, the, game, -, theoret...</td>\n",
       "      <td>[[[4, 7, Method], [9, 15, Method], [20, 21, Me...</td>\n",
       "    </tr>\n",
       "    <tr>\n",
       "      <th>19</th>\n",
       "      <td>SP:e3e728837f26acb9da283a42c219b6c3b3e131cb</td>\n",
       "      <td>[[This, paper, proposes, a, new, formalism, fo...</td>\n",
       "      <td>[[], [], []]</td>\n",
       "      <td>[[This, paper, studies, the, problem, of, lear...</td>\n",
       "      <td>[[[11, 12, Method], [17, 17, Task]], [[24, 24,...</td>\n",
       "    </tr>\n",
       "  </tbody>\n",
       "</table>\n",
       "</div>"
      ],
      "text/plain": [
       "                                        doc_key  \\\n",
       "0   SP:7f4b788b00a2a10bcd60351c3e04c8f597101e96   \n",
       "1   SP:7f4b788b00a2a10bcd60351c3e04c8f597101e96   \n",
       "2   SP:7f4b788b00a2a10bcd60351c3e04c8f597101e96   \n",
       "3   SP:7f4b788b00a2a10bcd60351c3e04c8f597101e96   \n",
       "4   SP:7f4b788b00a2a10bcd60351c3e04c8f597101e96   \n",
       "5   SP:7f4b788b00a2a10bcd60351c3e04c8f597101e96   \n",
       "6   SP:7f4b788b00a2a10bcd60351c3e04c8f597101e96   \n",
       "7   SP:7f4b788b00a2a10bcd60351c3e04c8f597101e96   \n",
       "8   SP:7f4b788b00a2a10bcd60351c3e04c8f597101e96   \n",
       "9   SP:632666b52c7c551d67fbbe70c06ed589c3a5e187   \n",
       "10  SP:632666b52c7c551d67fbbe70c06ed589c3a5e187   \n",
       "11  SP:632666b52c7c551d67fbbe70c06ed589c3a5e187   \n",
       "12  SP:632666b52c7c551d67fbbe70c06ed589c3a5e187   \n",
       "13  SP:632666b52c7c551d67fbbe70c06ed589c3a5e187   \n",
       "14  SP:632666b52c7c551d67fbbe70c06ed589c3a5e187   \n",
       "15  SP:632666b52c7c551d67fbbe70c06ed589c3a5e187   \n",
       "16  SP:632666b52c7c551d67fbbe70c06ed589c3a5e187   \n",
       "17  SP:632666b52c7c551d67fbbe70c06ed589c3a5e187   \n",
       "18  SP:e3e728837f26acb9da283a42c219b6c3b3e131cb   \n",
       "19  SP:e3e728837f26acb9da283a42c219b6c3b3e131cb   \n",
       "\n",
       "                                        gen_sentences  \\\n",
       "0   [[This, paper, studies, the, problem, of, priv...   \n",
       "1   [[This, paper, studies, the, problem, of, priv...   \n",
       "2   [[This, paper, studies, the, problem, of, priv...   \n",
       "3   [[This, paper, proposes, a, low, communication...   \n",
       "4   [[This, paper, proposes, a, low, communication...   \n",
       "5   [[This, paper, proposes, a, low, communication...   \n",
       "6   [[This, paper, proposes, a, differentially, pr...   \n",
       "7   [[This, paper, proposes, a, differentially, pr...   \n",
       "8   [[This, paper, proposes, a, differentially, pr...   \n",
       "9   [[This, paper, studies, the, neural, machine, ...   \n",
       "10  [[This, paper, studies, the, neural, machine, ...   \n",
       "11  [[This, paper, studies, the, neural, machine, ...   \n",
       "12  [[This, paper, proposes, a, method, to, learn,...   \n",
       "13  [[This, paper, proposes, a, method, to, learn,...   \n",
       "14  [[This, paper, proposes, a, method, to, learn,...   \n",
       "15  [[This, paper, proposes, a, method, to, improv...   \n",
       "16  [[This, paper, proposes, a, method, to, improv...   \n",
       "17  [[This, paper, proposes, a, method, to, improv...   \n",
       "18  [[This, paper, proposes, a, new, formalism, fo...   \n",
       "19  [[This, paper, proposes, a, new, formalism, fo...   \n",
       "\n",
       "                                              gen_ner  \\\n",
       "0   [[[6, 10, Task], [12, 15, OtherScientificTerm]...   \n",
       "1   [[[6, 10, Task], [12, 15, OtherScientificTerm]...   \n",
       "2   [[[6, 10, Task], [12, 15, OtherScientificTerm]...   \n",
       "3   [[[4, 6, Method], [8, 10, Task], [13, 15, Mate...   \n",
       "4   [[[4, 6, Method], [8, 10, Task], [13, 15, Mate...   \n",
       "5   [[[4, 6, Method], [8, 10, Task], [13, 15, Mate...   \n",
       "6   [[[4, 7, Method], [9, 10, Method]], [[19, 22, ...   \n",
       "7   [[[4, 7, Method], [9, 10, Method]], [[19, 22, ...   \n",
       "8   [[[4, 7, Method], [9, 10, Method]], [[19, 22, ...   \n",
       "9   [[[4, 7, Task], [12, 17, Method]], [[23, 24, M...   \n",
       "10  [[[4, 7, Task], [12, 17, Method]], [[23, 24, M...   \n",
       "11  [[[4, 7, Task], [12, 17, Method]], [[23, 24, M...   \n",
       "12  [[[4, 4, Generic], [8, 9, OtherScientificTerm]...   \n",
       "13  [[[4, 4, Generic], [8, 9, OtherScientificTerm]...   \n",
       "14  [[[4, 4, Generic], [8, 9, OtherScientificTerm]...   \n",
       "15                                       [[], [], []]   \n",
       "16                                       [[], [], []]   \n",
       "17                                       [[], [], []]   \n",
       "18                                       [[], [], []]   \n",
       "19                                       [[], [], []]   \n",
       "\n",
       "                                        ref_sentences  \\\n",
       "0   [[This, paper, studies, FL, under, local, diff...   \n",
       "1   [[This, paper, studies, a, low, communication,...   \n",
       "2   [[The, paper, proposed, a, differentially, pri...   \n",
       "3   [[This, paper, studies, FL, under, local, diff...   \n",
       "4   [[This, paper, studies, a, low, communication,...   \n",
       "5   [[The, paper, proposed, a, differentially, pri...   \n",
       "6   [[This, paper, studies, FL, under, local, diff...   \n",
       "7   [[This, paper, studies, a, low, communication,...   \n",
       "8   [[The, paper, proposed, a, differentially, pri...   \n",
       "9   [[This, submission, works, on, the, neural, ma...   \n",
       "10  [[This, paper, proposes, a, method, to, introd...   \n",
       "11  [[This, paper, presents, a, method, for, intro...   \n",
       "12  [[This, submission, works, on, the, neural, ma...   \n",
       "13  [[This, paper, proposes, a, method, to, introd...   \n",
       "14  [[This, paper, presents, a, method, for, intro...   \n",
       "15  [[This, submission, works, on, the, neural, ma...   \n",
       "16  [[This, paper, proposes, a, method, to, introd...   \n",
       "17  [[This, paper, presents, a, method, for, intro...   \n",
       "18  [[This, paper, proposes, the, game, -, theoret...   \n",
       "19  [[This, paper, studies, the, problem, of, lear...   \n",
       "\n",
       "                                              ref_ner  \n",
       "0   [[[3, 3, Task], [5, 8, OtherScientificTerm]], ...  \n",
       "1   [[[4, 6, Method], [8, 10, Task], [13, 15, Mate...  \n",
       "2   [[[4, 7, Method], [9, 10, Method]], [[17, 18, ...  \n",
       "3   [[[3, 3, Task], [5, 8, OtherScientificTerm]], ...  \n",
       "4   [[[4, 6, Method], [8, 10, Task], [13, 15, Mate...  \n",
       "5   [[[4, 7, Method], [9, 10, Method]], [[17, 18, ...  \n",
       "6   [[[3, 3, Task], [5, 8, OtherScientificTerm]], ...  \n",
       "7   [[[4, 6, Method], [8, 10, Task], [13, 15, Mate...  \n",
       "8   [[[4, 7, Method], [9, 10, Method]], [[17, 18, ...  \n",
       "9   [[[5, 8, Task]], [[18, 19, OtherScientificTerm...  \n",
       "10  [[[4, 4, Generic], [9, 10, OtherScientificTerm...  \n",
       "11  [[[4, 4, Generic], [7, 8, OtherScientificTerm]...  \n",
       "12  [[[5, 8, Task]], [[18, 19, OtherScientificTerm...  \n",
       "13  [[[4, 4, Generic], [9, 10, OtherScientificTerm...  \n",
       "14  [[[4, 4, Generic], [7, 8, OtherScientificTerm]...  \n",
       "15  [[[5, 8, Task]], [[18, 19, OtherScientificTerm...  \n",
       "16  [[[4, 4, Generic], [9, 10, OtherScientificTerm...  \n",
       "17  [[[4, 4, Generic], [7, 8, OtherScientificTerm]...  \n",
       "18  [[[4, 7, Method], [9, 15, Method], [20, 21, Me...  \n",
       "19  [[[11, 12, Method], [17, 17, Task]], [[24, 24,...  "
      ]
     },
     "execution_count": 133,
     "metadata": {},
     "output_type": "execute_result"
    }
   ],
   "source": [
    "df_kg = evaluate(pd.DataFrame(result_all[4]))\n",
    "df_kg.iloc[:20]"
   ]
  },
  {
   "cell_type": "code",
   "execution_count": 134,
   "id": "89f3bf93-31bb-4372-942a-b2ffe4276998",
   "metadata": {
    "tags": []
   },
   "outputs": [],
   "source": [
    "def ext_ent(data, sent_col, ner_col):\n",
    "    all_sentences = [j for i in data[sent_col] for j in i]\n",
    "    flatten_ner = [j for i in data[ner_col] for j in i]\n",
    "    return [\" \".join(all_sentences[ner[0]:ner[1]+1]) for ner in flatten_ner]\n",
    "\n",
    "def cal_RP(gen, ref):\n",
    "    c = 0    \n",
    "    for ele in gen: \n",
    "        if ele in ref: c+=1\n",
    "    recall = c/len(ref)*100\n",
    "    precision = c/len(gen)*100\n",
    "    return recall, precision\n",
    "        \n",
    "def eval_ent(data):\n",
    "    gen_ner = list(set(ext_ent(data, 'gen_sentences', 'gen_ner')))\n",
    "    ref_ner = list(set(ext_ent(data, 'ref_sentences', 'ref_ner')))   \n",
    "    return cal_RP(gen_ner, ref_ner)\n",
    "    # print(f\"Recall: {recall:.2f} %\")\n",
    "    # print(f\"Precision: {precision:.2f} %\")\n",
    "\n",
    "r_list = []\n",
    "p_list = []\n",
    "for i in range(14):\n",
    "    recall, precision = eval_ent(df_kg.iloc[i])\n",
    "    r_list.append(recall)\n",
    "    p_list.append(precision)"
   ]
  },
  {
   "cell_type": "code",
   "execution_count": 135,
   "id": "64d9ee74-c5bd-4632-9ccd-e4d3eb1f3b35",
   "metadata": {
    "tags": []
   },
   "outputs": [
    {
     "name": "stdout",
     "output_type": "stream",
     "text": [
      "[81.81818181818183, 12.5, 7.142857142857142, 18.181818181818183, 87.5, 21.428571428571427, 9.090909090909092, 18.75, 64.28571428571429, 68.42105263157895]\n",
      "[90.0, 20.0, 10.0, 14.285714285714285, 100.0, 21.428571428571427, 11.11111111111111, 33.33333333333333, 100.0, 92.85714285714286]\n"
     ]
    }
   ],
   "source": [
    "print(r_list[:10])\n",
    "print(p_list[:10])"
   ]
  },
  {
   "cell_type": "code",
   "execution_count": 136,
   "id": "6946dfe8-65fd-4315-8dbb-9ed99365bd9f",
   "metadata": {
    "tags": []
   },
   "outputs": [
    {
     "name": "stdout",
     "output_type": "stream",
     "text": [
      "33.62851903735363\n",
      "47.97052154195011\n"
     ]
    }
   ],
   "source": [
    "print(sum(r_list)/len(r_list))\n",
    "print(sum(p_list)/len(p_list))"
   ]
  },
  {
   "cell_type": "code",
   "execution_count": 29,
   "id": "ff4c62a3-19f5-4ac5-a65d-65e847b2acaf",
   "metadata": {
    "tags": []
   },
   "outputs": [
    {
     "name": "stdout",
     "output_type": "stream",
     "text": [
      "[['This', 'paper', 'studies', 'the', 'problem', 'of', 'local', 'differential', 'privacy', 'constraints', 'in', 'FL', '.'], ['The', 'authors', 'propose', 'a', 'gradient', 'subsampling', 'strategy', 'to', 'reduce', 'the', 'communication', 'costs', 'and', 'improve', 'privacy', '-', 'preserving', 'FL', 'algorithms', '.'], ['The', 'main', 'contribution', 'of', 'the', 'paper', 'is', 'to', 'propose', 'a', 'new', 'gradient', '-', 'based', 'learning', 'algorithm', 'sqSGD', '.'], ['The', 'key', 'idea', 'is', 'to', 'apply', 'randomized', 'rotation', 'to', 'the', 'quantization', 'error', 'of', 'the', 'base', 'algorithm', 'to', 'improve', 'the', 'communication', 'efficiency', 'and', 'highdimensional', 'compatibility', '.']]\n"
     ]
    }
   ],
   "source": [
    "gen_sentences = (df_kg['gen_sentences'][0])"
   ]
  },
  {
   "cell_type": "code",
   "execution_count": 27,
   "id": "c9e5f70b-0ee2-4b2e-813d-af198e7de174",
   "metadata": {
    "tags": []
   },
   "outputs": [
    {
     "data": {
      "text/plain": [
       "[[[6, 9, 'Task'], [11, 11, 'Task']],\n",
       " [[17, 19, 'Method'], [23, 24, 'Metric'], [27, 31, 'Method']],\n",
       " [[44, 49, 'Method']],\n",
       " [[57, 58, 'OtherScientificTerm'],\n",
       "  [61, 62, 'OtherScientificTerm'],\n",
       "  [65, 66, 'Generic'],\n",
       "  [70, 71, 'Metric'],\n",
       "  [73, 74, 'Metric']]]"
      ]
     },
     "execution_count": 27,
     "metadata": {},
     "output_type": "execute_result"
    }
   ],
   "source": [
    "df_kg['gen_ner'][0]"
   ]
  },
  {
   "cell_type": "code",
   "execution_count": 8,
   "id": "c4031532-c8a3-47a3-b115-cf1e3f1d9873",
   "metadata": {
    "tags": []
   },
   "outputs": [
    {
     "name": "stdout",
     "output_type": "stream",
     "text": [
      "[['This', 'paper', 'proposes', 'a', 'new', 'method', 'to', 'incorporate', 'prior', 'knowledge', 'into', 'Transformer', '-', 'based', 'sentence', 'encoders', 'for', 'neural', 'machine', 'translation', '(', 'NMT', ')', '.'], ['The', 'prior', 'knowledge', 'matrix', 'is', 'constructed', 'from', 'the', 'query', 'matrix', 'of', 'the', 'NMT', 'component', ',', 'and', 'this', 'matrix', 'is', 'used', 'to', 'encode', 'the', 'prior', 'knowledge', 'of', 'the', 'Transformer', 'encoder', '.'], ['A', 'gating', 'mechanism', 'is', 'also', 'introduced', 'to', 'control', 'the', 'quality', 'of', 'Transformer', 'decoder', 'output', '.'], ['Experiments', 'show', 'that', 'the', 'proposed', 'procedure', 'is', 'able', 'to', 'learn', 'a', 'prior', 'knowledge', 'representation', 'matrix', 'that', 'can', 'be', 'used', 'to', 'improve', 'the', 'performance', 'of', 'a', 'Transformer', 'self', '-', 'attention', 'mechanism', '.']]\n"
     ]
    }
   ],
   "source": [
    "df = pd.DataFrame(result_list)\n",
    "print(df['sentences'][4])"
   ]
  },
  {
   "cell_type": "code",
   "execution_count": 43,
   "id": "60d3007d-b854-4046-9eed-4f04ed9c28f7",
   "metadata": {
    "tags": []
   },
   "outputs": [
    {
     "name": "stdout",
     "output_type": "stream",
     "text": [
      "          PERSON  ORG  LOCATION  O\n",
      "PERSON         1    0         0  1\n",
      "ORG            0    1         0  0\n",
      "LOCATION       0    0         2  0\n",
      "O              1    0         0  0\n"
     ]
    }
   ],
   "source": [
    "from sklearn.metrics import confusion_matrix\n",
    "import pandas as pd\n",
    "\n",
    "# true labels\n",
    "y_true = [\"PERSON\", \"ORG\", \"LOCATION\", \"O\", \"PERSON\", \"LOCATION\"]\n",
    "\n",
    "# predicted labels\n",
    "y_pred = [\"PERSON\", \"ORG\", \"LOCATION\", \"PERSON\", \"O\", \"LOCATION\"]\n",
    "\n",
    "# create confusion matrix\n",
    "cm = confusion_matrix(y_true, y_pred, labels=[\"PERSON\", \"ORG\", \"LOCATION\", \"O\"])\n",
    "\n",
    "# convert confusion matrix to dataframe for better visualization\n",
    "df_cm = pd.DataFrame(cm, index=[\"PERSON\", \"ORG\", \"LOCATION\", \"O\"], columns=[\"PERSON\", \"ORG\", \"LOCATION\", \"O\"])\n",
    "\n",
    "# print confusion matrix\n",
    "print(df_cm)"
   ]
  },
  {
   "cell_type": "code",
   "execution_count": 47,
   "id": "832250f6-cdc8-4ca0-ab97-e535ec75c144",
   "metadata": {
    "tags": []
   },
   "outputs": [
    {
     "name": "stderr",
     "output_type": "stream",
     "text": [
      "/home/nopphawann/.local/lib/python3.8/site-packages/sklearn/metrics/_classification.py:276: FutureWarning: elementwise comparison failed; returning scalar instead, but in the future will perform elementwise comparison\n",
      "  if np.all([l not in y_true for l in labels]):\n"
     ]
    },
    {
     "ename": "ValueError",
     "evalue": "At least one label specified must be in y_true",
     "output_type": "error",
     "traceback": [
      "\u001b[0;31m---------------------------------------------------------------------------\u001b[0m",
      "\u001b[0;31mValueError\u001b[0m                                Traceback (most recent call last)",
      "Cell \u001b[0;32mIn[47], line 12\u001b[0m\n\u001b[1;32m      1\u001b[0m \u001b[38;5;66;03m# import matplotlib.pyplot as plt\u001b[39;00m\n\u001b[1;32m      2\u001b[0m \u001b[38;5;66;03m# from sklearn.datasets import make_classification\u001b[39;00m\n\u001b[1;32m      3\u001b[0m \u001b[38;5;66;03m# from sklearn.metrics import confusion_matrix, ConfusionMatrixDisplay\u001b[39;00m\n\u001b[0;32m   (...)\u001b[0m\n\u001b[1;32m     10\u001b[0m \u001b[38;5;66;03m# SVC(random_state=0)\u001b[39;00m\n\u001b[1;32m     11\u001b[0m \u001b[38;5;66;03m# predictions = clf.predict(X_test)\u001b[39;00m\n\u001b[0;32m---> 12\u001b[0m cm \u001b[38;5;241m=\u001b[39m \u001b[43mconfusion_matrix\u001b[49m\u001b[43m(\u001b[49m\u001b[43my_true\u001b[49m\u001b[43m,\u001b[49m\u001b[43m \u001b[49m\u001b[43my_pred\u001b[49m\u001b[43m,\u001b[49m\u001b[43m \u001b[49m\u001b[43mlabels\u001b[49m\u001b[38;5;241;43m=\u001b[39;49m\u001b[43mclf\u001b[49m\u001b[38;5;241;43m.\u001b[39;49m\u001b[43mclasses_\u001b[49m\u001b[43m)\u001b[49m\n\u001b[1;32m     13\u001b[0m disp \u001b[38;5;241m=\u001b[39m ConfusionMatrixDisplay(confusion_matrix\u001b[38;5;241m=\u001b[39mcm, display_labels\u001b[38;5;241m=\u001b[39mclf\u001b[38;5;241m.\u001b[39mclasses_)\n\u001b[1;32m     14\u001b[0m disp\u001b[38;5;241m.\u001b[39mplot()\n",
      "File \u001b[0;32m~/.local/lib/python3.8/site-packages/sklearn/metrics/_classification.py:277\u001b[0m, in \u001b[0;36mconfusion_matrix\u001b[0;34m(y_true, y_pred, labels, sample_weight, normalize)\u001b[0m\n\u001b[1;32m    275\u001b[0m     labels \u001b[38;5;241m=\u001b[39m np\u001b[38;5;241m.\u001b[39masarray(labels)\n\u001b[1;32m    276\u001b[0m     \u001b[38;5;28;01mif\u001b[39;00m np\u001b[38;5;241m.\u001b[39mall([l \u001b[38;5;129;01mnot\u001b[39;00m \u001b[38;5;129;01min\u001b[39;00m y_true \u001b[38;5;28;01mfor\u001b[39;00m l \u001b[38;5;129;01min\u001b[39;00m labels]):\n\u001b[0;32m--> 277\u001b[0m         \u001b[38;5;28;01mraise\u001b[39;00m \u001b[38;5;167;01mValueError\u001b[39;00m(\u001b[38;5;124m\"\u001b[39m\u001b[38;5;124mAt least one label specified must be in y_true\u001b[39m\u001b[38;5;124m\"\u001b[39m)\n\u001b[1;32m    279\u001b[0m \u001b[38;5;28;01mif\u001b[39;00m sample_weight \u001b[38;5;129;01mis\u001b[39;00m \u001b[38;5;28;01mNone\u001b[39;00m:\n\u001b[1;32m    280\u001b[0m     sample_weight \u001b[38;5;241m=\u001b[39m np\u001b[38;5;241m.\u001b[39mones(y_true\u001b[38;5;241m.\u001b[39mshape[\u001b[38;5;241m0\u001b[39m], dtype\u001b[38;5;241m=\u001b[39mnp\u001b[38;5;241m.\u001b[39mint64)\n",
      "\u001b[0;31mValueError\u001b[0m: At least one label specified must be in y_true"
     ]
    }
   ],
   "source": [
    "# import matplotlib.pyplot as plt\n",
    "# from sklearn.datasets import make_classification\n",
    "# from sklearn.metrics import confusion_matrix, ConfusionMatrixDisplay\n",
    "# from sklearn.model_selection import train_test_split\n",
    "# from sklearn.svm import SVC\n",
    "# X, y = make_classification(random_state=0)\n",
    "# X_train, X_test, y_train, y_test = train_test_split(X, y, random_state=0)\n",
    "# clf = SVC(random_state=0)\n",
    "# clf.fit(X_train, y_train)\n",
    "# SVC(random_state=0)\n",
    "# predictions = clf.predict(X_test)\n",
    "cm = confusion_matrix(y_true, y_pred, labels=clf.classes_)\n",
    "disp = ConfusionMatrixDisplay(confusion_matrix=cm, display_labels=clf.classes_)\n",
    "disp.plot()\n",
    "\n",
    "plt.show()"
   ]
  },
  {
   "cell_type": "code",
   "execution_count": 48,
   "id": "106c30ff-d5dd-459b-b367-f772d0e3b89a",
   "metadata": {
    "tags": []
   },
   "outputs": [
    {
     "data": {
      "text/plain": [
       "array([1, 0, 1, 0, 0, 1, 1, 0, 0, 1, 1, 0, 0, 0, 0, 1, 0, 0, 1, 1, 1, 0,\n",
       "       1, 0, 0])"
      ]
     },
     "execution_count": 48,
     "metadata": {},
     "output_type": "execute_result"
    }
   ],
   "source": [
    "predictions"
   ]
  },
  {
   "cell_type": "code",
   "execution_count": 49,
   "id": "ef2ab848-e77e-4929-873d-c1a25145b2b5",
   "metadata": {
    "tags": []
   },
   "outputs": [
    {
     "data": {
      "text/plain": [
       "array([1, 1, 1, 0, 0, 1, 1, 0, 1, 1, 1, 0, 0, 0, 0, 1, 0, 0, 1, 1, 0, 0,\n",
       "       1, 0, 0])"
      ]
     },
     "execution_count": 49,
     "metadata": {},
     "output_type": "execute_result"
    }
   ],
   "source": [
    "y_test"
   ]
  },
  {
   "cell_type": "code",
   "execution_count": null,
   "id": "ba725bb5-9acb-4ec2-ab97-07f574c2cf89",
   "metadata": {},
   "outputs": [],
   "source": []
  }
 ],
 "metadata": {
  "kernelspec": {
   "display_name": "Python 3 (ipykernel)",
   "language": "python",
   "name": "python3"
  },
  "language_info": {
   "codemirror_mode": {
    "name": "ipython",
    "version": 3
   },
   "file_extension": ".py",
   "mimetype": "text/x-python",
   "name": "python",
   "nbconvert_exporter": "python",
   "pygments_lexer": "ipython3",
   "version": "3.8.10"
  }
 },
 "nbformat": 4,
 "nbformat_minor": 5
}
