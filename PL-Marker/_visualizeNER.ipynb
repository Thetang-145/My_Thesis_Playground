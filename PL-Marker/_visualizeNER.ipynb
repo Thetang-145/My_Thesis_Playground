{
 "cells": [
  {
   "cell_type": "code",
   "execution_count": 1,
   "id": "8dd3dc61-bc1b-498d-889a-1981cfc62340",
   "metadata": {},
   "outputs": [],
   "source": [
    "import json\n",
    "import sys\n",
    "import pandas as pd\n",
    "import matplotlib.pyplot as plt"
   ]
  },
  {
   "cell_type": "code",
   "execution_count": 2,
   "id": "0808a7da-aa2c-47a1-b1ca-35052f1c5e0a",
   "metadata": {},
   "outputs": [],
   "source": [
    "FILEPATHS = {\n",
    "    \"NER\": {\n",
    "        \"train\": \"sciner_models/sciner-scibert/train_ner.json\",\n",
    "        \"val\": \"sciner_models/sciner-scibert/val_ner.json\",\n",
    "    },\n",
    "    \"RE\": {\n",
    "        \"train\": \"scire_models/scire-scibert/train_re.json\",\n",
    "        \"val\": \"scire_models/scire-scibert/val_re.json\",\n",
    "    }\n",
    "}"
   ]
  },
  {
   "cell_type": "code",
   "execution_count": 3,
   "id": "11e154ab-c77f-40bc-a2d2-9444862f1095",
   "metadata": {},
   "outputs": [],
   "source": [
    "def print_progress(curr, full, prefix=\"\", bar_size=30):    \n",
    "    bar = int((curr+1)/full*bar_size)\n",
    "    sys.stdout.write(f\"\\r{prefix}[{'='*bar}{' '*(bar_size-bar)}] {curr+1}/{full}\")\n",
    "    sys.stdout.flush()\n",
    "    "
   ]
  },
  {
   "cell_type": "code",
   "execution_count": 4,
   "id": "50b66aba-41be-4f36-aa40-b0fe968e27b5",
   "metadata": {},
   "outputs": [
    {
     "name": "stdout",
     "output_type": "stream",
     "text": [
      "{'doc_key': 'SP:7f4b788b00a2a10bcd60351c3e04c8f597101e96', 'sentences': [['This', 'paper', 'studies', 'FL', 'under', 'local', 'differential', 'privacy', 'constraints', '.'], ['They', 'identify', 'two', 'major', 'concerns', 'in', 'designing', 'practical', 'privacy-preserving', 'FL', 'algorithms', ':', 'communication', 'efficiency', 'and', 'high\\x02dimensional', 'compatibility', ',', 'and', 'develop', 'a', 'gradient-based', 'learning', 'algorithm', 'sqSGD', 'that', 'addresses', 'both', 'concerns', '.'], ['They', 'improve', 'the', 'base', 'algorithm', 'in', 'two', 'ways', ':', 'First', ',', 'apply', 'a', 'gradient', 'subsampling', 'strategy', 'that', 'offers', 'simultaneously', 'better', 'training', 'performance', 'and', 'smaller', 'communication', 'costs', '.'], ['Secondly', ',', 'utilize', 'randomized', 'rotation', 'as', 'a', 'preprocessing', 'step', 'to', 'reduce', 'quantization', 'error', '.']], 'ner': [[], [], [], []], 'relations': [[], [], [], []], 'predicted_ner': [[[3, 3, 'Task'], [5, 8, 'OtherScientificTerm']], [[18, 20, 'Method'], [22, 23, 'Metric'], [25, 26, 'Metric'], [31, 34, 'Method']], [[43, 44, 'Generic'], [53, 55, 'Method'], [64, 65, 'Metric']], [[70, 71, 'Method'], [78, 79, 'OtherScientificTerm']]]}\n"
     ]
    }
   ],
   "source": [
    "filepath = FILEPATHS[\"NER\"][\"val\"]\n",
    "with open(filepath, 'r') as json_file:\n",
    "    json_list = list(json_file)\n",
    "data_ner = [json.loads(json_str) for json_str in json_list]\n",
    "print(data_ner[0])"
   ]
  },
  {
   "cell_type": "code",
   "execution_count": 5,
   "id": "181d98a6-d7e5-425b-b9aa-b4f51381774e",
   "metadata": {},
   "outputs": [
    {
     "name": "stdout",
     "output_type": "stream",
     "text": [
      "Sentence 0: \n",
      "This paper studies FL under local differential privacy constraints .\n",
      "\t                Task: FL                                                \n",
      "\t OtherScientificTerm: local differential privacy constraints            \n",
      "\n",
      "Sentence 1: \n",
      "They identify two major concerns in designing practical privacy-preserving FL algorithms : communication efficiency and high\u0002dimensional compatibility , and develop a gradient-based learning algorithm sqSGD that addresses both concerns .\n",
      "\t              Method: privacy-preserving FL algorithms                  \n",
      "\t              Metric: communication efficiency                          \n",
      "\t              Metric: high\u0002dimensional compatibility                    \n",
      "\t              Method: gradient-based learning algorithm sqSGD           \n",
      "\n",
      "Sentence 2: \n",
      "They improve the base algorithm in two ways : First , apply a gradient subsampling strategy that offers simultaneously better training performance and smaller communication costs .\n",
      "\t             Generic: base algorithm                                    \n",
      "\t              Method: gradient subsampling strategy                     \n",
      "\t              Metric: communication costs                               \n",
      "\n",
      "Sentence 3: \n",
      "Secondly , utilize randomized rotation as a preprocessing step to reduce quantization error .\n",
      "\t              Method: randomized rotation                               \n",
      "\t OtherScientificTerm: quantization error                                \n",
      "\n"
     ]
    }
   ],
   "source": [
    "result = data_ner[0]\n",
    "all_sentences = [j for i in result[\"sentences\"] for j in i]\n",
    "\n",
    "for idx, sent in enumerate(result[\"sentences\"]):\n",
    "    print(f\"Sentence {idx}: \")\n",
    "    print(\" \".join(sent))\n",
    "    for pred_ner in result[\"predicted_ner\"][idx]:\n",
    "        start_idx = pred_ner[0]\n",
    "        end_idx   = pred_ner[1]+1\n",
    "        ent       = \" \".join(all_sentences[start_idx:end_idx])\n",
    "        print(\"\\t{: >20}: {: <50}\".format(pred_ner[2], ent))\n",
    "    print()"
   ]
  },
  {
   "cell_type": "code",
   "execution_count": 6,
   "id": "6a8f402e-6def-4866-9b55-844068fbd9d1",
   "metadata": {},
   "outputs": [],
   "source": [
    "filepath = FILEPATHS[\"RE\"][\"val\"]\n",
    "with open(filepath, 'r') as json_file:\n",
    "    json_list = list(json_file)\n",
    "data_len = len(json_list)\n",
    "data_re = [json.loads(json_str) for json_str in json_list]"
   ]
  },
  {
   "cell_type": "code",
   "execution_count": 7,
   "id": "201d5d43-d5d5-4174-9eb5-f4c94ca82ca9",
   "metadata": {},
   "outputs": [
    {
     "name": "stdout",
     "output_type": "stream",
     "text": [
      "{'doc_key': 'SP:7f4b788b00a2a10bcd60351c3e04c8f597101e96', 'sentences': [['The', 'paper', 'proposed', 'a', 'differentially', 'private', 'training', 'algorithm', 'for', 'federated', 'learning', '.'], ['The', 'target', 'is', 'to', 'achieve', 'communication', 'reduction', 'while', 'keeping', 'differential', 'privacy', 'during', 'training', '.'], ['The', 'proposed', 'algorithm', 'adds', 'a', 'few', 'new', 'components', 'to', 'SGD', ',', 'including', 'a', 'privacy', 'mechanism', ',', 'a', 'random', 'rotation', 'to', 'reduce', 'quantization', 'error', ',', 'a', 'gradient', 'coordinate', 'selection', 'mechanism', 'to', 'reduce', 'communication/computation', '.'], ['Experiments', 'with', 'high', '\\\\epsilon', 'local', 'differentially', 'privacy', 'guarantees', 'are', 'conducted', '.'], ['The', 'proposed', 'algorithm', 'outperforms', 'a', 'baseline', 'algorithm', '.']], 'ner': [[], [], [], [], []], 'relations': [[], [], [], [], []], 'predicted_ner': [[[4, 7, 'Method'], [9, 10, 'Method']], [[17, 18, 'Task'], [21, 22, 'OtherScientificTerm']], [[28, 28, 'Generic'], [33, 33, 'Generic'], [35, 35, 'Method'], [39, 40, 'Method'], [43, 44, 'Method'], [47, 48, 'OtherScientificTerm'], [51, 54, 'Method'], [57, 57, 'OtherScientificTerm']], [[61, 66, 'OtherScientificTerm']], [[72, 72, 'Generic'], [75, 76, 'Generic']]], 'predicted_re': [[0, [[[4, 7], [9, 10], 'USED-FOR']]], [1, []], [2, [[[39, 40], [43, 44], 'CONJUNCTION'], [[43, 44], [47, 48], 'USED-FOR'], [[43, 44], [51, 54], 'CONJUNCTION'], [[51, 54], [57, 57], 'USED-FOR'], [[28, 28], [35, 35], 'USED-FOR'], [[33, 33], [35, 35], 'USED-FOR'], [[33, 33], [28, 28], 'PART-OF'], [[43, 44], [33, 33], 'PART-OF'], [[51, 54], [33, 33], 'PART-OF'], [[39, 40], [33, 33], 'PART-OF']]], [3, []], [4, [[[72, 72], [75, 76], 'COMPARE']]]]}\n"
     ]
    }
   ],
   "source": [
    "result = data_re[2]\n",
    "print(result)"
   ]
  },
  {
   "cell_type": "code",
   "execution_count": 8,
   "id": "9c3cd981-1238-49b1-825d-25d7da71b327",
   "metadata": {},
   "outputs": [
    {
     "name": "stdout",
     "output_type": "stream",
     "text": [
      "Sentence 0: \n",
      "The paper proposed a differentially private training algorithm for federated learning .\n",
      "[Entity type]\n",
      "\t              Method: differentially private training algorithm         \n",
      "\t              Method: federated learning                                \n",
      "[Triples]\n",
      "(differentially private training algorithm) (USED-FOR) (federated learning)\n",
      "\n",
      "Sentence 1: \n",
      "The target is to achieve communication reduction while keeping differential privacy during training .\n",
      "[Entity type]\n",
      "\t                Task: communication reduction                           \n",
      "\t OtherScientificTerm: differential privacy                              \n",
      "[Triples]\n",
      "\n",
      "Sentence 2: \n",
      "The proposed algorithm adds a few new components to SGD , including a privacy mechanism , a random rotation to reduce quantization error , a gradient coordinate selection mechanism to reduce communication/computation .\n",
      "[Entity type]\n",
      "\t             Generic: algorithm                                         \n",
      "\t             Generic: components                                        \n",
      "\t              Method: SGD                                               \n",
      "\t              Method: privacy mechanism                                 \n",
      "\t              Method: random rotation                                   \n",
      "\t OtherScientificTerm: quantization error                                \n",
      "\t              Method: gradient coordinate selection mechanism           \n",
      "\t OtherScientificTerm: communication/computation                         \n",
      "[Triples]\n",
      "(privacy mechanism) (CONJUNCTION) (random rotation)\n",
      "(random rotation) (USED-FOR) (quantization error)\n",
      "(random rotation) (CONJUNCTION) (gradient coordinate selection mechanism)\n",
      "(gradient coordinate selection mechanism) (USED-FOR) (communication/computation)\n",
      "(algorithm) (USED-FOR) (SGD)\n",
      "(components) (USED-FOR) (SGD)\n",
      "(components) (PART-OF) (algorithm)\n",
      "(random rotation) (PART-OF) (components)\n",
      "(gradient coordinate selection mechanism) (PART-OF) (components)\n",
      "(privacy mechanism) (PART-OF) (components)\n",
      "\n",
      "Sentence 3: \n",
      "Experiments with high \\epsilon local differentially privacy guarantees are conducted .\n",
      "[Entity type]\n",
      "\t OtherScientificTerm: high \\epsilon local differentially privacy guarantees\n",
      "[Triples]\n",
      "\n",
      "Sentence 4: \n",
      "The proposed algorithm outperforms a baseline algorithm .\n",
      "[Entity type]\n",
      "\t             Generic: algorithm                                         \n",
      "\t             Generic: baseline algorithm                                \n",
      "[Triples]\n",
      "(algorithm) (COMPARE) (baseline algorithm)\n",
      "\n"
     ]
    }
   ],
   "source": [
    "all_sentences = [j for i in result[\"sentences\"] for j in i]\n",
    "for idx, sent in enumerate(result[\"sentences\"]):\n",
    "    print(f\"Sentence {idx}: \")\n",
    "    print(\" \".join(sent))\n",
    "    print(f\"[Entity type]\")\n",
    "    for pred_ner in result[\"predicted_ner\"][idx]:\n",
    "        start_idx = pred_ner[0]\n",
    "        end_idx   = pred_ner[1]+1\n",
    "        ent       = \" \".join(all_sentences[start_idx:end_idx])\n",
    "        print(\"\\t{: >20}: {: <50}\".format(pred_ner[2], ent))\n",
    "    print(f\"[Triples]\")\n",
    "    for re in result[\"predicted_re\"][idx][1]:\n",
    "        s = \" \".join(all_sentences[re[0][0]:(re[0][1]+1)])\n",
    "        p = re[2]\n",
    "        o = \" \".join(all_sentences[re[1][0]:(re[1][1]+1)])\n",
    "        print(f\"({s}) ({p}) ({o})\")\n",
    "    \n",
    "    print()"
   ]
  },
  {
   "cell_type": "code",
   "execution_count": 9,
   "id": "77195e7f-b219-4784-88b6-d465f08162e5",
   "metadata": {},
   "outputs": [],
   "source": [
    "def display_triple(sent, rel=\"\"):\n",
    "    # s_inx_beg = rel[0][0]\n",
    "    # s_inx_end = rel[0][1]+1\n",
    "    # o_inx_beg = rel[1][0]\n",
    "    # o_inx_end = rel[1][1]+1\n",
    "    # s = \" \".join(all_sentences[s_inx_beg:s_inx_end])\n",
    "    # p = re[2]\n",
    "    # s = \" \".join(all_sentences[o_inx_beg:o_inx_end])\n",
    "    for w in sent:\n",
    "        print(f\"{w}\", end=\" \")"
   ]
  },
  {
   "cell_type": "code",
   "execution_count": 10,
   "id": "ff0b235f-919b-43ba-a5ed-7625c5d3bd98",
   "metadata": {},
   "outputs": [
    {
     "name": "stdout",
     "output_type": "stream",
     "text": [
      "The paper proposed a differentially private training algorithm for federated learning . The target is to achieve communication reduction while keeping differential privacy during training . The proposed algorithm adds a few new components to SGD , including a privacy mechanism , a random rotation to reduce quantization error , a gradient coordinate selection mechanism to reduce communication/computation . Experiments with high \\epsilon local differentially privacy guarantees are conducted . The proposed algorithm outperforms a baseline algorithm . "
     ]
    }
   ],
   "source": [
    "display_triple(all_sentences)"
   ]
  },
  {
   "cell_type": "code",
   "execution_count": 21,
   "id": "5cac0312-4cc3-432b-ab50-358a3b25152b",
   "metadata": {},
   "outputs": [],
   "source": [
    "import spacy\n",
    "from spacy import displacy\n",
    "from spacy.tokens import Span\n",
    "colors = {\n",
    "    'Task':     \"#DE3163\", \n",
    "    \"Method\":   \"#6495ED\", \n",
    "    \"Metric\":   \"#FF00FF\", \n",
    "    \"Material\": \"#40E0D0\", \n",
    "    \"Generic\":  \"#FFBF00\",\n",
    "    \"OtherScientificTerm\": \"#9FE2BF\", \n",
    "}\n",
    "options = {\"ents\": colors.keys(), \"colors\": colors, \"compact\": True,}\n",
    "nlp = spacy.load(\"en_core_web_sm\")\n",
    "\n",
    "def display_ent(doc, ents):\n",
    "    doc = nlp(doc)\n",
    "    span_list = [Span(doc, start, end, ent_type) for start, end, ent_type in ents]\n",
    "    doc.set_ents(span_list)\n",
    "    ents = list(doc.ents)\n",
    "    displacy.render(doc, style=\"ent\", options=options)"
   ]
  },
  {
   "cell_type": "code",
   "execution_count": 22,
   "id": "9615a3fa-7dc2-4704-8522-2ff87e1e64d9",
   "metadata": {},
   "outputs": [],
   "source": [
    "def display_graph(doc, rels):\n",
    "    pass"
   ]
  },
  {
   "cell_type": "code",
   "execution_count": 23,
   "id": "afaec8b0-a63e-42e0-ab92-a33c59dd1da7",
   "metadata": {},
   "outputs": [
    {
     "name": "stdout",
     "output_type": "stream",
     "text": [
      "[0, [[[4, 7], [9, 10], 'USED-FOR']]]\n",
      "[1, []]\n",
      "[2, [[[39, 40], [43, 44], 'CONJUNCTION'], [[43, 44], [47, 48], 'USED-FOR'], [[43, 44], [51, 54], 'CONJUNCTION'], [[51, 54], [57, 57], 'USED-FOR'], [[28, 28], [35, 35], 'USED-FOR'], [[33, 33], [35, 35], 'USED-FOR'], [[33, 33], [28, 28], 'PART-OF'], [[43, 44], [33, 33], 'PART-OF'], [[51, 54], [33, 33], 'PART-OF'], [[39, 40], [33, 33], 'PART-OF']]]\n",
      "[3, []]\n",
      "[4, [[[72, 72], [75, 76], 'COMPARE']]]\n"
     ]
    }
   ],
   "source": [
    "flatten_ner = [j for i in result[\"predicted_ner\"] for j in i]\n",
    "flatten_re  = [j for i in result[\"predicted_re\"] for j in i[1]]\n",
    "for i in result[\"predicted_re\"]:\n",
    "    print(i)"
   ]
  },
  {
   "cell_type": "code",
   "execution_count": 24,
   "id": "46f7b724-b91a-4665-aa8e-ee3515ba5760",
   "metadata": {},
   "outputs": [
    {
     "data": {
      "text/html": [
       "<span class=\"tex2jax_ignore\"><div class=\"entities\" style=\"line-height: 2.5; direction: ltr\">The paper proposed a \n",
       "<mark class=\"entity\" style=\"background: #6495ED; padding: 0.45em 0.6em; margin: 0 0.25em; line-height: 1; border-radius: 0.35em;\">\n",
       "    differentially private training\n",
       "    <span style=\"font-size: 0.8em; font-weight: bold; line-height: 1; border-radius: 0.35em; vertical-align: middle; margin-left: 0.5rem\">Method</span>\n",
       "</mark>\n",
       " algorithm for \n",
       "<mark class=\"entity\" style=\"background: #6495ED; padding: 0.45em 0.6em; margin: 0 0.25em; line-height: 1; border-radius: 0.35em;\">\n",
       "    federated\n",
       "    <span style=\"font-size: 0.8em; font-weight: bold; line-height: 1; border-radius: 0.35em; vertical-align: middle; margin-left: 0.5rem\">Method</span>\n",
       "</mark>\n",
       " learning . The target is to achieve \n",
       "<mark class=\"entity\" style=\"background: #DE3163; padding: 0.45em 0.6em; margin: 0 0.25em; line-height: 1; border-radius: 0.35em;\">\n",
       "    communication\n",
       "    <span style=\"font-size: 0.8em; font-weight: bold; line-height: 1; border-radius: 0.35em; vertical-align: middle; margin-left: 0.5rem\">Task</span>\n",
       "</mark>\n",
       " reduction while keeping \n",
       "<mark class=\"entity\" style=\"background: #9FE2BF; padding: 0.45em 0.6em; margin: 0 0.25em; line-height: 1; border-radius: 0.35em;\">\n",
       "    differential\n",
       "    <span style=\"font-size: 0.8em; font-weight: bold; line-height: 1; border-radius: 0.35em; vertical-align: middle; margin-left: 0.5rem\">OtherScientificTerm</span>\n",
       "</mark>\n",
       " privacy during training . The proposed algorithm adds a few new components to SGD , including a \n",
       "<mark class=\"entity\" style=\"background: #6495ED; padding: 0.45em 0.6em; margin: 0 0.25em; line-height: 1; border-radius: 0.35em;\">\n",
       "    privacy\n",
       "    <span style=\"font-size: 0.8em; font-weight: bold; line-height: 1; border-radius: 0.35em; vertical-align: middle; margin-left: 0.5rem\">Method</span>\n",
       "</mark>\n",
       " mechanism , a \n",
       "<mark class=\"entity\" style=\"background: #6495ED; padding: 0.45em 0.6em; margin: 0 0.25em; line-height: 1; border-radius: 0.35em;\">\n",
       "    random\n",
       "    <span style=\"font-size: 0.8em; font-weight: bold; line-height: 1; border-radius: 0.35em; vertical-align: middle; margin-left: 0.5rem\">Method</span>\n",
       "</mark>\n",
       " rotation to reduce \n",
       "<mark class=\"entity\" style=\"background: #9FE2BF; padding: 0.45em 0.6em; margin: 0 0.25em; line-height: 1; border-radius: 0.35em;\">\n",
       "    quantization\n",
       "    <span style=\"font-size: 0.8em; font-weight: bold; line-height: 1; border-radius: 0.35em; vertical-align: middle; margin-left: 0.5rem\">OtherScientificTerm</span>\n",
       "</mark>\n",
       " error , a \n",
       "<mark class=\"entity\" style=\"background: #6495ED; padding: 0.45em 0.6em; margin: 0 0.25em; line-height: 1; border-radius: 0.35em;\">\n",
       "    gradient coordinate selection\n",
       "    <span style=\"font-size: 0.8em; font-weight: bold; line-height: 1; border-radius: 0.35em; vertical-align: middle; margin-left: 0.5rem\">Method</span>\n",
       "</mark>\n",
       " mechanism to reduce communication/computation . \n",
       "<mark class=\"entity\" style=\"background: #9FE2BF; padding: 0.45em 0.6em; margin: 0 0.25em; line-height: 1; border-radius: 0.35em;\">\n",
       "    Experiments with high \\epsilon local\n",
       "    <span style=\"font-size: 0.8em; font-weight: bold; line-height: 1; border-radius: 0.35em; vertical-align: middle; margin-left: 0.5rem\">OtherScientificTerm</span>\n",
       "</mark>\n",
       " differentially privacy guarantees are conducted . The proposed algorithm \n",
       "<mark class=\"entity\" style=\"background: #FFBF00; padding: 0.45em 0.6em; margin: 0 0.25em; line-height: 1; border-radius: 0.35em;\">\n",
       "    outperforms\n",
       "    <span style=\"font-size: 0.8em; font-weight: bold; line-height: 1; border-radius: 0.35em; vertical-align: middle; margin-left: 0.5rem\">Generic</span>\n",
       "</mark>\n",
       " a baseline algorithm .</div></span>"
      ],
      "text/plain": [
       "<IPython.core.display.HTML object>"
      ]
     },
     "metadata": {},
     "output_type": "display_data"
    }
   ],
   "source": [
    "display_ent(\" \".join(all_sentences), flatten_ner)"
   ]
  },
  {
   "cell_type": "code",
   "execution_count": 25,
   "id": "b7c969e8-1775-4680-b89b-ca414d6e801c",
   "metadata": {},
   "outputs": [],
   "source": [
    "from graphviz import Digraph\n",
    "# Create Digraph object\n",
    "dot = Digraph()"
   ]
  },
  {
   "cell_type": "code",
   "execution_count": 26,
   "id": "c946cc5f-9f29-4b66-9c98-aa8d1ce2d732",
   "metadata": {},
   "outputs": [],
   "source": [
    "# Add nodes 1 and 2\n",
    "dot.node('1')\n",
    "dot.node('2')\n",
    "\n",
    "# Add edge between 1 and 2\n",
    "dot.edges(['12'])\n",
    "\n"
   ]
  },
  {
   "cell_type": "code",
   "execution_count": null,
   "id": "b4e99d84-9139-4907-8360-87904f3181b3",
   "metadata": {},
   "outputs": [],
   "source": [
    "from IPython.display import Image\n",
    "Image('digraph.png')"
   ]
  },
  {
   "cell_type": "code",
   "execution_count": 33,
   "id": "7295227f-717a-4cf5-9329-055cd967bd1f",
   "metadata": {},
   "outputs": [],
   "source": [
    "import graphviz\n",
    "\n",
    "f = graphviz.Digraph('finite_state_machine', filename='fsm.gv')\n",
    "f.attr(rankdir='LR', size='8,5')\n",
    "\n",
    "f.attr('node', shape='doublecircle')\n",
    "f.node('LR_0')\n",
    "f.node('LR_3')\n",
    "f.node('LR_4')\n",
    "f.node('LR_8')\n",
    "\n",
    "f.attr('node', shape='circle')\n",
    "f.edge('LR_0', 'LR_2', label='SS(B)')\n",
    "f.edge('LR_0', 'LR_1', label='SS(S)')\n",
    "f.edge('LR_1', 'LR_3', label='S($end)')\n",
    "f.edge('LR_2', 'LR_6', label='SS(b)')\n",
    "f.edge('LR_2', 'LR_5', label='SS(a)')\n",
    "f.edge('LR_2', 'LR_4', label='S(A)')\n",
    "f.edge('LR_5', 'LR_7', label='S(b)')\n",
    "f.edge('LR_5', 'LR_5', label='S(a)')\n",
    "f.edge('LR_6', 'LR_6', label='S(b)')\n",
    "f.edge('LR_6', 'LR_5', label='S(a)')\n",
    "f.edge('LR_7', 'LR_8', label='S(b)')\n",
    "f.edge('LR_7', 'LR_5', label='S(a)')\n",
    "f.edge('LR_8', 'LR_6', label='S(b)')\n",
    "f.edge('LR_8', 'LR_5', label='S(a)')\n",
    "\n"
   ]
  },
  {
   "cell_type": "code",
   "execution_count": 34,
   "id": "bbdc4b0a-7c5c-44fc-b2f6-d04cd128dd66",
   "metadata": {},
   "outputs": [
    {
     "ename": "ExecutableNotFound",
     "evalue": "failed to execute PosixPath('dot'), make sure the Graphviz executables are on your systems' PATH",
     "output_type": "error",
     "traceback": [
      "\u001b[0;31m---------------------------------------------------------------------------\u001b[0m",
      "\u001b[0;31mFileNotFoundError\u001b[0m                         Traceback (most recent call last)",
      "File \u001b[0;32m~/.local/lib/python3.8/site-packages/graphviz/backend/execute.py:81\u001b[0m, in \u001b[0;36mrun_check\u001b[0;34m(cmd, input_lines, encoding, quiet, **kwargs)\u001b[0m\n\u001b[1;32m     80\u001b[0m     \u001b[38;5;28;01melse\u001b[39;00m:\n\u001b[0;32m---> 81\u001b[0m         proc \u001b[38;5;241m=\u001b[39m \u001b[43msubprocess\u001b[49m\u001b[38;5;241;43m.\u001b[39;49m\u001b[43mrun\u001b[49m\u001b[43m(\u001b[49m\u001b[43mcmd\u001b[49m\u001b[43m,\u001b[49m\u001b[43m \u001b[49m\u001b[38;5;241;43m*\u001b[39;49m\u001b[38;5;241;43m*\u001b[39;49m\u001b[43mkwargs\u001b[49m\u001b[43m)\u001b[49m\n\u001b[1;32m     82\u001b[0m \u001b[38;5;28;01mexcept\u001b[39;00m \u001b[38;5;167;01mOSError\u001b[39;00m \u001b[38;5;28;01mas\u001b[39;00m e:\n",
      "File \u001b[0;32m/usr/lib/python3.8/subprocess.py:493\u001b[0m, in \u001b[0;36mrun\u001b[0;34m(input, capture_output, timeout, check, *popenargs, **kwargs)\u001b[0m\n\u001b[1;32m    491\u001b[0m     kwargs[\u001b[38;5;124m'\u001b[39m\u001b[38;5;124mstderr\u001b[39m\u001b[38;5;124m'\u001b[39m] \u001b[38;5;241m=\u001b[39m PIPE\n\u001b[0;32m--> 493\u001b[0m \u001b[38;5;28;01mwith\u001b[39;00m \u001b[43mPopen\u001b[49m\u001b[43m(\u001b[49m\u001b[38;5;241;43m*\u001b[39;49m\u001b[43mpopenargs\u001b[49m\u001b[43m,\u001b[49m\u001b[43m \u001b[49m\u001b[38;5;241;43m*\u001b[39;49m\u001b[38;5;241;43m*\u001b[39;49m\u001b[43mkwargs\u001b[49m\u001b[43m)\u001b[49m \u001b[38;5;28;01mas\u001b[39;00m process:\n\u001b[1;32m    494\u001b[0m     \u001b[38;5;28;01mtry\u001b[39;00m:\n",
      "File \u001b[0;32m/usr/lib/python3.8/subprocess.py:858\u001b[0m, in \u001b[0;36mPopen.__init__\u001b[0;34m(self, args, bufsize, executable, stdin, stdout, stderr, preexec_fn, close_fds, shell, cwd, env, universal_newlines, startupinfo, creationflags, restore_signals, start_new_session, pass_fds, encoding, errors, text)\u001b[0m\n\u001b[1;32m    855\u001b[0m             \u001b[38;5;28mself\u001b[39m\u001b[38;5;241m.\u001b[39mstderr \u001b[38;5;241m=\u001b[39m io\u001b[38;5;241m.\u001b[39mTextIOWrapper(\u001b[38;5;28mself\u001b[39m\u001b[38;5;241m.\u001b[39mstderr,\n\u001b[1;32m    856\u001b[0m                     encoding\u001b[38;5;241m=\u001b[39mencoding, errors\u001b[38;5;241m=\u001b[39merrors)\n\u001b[0;32m--> 858\u001b[0m     \u001b[38;5;28;43mself\u001b[39;49m\u001b[38;5;241;43m.\u001b[39;49m\u001b[43m_execute_child\u001b[49m\u001b[43m(\u001b[49m\u001b[43margs\u001b[49m\u001b[43m,\u001b[49m\u001b[43m \u001b[49m\u001b[43mexecutable\u001b[49m\u001b[43m,\u001b[49m\u001b[43m \u001b[49m\u001b[43mpreexec_fn\u001b[49m\u001b[43m,\u001b[49m\u001b[43m \u001b[49m\u001b[43mclose_fds\u001b[49m\u001b[43m,\u001b[49m\n\u001b[1;32m    859\u001b[0m \u001b[43m                        \u001b[49m\u001b[43mpass_fds\u001b[49m\u001b[43m,\u001b[49m\u001b[43m \u001b[49m\u001b[43mcwd\u001b[49m\u001b[43m,\u001b[49m\u001b[43m \u001b[49m\u001b[43menv\u001b[49m\u001b[43m,\u001b[49m\n\u001b[1;32m    860\u001b[0m \u001b[43m                        \u001b[49m\u001b[43mstartupinfo\u001b[49m\u001b[43m,\u001b[49m\u001b[43m \u001b[49m\u001b[43mcreationflags\u001b[49m\u001b[43m,\u001b[49m\u001b[43m \u001b[49m\u001b[43mshell\u001b[49m\u001b[43m,\u001b[49m\n\u001b[1;32m    861\u001b[0m \u001b[43m                        \u001b[49m\u001b[43mp2cread\u001b[49m\u001b[43m,\u001b[49m\u001b[43m \u001b[49m\u001b[43mp2cwrite\u001b[49m\u001b[43m,\u001b[49m\n\u001b[1;32m    862\u001b[0m \u001b[43m                        \u001b[49m\u001b[43mc2pread\u001b[49m\u001b[43m,\u001b[49m\u001b[43m \u001b[49m\u001b[43mc2pwrite\u001b[49m\u001b[43m,\u001b[49m\n\u001b[1;32m    863\u001b[0m \u001b[43m                        \u001b[49m\u001b[43merrread\u001b[49m\u001b[43m,\u001b[49m\u001b[43m \u001b[49m\u001b[43merrwrite\u001b[49m\u001b[43m,\u001b[49m\n\u001b[1;32m    864\u001b[0m \u001b[43m                        \u001b[49m\u001b[43mrestore_signals\u001b[49m\u001b[43m,\u001b[49m\u001b[43m \u001b[49m\u001b[43mstart_new_session\u001b[49m\u001b[43m)\u001b[49m\n\u001b[1;32m    865\u001b[0m \u001b[38;5;28;01mexcept\u001b[39;00m:\n\u001b[1;32m    866\u001b[0m     \u001b[38;5;66;03m# Cleanup if the child failed starting.\u001b[39;00m\n",
      "File \u001b[0;32m/usr/lib/python3.8/subprocess.py:1704\u001b[0m, in \u001b[0;36mPopen._execute_child\u001b[0;34m(self, args, executable, preexec_fn, close_fds, pass_fds, cwd, env, startupinfo, creationflags, shell, p2cread, p2cwrite, c2pread, c2pwrite, errread, errwrite, restore_signals, start_new_session)\u001b[0m\n\u001b[1;32m   1703\u001b[0m         err_msg \u001b[38;5;241m=\u001b[39m os\u001b[38;5;241m.\u001b[39mstrerror(errno_num)\n\u001b[0;32m-> 1704\u001b[0m     \u001b[38;5;28;01mraise\u001b[39;00m child_exception_type(errno_num, err_msg, err_filename)\n\u001b[1;32m   1705\u001b[0m \u001b[38;5;28;01mraise\u001b[39;00m child_exception_type(err_msg)\n",
      "\u001b[0;31mFileNotFoundError\u001b[0m: [Errno 2] No such file or directory: PosixPath('dot')",
      "\nThe above exception was the direct cause of the following exception:\n",
      "\u001b[0;31mExecutableNotFound\u001b[0m                        Traceback (most recent call last)",
      "Cell \u001b[0;32mIn [34], line 1\u001b[0m\n\u001b[0;32m----> 1\u001b[0m \u001b[43mf\u001b[49m\u001b[38;5;241;43m.\u001b[39;49m\u001b[43mrender\u001b[49m\u001b[43m(\u001b[49m\u001b[38;5;124;43m\"\u001b[39;49m\u001b[38;5;124;43mgraphname\u001b[39;49m\u001b[38;5;124;43m\"\u001b[39;49m\u001b[43m,\u001b[49m\u001b[43m \u001b[49m\u001b[38;5;28;43mformat\u001b[39;49m\u001b[38;5;241;43m=\u001b[39;49m\u001b[38;5;124;43m\"\u001b[39;49m\u001b[38;5;124;43mpng\u001b[39;49m\u001b[38;5;124;43m\"\u001b[39;49m\u001b[43m)\u001b[49m\n",
      "File \u001b[0;32m~/.local/lib/python3.8/site-packages/graphviz/_tools.py:171\u001b[0m, in \u001b[0;36mdeprecate_positional_args.<locals>.decorator.<locals>.wrapper\u001b[0;34m(*args, **kwargs)\u001b[0m\n\u001b[1;32m    162\u001b[0m     wanted \u001b[38;5;241m=\u001b[39m \u001b[38;5;124m'\u001b[39m\u001b[38;5;124m, \u001b[39m\u001b[38;5;124m'\u001b[39m\u001b[38;5;241m.\u001b[39mjoin(\u001b[38;5;124mf\u001b[39m\u001b[38;5;124m'\u001b[39m\u001b[38;5;132;01m{\u001b[39;00mname\u001b[38;5;132;01m}\u001b[39;00m\u001b[38;5;124m=\u001b[39m\u001b[38;5;132;01m{\u001b[39;00mvalue\u001b[38;5;132;01m!r}\u001b[39;00m\u001b[38;5;124m'\u001b[39m\n\u001b[1;32m    163\u001b[0m                        \u001b[38;5;28;01mfor\u001b[39;00m name, value \u001b[38;5;129;01min\u001b[39;00m deprecated\u001b[38;5;241m.\u001b[39mitems())\n\u001b[1;32m    164\u001b[0m     warnings\u001b[38;5;241m.\u001b[39mwarn(\u001b[38;5;124mf\u001b[39m\u001b[38;5;124m'\u001b[39m\u001b[38;5;124mThe signature of \u001b[39m\u001b[38;5;132;01m{\u001b[39;00mfunc\u001b[38;5;241m.\u001b[39m\u001b[38;5;18m__name__\u001b[39m\u001b[38;5;132;01m}\u001b[39;00m\u001b[38;5;124m will be reduced\u001b[39m\u001b[38;5;124m'\u001b[39m\n\u001b[1;32m    165\u001b[0m                   \u001b[38;5;124mf\u001b[39m\u001b[38;5;124m'\u001b[39m\u001b[38;5;124m to \u001b[39m\u001b[38;5;132;01m{\u001b[39;00msupported_number\u001b[38;5;132;01m}\u001b[39;00m\u001b[38;5;124m positional args\u001b[39m\u001b[38;5;124m'\u001b[39m\n\u001b[1;32m    166\u001b[0m                   \u001b[38;5;124mf\u001b[39m\u001b[38;5;124m'\u001b[39m\u001b[38;5;124m \u001b[39m\u001b[38;5;132;01m{\u001b[39;00m\u001b[38;5;28mlist\u001b[39m(supported)\u001b[38;5;132;01m}\u001b[39;00m\u001b[38;5;124m: pass \u001b[39m\u001b[38;5;132;01m{\u001b[39;00mwanted\u001b[38;5;132;01m}\u001b[39;00m\u001b[38;5;124m'\u001b[39m\n\u001b[1;32m    167\u001b[0m                   \u001b[38;5;124m'\u001b[39m\u001b[38;5;124m as keyword arg(s)\u001b[39m\u001b[38;5;124m'\u001b[39m,\n\u001b[1;32m    168\u001b[0m                   stacklevel\u001b[38;5;241m=\u001b[39mstacklevel,\n\u001b[1;32m    169\u001b[0m                   category\u001b[38;5;241m=\u001b[39mcategory)\n\u001b[0;32m--> 171\u001b[0m \u001b[38;5;28;01mreturn\u001b[39;00m \u001b[43mfunc\u001b[49m\u001b[43m(\u001b[49m\u001b[38;5;241;43m*\u001b[39;49m\u001b[43margs\u001b[49m\u001b[43m,\u001b[49m\u001b[43m \u001b[49m\u001b[38;5;241;43m*\u001b[39;49m\u001b[38;5;241;43m*\u001b[39;49m\u001b[43mkwargs\u001b[49m\u001b[43m)\u001b[49m\n",
      "File \u001b[0;32m~/.local/lib/python3.8/site-packages/graphviz/rendering.py:122\u001b[0m, in \u001b[0;36mRender.render\u001b[0;34m(self, filename, directory, view, cleanup, format, renderer, formatter, neato_no_op, quiet, quiet_view, outfile, engine, raise_if_result_exists, overwrite_source)\u001b[0m\n\u001b[1;32m    118\u001b[0m filepath \u001b[38;5;241m=\u001b[39m \u001b[38;5;28mself\u001b[39m\u001b[38;5;241m.\u001b[39msave(filename, directory\u001b[38;5;241m=\u001b[39mdirectory, skip_existing\u001b[38;5;241m=\u001b[39m\u001b[38;5;28;01mNone\u001b[39;00m)\n\u001b[1;32m    120\u001b[0m args\u001b[38;5;241m.\u001b[39mappend(filepath)\n\u001b[0;32m--> 122\u001b[0m rendered \u001b[38;5;241m=\u001b[39m \u001b[38;5;28;43mself\u001b[39;49m\u001b[38;5;241;43m.\u001b[39;49m\u001b[43m_render\u001b[49m\u001b[43m(\u001b[49m\u001b[38;5;241;43m*\u001b[39;49m\u001b[43margs\u001b[49m\u001b[43m,\u001b[49m\u001b[43m \u001b[49m\u001b[38;5;241;43m*\u001b[39;49m\u001b[38;5;241;43m*\u001b[39;49m\u001b[43mkwargs\u001b[49m\u001b[43m)\u001b[49m\n\u001b[1;32m    124\u001b[0m \u001b[38;5;28;01mif\u001b[39;00m cleanup:\n\u001b[1;32m    125\u001b[0m     log\u001b[38;5;241m.\u001b[39mdebug(\u001b[38;5;124m'\u001b[39m\u001b[38;5;124mdelete \u001b[39m\u001b[38;5;132;01m%r\u001b[39;00m\u001b[38;5;124m'\u001b[39m, filepath)\n",
      "File \u001b[0;32m~/.local/lib/python3.8/site-packages/graphviz/_tools.py:171\u001b[0m, in \u001b[0;36mdeprecate_positional_args.<locals>.decorator.<locals>.wrapper\u001b[0;34m(*args, **kwargs)\u001b[0m\n\u001b[1;32m    162\u001b[0m     wanted \u001b[38;5;241m=\u001b[39m \u001b[38;5;124m'\u001b[39m\u001b[38;5;124m, \u001b[39m\u001b[38;5;124m'\u001b[39m\u001b[38;5;241m.\u001b[39mjoin(\u001b[38;5;124mf\u001b[39m\u001b[38;5;124m'\u001b[39m\u001b[38;5;132;01m{\u001b[39;00mname\u001b[38;5;132;01m}\u001b[39;00m\u001b[38;5;124m=\u001b[39m\u001b[38;5;132;01m{\u001b[39;00mvalue\u001b[38;5;132;01m!r}\u001b[39;00m\u001b[38;5;124m'\u001b[39m\n\u001b[1;32m    163\u001b[0m                        \u001b[38;5;28;01mfor\u001b[39;00m name, value \u001b[38;5;129;01min\u001b[39;00m deprecated\u001b[38;5;241m.\u001b[39mitems())\n\u001b[1;32m    164\u001b[0m     warnings\u001b[38;5;241m.\u001b[39mwarn(\u001b[38;5;124mf\u001b[39m\u001b[38;5;124m'\u001b[39m\u001b[38;5;124mThe signature of \u001b[39m\u001b[38;5;132;01m{\u001b[39;00mfunc\u001b[38;5;241m.\u001b[39m\u001b[38;5;18m__name__\u001b[39m\u001b[38;5;132;01m}\u001b[39;00m\u001b[38;5;124m will be reduced\u001b[39m\u001b[38;5;124m'\u001b[39m\n\u001b[1;32m    165\u001b[0m                   \u001b[38;5;124mf\u001b[39m\u001b[38;5;124m'\u001b[39m\u001b[38;5;124m to \u001b[39m\u001b[38;5;132;01m{\u001b[39;00msupported_number\u001b[38;5;132;01m}\u001b[39;00m\u001b[38;5;124m positional args\u001b[39m\u001b[38;5;124m'\u001b[39m\n\u001b[1;32m    166\u001b[0m                   \u001b[38;5;124mf\u001b[39m\u001b[38;5;124m'\u001b[39m\u001b[38;5;124m \u001b[39m\u001b[38;5;132;01m{\u001b[39;00m\u001b[38;5;28mlist\u001b[39m(supported)\u001b[38;5;132;01m}\u001b[39;00m\u001b[38;5;124m: pass \u001b[39m\u001b[38;5;132;01m{\u001b[39;00mwanted\u001b[38;5;132;01m}\u001b[39;00m\u001b[38;5;124m'\u001b[39m\n\u001b[1;32m    167\u001b[0m                   \u001b[38;5;124m'\u001b[39m\u001b[38;5;124m as keyword arg(s)\u001b[39m\u001b[38;5;124m'\u001b[39m,\n\u001b[1;32m    168\u001b[0m                   stacklevel\u001b[38;5;241m=\u001b[39mstacklevel,\n\u001b[1;32m    169\u001b[0m                   category\u001b[38;5;241m=\u001b[39mcategory)\n\u001b[0;32m--> 171\u001b[0m \u001b[38;5;28;01mreturn\u001b[39;00m \u001b[43mfunc\u001b[49m\u001b[43m(\u001b[49m\u001b[38;5;241;43m*\u001b[39;49m\u001b[43margs\u001b[49m\u001b[43m,\u001b[49m\u001b[43m \u001b[49m\u001b[38;5;241;43m*\u001b[39;49m\u001b[38;5;241;43m*\u001b[39;49m\u001b[43mkwargs\u001b[49m\u001b[43m)\u001b[49m\n",
      "File \u001b[0;32m~/.local/lib/python3.8/site-packages/graphviz/backend/rendering.py:324\u001b[0m, in \u001b[0;36mrender\u001b[0;34m(engine, format, filepath, renderer, formatter, neato_no_op, quiet, outfile, raise_if_result_exists, overwrite_filepath)\u001b[0m\n\u001b[1;32m    320\u001b[0m     \u001b[38;5;28;01mraise\u001b[39;00m exceptions\u001b[38;5;241m.\u001b[39mFileExistsError(\u001b[38;5;124mf\u001b[39m\u001b[38;5;124m'\u001b[39m\u001b[38;5;124moutput file exists: \u001b[39m\u001b[38;5;132;01m{\u001b[39;00mos\u001b[38;5;241m.\u001b[39mfspath(outfile)\u001b[38;5;132;01m!r}\u001b[39;00m\u001b[38;5;124m'\u001b[39m)\n\u001b[1;32m    322\u001b[0m cmd \u001b[38;5;241m+\u001b[39m\u001b[38;5;241m=\u001b[39m args\n\u001b[0;32m--> 324\u001b[0m \u001b[43mexecute\u001b[49m\u001b[38;5;241;43m.\u001b[39;49m\u001b[43mrun_check\u001b[49m\u001b[43m(\u001b[49m\u001b[43mcmd\u001b[49m\u001b[43m,\u001b[49m\n\u001b[1;32m    325\u001b[0m \u001b[43m                  \u001b[49m\u001b[43mcwd\u001b[49m\u001b[38;5;241;43m=\u001b[39;49m\u001b[43mfilepath\u001b[49m\u001b[38;5;241;43m.\u001b[39;49m\u001b[43mparent\u001b[49m\u001b[43m \u001b[49m\u001b[38;5;28;43;01mif\u001b[39;49;00m\u001b[43m \u001b[49m\u001b[43mfilepath\u001b[49m\u001b[38;5;241;43m.\u001b[39;49m\u001b[43mparent\u001b[49m\u001b[38;5;241;43m.\u001b[39;49m\u001b[43mparts\u001b[49m\u001b[43m \u001b[49m\u001b[38;5;28;43;01melse\u001b[39;49;00m\u001b[43m \u001b[49m\u001b[38;5;28;43;01mNone\u001b[39;49;00m\u001b[43m,\u001b[49m\n\u001b[1;32m    326\u001b[0m \u001b[43m                  \u001b[49m\u001b[43mquiet\u001b[49m\u001b[38;5;241;43m=\u001b[39;49m\u001b[43mquiet\u001b[49m\u001b[43m,\u001b[49m\n\u001b[1;32m    327\u001b[0m \u001b[43m                  \u001b[49m\u001b[43mcapture_output\u001b[49m\u001b[38;5;241;43m=\u001b[39;49m\u001b[38;5;28;43;01mTrue\u001b[39;49;00m\u001b[43m)\u001b[49m\n\u001b[1;32m    329\u001b[0m \u001b[38;5;28;01mreturn\u001b[39;00m os\u001b[38;5;241m.\u001b[39mfspath(outfile)\n",
      "File \u001b[0;32m~/.local/lib/python3.8/site-packages/graphviz/backend/execute.py:84\u001b[0m, in \u001b[0;36mrun_check\u001b[0;34m(cmd, input_lines, encoding, quiet, **kwargs)\u001b[0m\n\u001b[1;32m     82\u001b[0m \u001b[38;5;28;01mexcept\u001b[39;00m \u001b[38;5;167;01mOSError\u001b[39;00m \u001b[38;5;28;01mas\u001b[39;00m e:\n\u001b[1;32m     83\u001b[0m     \u001b[38;5;28;01mif\u001b[39;00m e\u001b[38;5;241m.\u001b[39merrno \u001b[38;5;241m==\u001b[39m errno\u001b[38;5;241m.\u001b[39mENOENT:\n\u001b[0;32m---> 84\u001b[0m         \u001b[38;5;28;01mraise\u001b[39;00m ExecutableNotFound(cmd) \u001b[38;5;28;01mfrom\u001b[39;00m \u001b[38;5;21;01me\u001b[39;00m\n\u001b[1;32m     85\u001b[0m     \u001b[38;5;28;01mraise\u001b[39;00m\n\u001b[1;32m     87\u001b[0m \u001b[38;5;28;01mif\u001b[39;00m \u001b[38;5;129;01mnot\u001b[39;00m quiet \u001b[38;5;129;01mand\u001b[39;00m proc\u001b[38;5;241m.\u001b[39mstderr:\n",
      "\u001b[0;31mExecutableNotFound\u001b[0m: failed to execute PosixPath('dot'), make sure the Graphviz executables are on your systems' PATH"
     ]
    }
   ],
   "source": [
    "f.render(\"graphname\", format=\"png\")"
   ]
  },
  {
   "cell_type": "code",
   "execution_count": null,
   "id": "319962c0-3201-4dca-8f54-8dad3b0636e8",
   "metadata": {},
   "outputs": [],
   "source": []
  }
 ],
 "metadata": {
  "kernelspec": {
   "display_name": "Python 3 (ipykernel)",
   "language": "python",
   "name": "python3"
  },
  "language_info": {
   "codemirror_mode": {
    "name": "ipython",
    "version": 3
   },
   "file_extension": ".py",
   "mimetype": "text/x-python",
   "name": "python",
   "nbconvert_exporter": "python",
   "pygments_lexer": "ipython3",
   "version": "3.8.10"
  }
 },
 "nbformat": 4,
 "nbformat_minor": 5
}
