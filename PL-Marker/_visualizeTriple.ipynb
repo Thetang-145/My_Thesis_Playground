{
 "cells": [
  {
   "cell_type": "code",
   "execution_count": 216,
   "id": "8dd3dc61-bc1b-498d-889a-1981cfc62340",
   "metadata": {},
   "outputs": [],
   "source": [
    "import json\n",
    "import sys\n",
    "import os\n",
    "\n",
    "import numpy as np\n",
    "import pandas as pd\n",
    "import matplotlib.pyplot as plt"
   ]
  },
  {
   "cell_type": "code",
   "execution_count": 217,
   "id": "2cb53114-127d-4bb6-9e73-9b9af04514f6",
   "metadata": {},
   "outputs": [],
   "source": [
    "def getPath(section=\"summary\", data_split=\"train\", ent_rel=\"re\"):\n",
    "    return f\"_sci{ent_rel}_models/{section}/{data_split}_{ent_rel}.json\""
   ]
  },
  {
   "cell_type": "code",
   "execution_count": 218,
   "id": "8cab7661-d669-4427-b523-891f8af80608",
   "metadata": {},
   "outputs": [],
   "source": [
    "def print_progress(curr, full, desc='', bar_size=50):    \n",
    "    bar = int((curr+1)/full*bar_size)\n",
    "    sys.stdout.write(f\"\\r{desc}[{'='*bar}{' '*(bar_size-bar)}] {curr+1}/{full}\")\n",
    "    sys.stdout.flush()\n",
    "    if curr+1==full: print()"
   ]
  },
  {
   "cell_type": "markdown",
   "id": "52aa5cfa",
   "metadata": {},
   "source": [
    "# Import data"
   ]
  },
  {
   "cell_type": "code",
   "execution_count": 123,
   "id": "50b66aba-41be-4f36-aa40-b0fe968e27b5",
   "metadata": {},
   "outputs": [
    {
     "name": "stdout",
     "output_type": "stream",
     "text": [
      "{'doc_key': 'SP:4d08cdb2de2044bcb574a425b42963b83fbebfbc', 'sentences': [['This', 'paper', 'investigates', 'kernel', 'ridge', '-', 'less', 'regression', 'from', 'a', 'stability', 'viewpoint', 'by', 'deriving', 'its', 'risk', 'bounds', '.'], ['Using', 'stability', 'arguments', 'to', 'derive', 'risk', 'bounds', 'have', 'been', 'widely', 'adopting', 'in', 'machine', 'learning', '.'], ['However', ',', 'related', 'studies', 'on', 'kernel', 'ridge', '-', 'less', 'regression', 'are', 'still', 'sparse', '.'], ['The', 'present', 'study', 'fills', 'this', 'gap', ',', 'which', ',', 'in', 'my', 'opinion', ',', 'is', 'also', 'one', 'of', 'the', 'main', 'contributions', 'of', 'the', 'present', 'study', '.']], 'ner': [[], [], [], []], 'relations': [[], [], [], []], 'predicted_ner': [[[3, 7, 'Method'], [15, 16, 'OtherScientificTerm']], [[19, 20, 'Method'], [23, 24, 'OtherScientificTerm'], [30, 31, 'Task']], [[38, 42, 'Method']], []], 'predicted_re': [[0, []], [1, [[[19, 20], [23, 24], 'USED-FOR'], [[19, 20], [30, 31], 'USED-FOR'], [[23, 24], [30, 31], 'USED-FOR']]], [2, []]]}\n"
     ]
    }
   ],
   "source": [
    "filepath = getPath(\"summary\", \"train\")\n",
    "with open(filepath, 'r') as json_file:\n",
    "    json_list = list(json_file)\n",
    "data_ner = [json.loads(json_str) for json_str in json_list]\n",
    "print(data_ner[0])"
   ]
  },
  {
   "cell_type": "code",
   "execution_count": 124,
   "id": "181d98a6-d7e5-425b-b9aa-b4f51381774e",
   "metadata": {},
   "outputs": [
    {
     "name": "stdout",
     "output_type": "stream",
     "text": [
      "Sentence 0: \n",
      "This paper investigates kernel ridge - less regression from a stability viewpoint by deriving its risk bounds .\n",
      "\t              Method: kernel ridge - less regression                    \n",
      "\t OtherScientificTerm: risk bounds                                       \n",
      "\n",
      "Sentence 1: \n",
      "Using stability arguments to derive risk bounds have been widely adopting in machine learning .\n",
      "\t              Method: stability arguments                               \n",
      "\t OtherScientificTerm: risk bounds                                       \n",
      "\t                Task: machine learning                                  \n",
      "\n",
      "Sentence 2: \n",
      "However , related studies on kernel ridge - less regression are still sparse .\n",
      "\t              Method: kernel ridge - less regression                    \n",
      "\n",
      "Sentence 3: \n",
      "The present study fills this gap , which , in my opinion , is also one of the main contributions of the present study .\n",
      "\n"
     ]
    }
   ],
   "source": [
    "result = data_ner[0]\n",
    "all_sentences = [j for i in result[\"sentences\"] for j in i]\n",
    "\n",
    "for idx, sent in enumerate(result[\"sentences\"]):\n",
    "    print(f\"Sentence {idx}: \")\n",
    "    print(\" \".join(sent))\n",
    "    for pred_ner in result[\"predicted_ner\"][idx]:\n",
    "        start_idx = pred_ner[0]\n",
    "        end_idx   = pred_ner[1]+1\n",
    "        ent       = \" \".join(all_sentences[start_idx:end_idx])\n",
    "        print(\"\\t{: >20}: {: <50}\".format(pred_ner[2], ent))\n",
    "    print()"
   ]
  },
  {
   "cell_type": "code",
   "execution_count": 125,
   "id": "6a8f402e-6def-4866-9b55-844068fbd9d1",
   "metadata": {},
   "outputs": [],
   "source": [
    "filepath = FILEPATHS[\"RE\"][\"val\"]\n",
    "with open(filepath, 'r') as json_file:\n",
    "    json_list = list(json_file)\n",
    "data_len = len(json_list)\n",
    "data_re = [json.loads(json_str) for json_str in json_list]"
   ]
  },
  {
   "cell_type": "code",
   "execution_count": 126,
   "id": "201d5d43-d5d5-4174-9eb5-f4c94ca82ca9",
   "metadata": {},
   "outputs": [
    {
     "name": "stdout",
     "output_type": "stream",
     "text": [
      "{'doc_key': 'SP:7f4b788b00a2a10bcd60351c3e04c8f597101e96', 'sentences': [['The', 'paper', 'proposed', 'a', 'differentially', 'private', 'training', 'algorithm', 'for', 'federated', 'learning', '.'], ['The', 'target', 'is', 'to', 'achieve', 'communication', 'reduction', 'while', 'keeping', 'differential', 'privacy', 'during', 'training', '.'], ['The', 'proposed', 'algorithm', 'adds', 'a', 'few', 'new', 'components', 'to', 'SGD', ',', 'including', 'a', 'privacy', 'mechanism', ',', 'a', 'random', 'rotation', 'to', 'reduce', 'quantization', 'error', ',', 'a', 'gradient', 'coordinate', 'selection', 'mechanism', 'to', 'reduce', 'communication', '/', 'computation', '.'], ['Experiments', 'with', 'high', '\\\\epsilon', 'local', 'differentially', 'privacy', 'guarantees', 'are', 'conducted', '.'], ['The', 'proposed', 'algorithm', 'outperforms', 'a', 'baseline', 'algorithm', '.']], 'ner': [[], [], [], [], []], 'relations': [[], [], [], [], []], 'predicted_ner': [[[4, 7, 'Method'], [9, 10, 'Method']], [[17, 18, 'Task'], [21, 22, 'OtherScientificTerm']], [[28, 28, 'Generic'], [33, 33, 'Generic'], [35, 35, 'Method'], [39, 40, 'Method'], [43, 44, 'Method'], [47, 48, 'OtherScientificTerm'], [51, 54, 'Method'], [57, 59, 'OtherScientificTerm']], [[63, 68, 'OtherScientificTerm']], [[74, 74, 'Generic'], [77, 78, 'Generic']]], 'predicted_re': [[0, [[[4, 7], [9, 10], 'USED-FOR']]], [1, []], [2, [[[39, 40], [43, 44], 'CONJUNCTION'], [[43, 44], [47, 48], 'USED-FOR'], [[43, 44], [51, 54], 'CONJUNCTION'], [[51, 54], [57, 59], 'USED-FOR'], [[28, 28], [35, 35], 'USED-FOR'], [[33, 33], [35, 35], 'USED-FOR'], [[33, 33], [28, 28], 'PART-OF'], [[43, 44], [33, 33], 'PART-OF'], [[51, 54], [33, 33], 'PART-OF'], [[39, 40], [33, 33], 'PART-OF']]], [3, []], [4, [[[74, 74], [77, 78], 'COMPARE']]]]}\n"
     ]
    }
   ],
   "source": [
    "result = data_re[2]\n",
    "print(result)"
   ]
  },
  {
   "cell_type": "code",
   "execution_count": 127,
   "id": "9c3cd981-1238-49b1-825d-25d7da71b327",
   "metadata": {},
   "outputs": [
    {
     "name": "stdout",
     "output_type": "stream",
     "text": [
      "Sentence 0: \n",
      "The paper proposed a differentially private training algorithm for federated learning .\n",
      "[Entity type]\n",
      "\t              Method: differentially private training algorithm         \n",
      "\t              Method: federated learning                                \n",
      "[Triples]\n",
      "(differentially private training algorithm) (USED-FOR) (federated learning)\n",
      "\n",
      "Sentence 1: \n",
      "The target is to achieve communication reduction while keeping differential privacy during training .\n",
      "[Entity type]\n",
      "\t                Task: communication reduction                           \n",
      "\t OtherScientificTerm: differential privacy                              \n",
      "[Triples]\n",
      "\n",
      "Sentence 2: \n",
      "The proposed algorithm adds a few new components to SGD , including a privacy mechanism , a random rotation to reduce quantization error , a gradient coordinate selection mechanism to reduce communication / computation .\n",
      "[Entity type]\n",
      "\t             Generic: algorithm                                         \n",
      "\t             Generic: components                                        \n",
      "\t              Method: SGD                                               \n",
      "\t              Method: privacy mechanism                                 \n",
      "\t              Method: random rotation                                   \n",
      "\t OtherScientificTerm: quantization error                                \n",
      "\t              Method: gradient coordinate selection mechanism           \n",
      "\t OtherScientificTerm: communication / computation                       \n",
      "[Triples]\n",
      "(privacy mechanism) (CONJUNCTION) (random rotation)\n",
      "(random rotation) (USED-FOR) (quantization error)\n",
      "(random rotation) (CONJUNCTION) (gradient coordinate selection mechanism)\n",
      "(gradient coordinate selection mechanism) (USED-FOR) (communication / computation)\n",
      "(algorithm) (USED-FOR) (SGD)\n",
      "(components) (USED-FOR) (SGD)\n",
      "(components) (PART-OF) (algorithm)\n",
      "(random rotation) (PART-OF) (components)\n",
      "(gradient coordinate selection mechanism) (PART-OF) (components)\n",
      "(privacy mechanism) (PART-OF) (components)\n",
      "\n",
      "Sentence 3: \n",
      "Experiments with high \\epsilon local differentially privacy guarantees are conducted .\n",
      "[Entity type]\n",
      "\t OtherScientificTerm: high \\epsilon local differentially privacy guarantees\n",
      "[Triples]\n",
      "\n",
      "Sentence 4: \n",
      "The proposed algorithm outperforms a baseline algorithm .\n",
      "[Entity type]\n",
      "\t             Generic: algorithm                                         \n",
      "\t             Generic: baseline algorithm                                \n",
      "[Triples]\n",
      "(algorithm) (COMPARE) (baseline algorithm)\n",
      "\n"
     ]
    }
   ],
   "source": [
    "all_sentences = [j for i in result[\"sentences\"] for j in i]\n",
    "for idx, sent in enumerate(result[\"sentences\"]):\n",
    "    print(f\"Sentence {idx}: \")\n",
    "    print(\" \".join(sent))\n",
    "    print(f\"[Entity type]\")\n",
    "    for pred_ner in result[\"predicted_ner\"][idx]:\n",
    "        start_idx = pred_ner[0]\n",
    "        end_idx   = pred_ner[1]+1\n",
    "        ent       = \" \".join(all_sentences[start_idx:end_idx])\n",
    "        print(\"\\t{: >20}: {: <50}\".format(pred_ner[2], ent))\n",
    "    print(f\"[Triples]\")\n",
    "    for re in result[\"predicted_re\"][idx][1]:\n",
    "        s = \" \".join(all_sentences[re[0][0]:(re[0][1]+1)])\n",
    "        p = re[2]\n",
    "        o = \" \".join(all_sentences[re[1][0]:(re[1][1]+1)])\n",
    "        print(f\"({s}) ({p}) ({o})\")\n",
    "    \n",
    "    print()"
   ]
  },
  {
   "cell_type": "markdown",
   "id": "58dadaf5",
   "metadata": {},
   "source": [
    "# Display entity and graph"
   ]
  },
  {
   "cell_type": "code",
   "execution_count": 128,
   "id": "5cac0312-4cc3-432b-ab50-358a3b25152b",
   "metadata": {},
   "outputs": [],
   "source": [
    "import spacy\n",
    "from spacy import displacy\n",
    "from spacy.tokens import Span\n",
    "from pathlib import Path\n",
    "\n",
    "colors = {\n",
    "    'Task':     \"#DE3163\", \n",
    "    \"Method\":   \"#6495ED\", \n",
    "    \"Metric\":   \"#FF00FF\", \n",
    "    \"Material\": \"#40E0D0\", \n",
    "    \"Generic\":  \"#FFBF00\",\n",
    "    \"OtherScientificTerm\": \"#9FE2BF\", \n",
    "}\n",
    "options = {\"ents\": colors.keys(), \"colors\": colors, \"compact\": True,}\n",
    "nlp = spacy.load(\"en_core_web_sm\")\n",
    "\n",
    "def display_ent(doc, ents, savefile=None):\n",
    "    doc = nlp(\" \".join(doc))\n",
    "    span_list = [Span(doc, start, end+1, ent_type) for start, end, ent_type in ents]\n",
    "    doc.set_ents(span_list)\n",
    "    ents = list(doc.ents)\n",
    "    result = displacy.render(doc, style=\"ent\", options=options)\n",
    "    if not (savefile is None):\n",
    "        output_path = Path(\"_output_imgs/\"+savefile)\n",
    "        output_path.open(\"w\", encoding=\"utf-8\").write(result)"
   ]
  },
  {
   "cell_type": "code",
   "execution_count": 129,
   "id": "9615a3fa-7dc2-4704-8522-2ff87e1e64d9",
   "metadata": {},
   "outputs": [],
   "source": [
    "def display_graph(doc, rels):\n",
    "    pass"
   ]
  },
  {
   "cell_type": "code",
   "execution_count": 130,
   "id": "afaec8b0-a63e-42e0-ab92-a33c59dd1da7",
   "metadata": {},
   "outputs": [
    {
     "name": "stdout",
     "output_type": "stream",
     "text": [
      "[0, [[[4, 7], [9, 10], 'USED-FOR']]]\n",
      "[1, []]\n",
      "[2, [[[39, 40], [43, 44], 'CONJUNCTION'], [[43, 44], [47, 48], 'USED-FOR'], [[43, 44], [51, 54], 'CONJUNCTION'], [[51, 54], [57, 59], 'USED-FOR'], [[28, 28], [35, 35], 'USED-FOR'], [[33, 33], [35, 35], 'USED-FOR'], [[33, 33], [28, 28], 'PART-OF'], [[43, 44], [33, 33], 'PART-OF'], [[51, 54], [33, 33], 'PART-OF'], [[39, 40], [33, 33], 'PART-OF']]]\n",
      "[3, []]\n",
      "[4, [[[74, 74], [77, 78], 'COMPARE']]]\n"
     ]
    }
   ],
   "source": [
    "flatten_ner = [j for i in result[\"predicted_ner\"] for j in i]\n",
    "flatten_re  = [j for i in result[\"predicted_re\"] for j in i[1]]\n",
    "for i in result[\"predicted_re\"]:\n",
    "    print(i)"
   ]
  },
  {
   "cell_type": "code",
   "execution_count": 131,
   "id": "46f7b724-b91a-4665-aa8e-ee3515ba5760",
   "metadata": {},
   "outputs": [
    {
     "data": {
      "text/html": [
       "<span class=\"tex2jax_ignore\"><div class=\"entities\" style=\"line-height: 2.5; direction: ltr\">The paper proposed a \n",
       "<mark class=\"entity\" style=\"background: #6495ED; padding: 0.45em 0.6em; margin: 0 0.25em; line-height: 1; border-radius: 0.35em;\">\n",
       "    differentially private training algorithm\n",
       "    <span style=\"font-size: 0.8em; font-weight: bold; line-height: 1; border-radius: 0.35em; vertical-align: middle; margin-left: 0.5rem\">Method</span>\n",
       "</mark>\n",
       " for \n",
       "<mark class=\"entity\" style=\"background: #6495ED; padding: 0.45em 0.6em; margin: 0 0.25em; line-height: 1; border-radius: 0.35em;\">\n",
       "    federated learning\n",
       "    <span style=\"font-size: 0.8em; font-weight: bold; line-height: 1; border-radius: 0.35em; vertical-align: middle; margin-left: 0.5rem\">Method</span>\n",
       "</mark>\n",
       " . The target is to achieve \n",
       "<mark class=\"entity\" style=\"background: #DE3163; padding: 0.45em 0.6em; margin: 0 0.25em; line-height: 1; border-radius: 0.35em;\">\n",
       "    communication reduction\n",
       "    <span style=\"font-size: 0.8em; font-weight: bold; line-height: 1; border-radius: 0.35em; vertical-align: middle; margin-left: 0.5rem\">Task</span>\n",
       "</mark>\n",
       " while keeping \n",
       "<mark class=\"entity\" style=\"background: #9FE2BF; padding: 0.45em 0.6em; margin: 0 0.25em; line-height: 1; border-radius: 0.35em;\">\n",
       "    differential privacy\n",
       "    <span style=\"font-size: 0.8em; font-weight: bold; line-height: 1; border-radius: 0.35em; vertical-align: middle; margin-left: 0.5rem\">OtherScientificTerm</span>\n",
       "</mark>\n",
       " during training . The proposed \n",
       "<mark class=\"entity\" style=\"background: #FFBF00; padding: 0.45em 0.6em; margin: 0 0.25em; line-height: 1; border-radius: 0.35em;\">\n",
       "    algorithm\n",
       "    <span style=\"font-size: 0.8em; font-weight: bold; line-height: 1; border-radius: 0.35em; vertical-align: middle; margin-left: 0.5rem\">Generic</span>\n",
       "</mark>\n",
       " adds a few new \n",
       "<mark class=\"entity\" style=\"background: #FFBF00; padding: 0.45em 0.6em; margin: 0 0.25em; line-height: 1; border-radius: 0.35em;\">\n",
       "    components\n",
       "    <span style=\"font-size: 0.8em; font-weight: bold; line-height: 1; border-radius: 0.35em; vertical-align: middle; margin-left: 0.5rem\">Generic</span>\n",
       "</mark>\n",
       " to \n",
       "<mark class=\"entity\" style=\"background: #6495ED; padding: 0.45em 0.6em; margin: 0 0.25em; line-height: 1; border-radius: 0.35em;\">\n",
       "    SGD\n",
       "    <span style=\"font-size: 0.8em; font-weight: bold; line-height: 1; border-radius: 0.35em; vertical-align: middle; margin-left: 0.5rem\">Method</span>\n",
       "</mark>\n",
       " , including a \n",
       "<mark class=\"entity\" style=\"background: #6495ED; padding: 0.45em 0.6em; margin: 0 0.25em; line-height: 1; border-radius: 0.35em;\">\n",
       "    privacy mechanism\n",
       "    <span style=\"font-size: 0.8em; font-weight: bold; line-height: 1; border-radius: 0.35em; vertical-align: middle; margin-left: 0.5rem\">Method</span>\n",
       "</mark>\n",
       " , a \n",
       "<mark class=\"entity\" style=\"background: #6495ED; padding: 0.45em 0.6em; margin: 0 0.25em; line-height: 1; border-radius: 0.35em;\">\n",
       "    random rotation\n",
       "    <span style=\"font-size: 0.8em; font-weight: bold; line-height: 1; border-radius: 0.35em; vertical-align: middle; margin-left: 0.5rem\">Method</span>\n",
       "</mark>\n",
       " to reduce \n",
       "<mark class=\"entity\" style=\"background: #9FE2BF; padding: 0.45em 0.6em; margin: 0 0.25em; line-height: 1; border-radius: 0.35em;\">\n",
       "    quantization error\n",
       "    <span style=\"font-size: 0.8em; font-weight: bold; line-height: 1; border-radius: 0.35em; vertical-align: middle; margin-left: 0.5rem\">OtherScientificTerm</span>\n",
       "</mark>\n",
       " , a \n",
       "<mark class=\"entity\" style=\"background: #6495ED; padding: 0.45em 0.6em; margin: 0 0.25em; line-height: 1; border-radius: 0.35em;\">\n",
       "    gradient coordinate selection mechanism\n",
       "    <span style=\"font-size: 0.8em; font-weight: bold; line-height: 1; border-radius: 0.35em; vertical-align: middle; margin-left: 0.5rem\">Method</span>\n",
       "</mark>\n",
       " to reduce \n",
       "<mark class=\"entity\" style=\"background: #9FE2BF; padding: 0.45em 0.6em; margin: 0 0.25em; line-height: 1; border-radius: 0.35em;\">\n",
       "    communication / computation\n",
       "    <span style=\"font-size: 0.8em; font-weight: bold; line-height: 1; border-radius: 0.35em; vertical-align: middle; margin-left: 0.5rem\">OtherScientificTerm</span>\n",
       "</mark>\n",
       " . Experiments with \n",
       "<mark class=\"entity\" style=\"background: #9FE2BF; padding: 0.45em 0.6em; margin: 0 0.25em; line-height: 1; border-radius: 0.35em;\">\n",
       "    high \\epsilon local differentially privacy guarantees\n",
       "    <span style=\"font-size: 0.8em; font-weight: bold; line-height: 1; border-radius: 0.35em; vertical-align: middle; margin-left: 0.5rem\">OtherScientificTerm</span>\n",
       "</mark>\n",
       " are conducted . The proposed \n",
       "<mark class=\"entity\" style=\"background: #FFBF00; padding: 0.45em 0.6em; margin: 0 0.25em; line-height: 1; border-radius: 0.35em;\">\n",
       "    algorithm\n",
       "    <span style=\"font-size: 0.8em; font-weight: bold; line-height: 1; border-radius: 0.35em; vertical-align: middle; margin-left: 0.5rem\">Generic</span>\n",
       "</mark>\n",
       " outperforms a \n",
       "<mark class=\"entity\" style=\"background: #FFBF00; padding: 0.45em 0.6em; margin: 0 0.25em; line-height: 1; border-radius: 0.35em;\">\n",
       "    baseline algorithm\n",
       "    <span style=\"font-size: 0.8em; font-weight: bold; line-height: 1; border-radius: 0.35em; vertical-align: middle; margin-left: 0.5rem\">Generic</span>\n",
       "</mark>\n",
       " .</div></span>"
      ],
      "text/plain": [
       "<IPython.core.display.HTML object>"
      ]
     },
     "metadata": {},
     "output_type": "display_data"
    }
   ],
   "source": [
    "display_ent(all_sentences, flatten_ner)"
   ]
  },
  {
   "cell_type": "code",
   "execution_count": 132,
   "id": "ec350fb6",
   "metadata": {},
   "outputs": [],
   "source": [
    "from graphviz import Digraph\n",
    "\n",
    "def display_graph(all_sentences, flatten_ner, flatten_re, filename='kg'):\n",
    "    dot = Digraph('Knowledge Graph', filename=filename)\n",
    "    dot.attr('node', shape='box', style=\"filled\")\n",
    "    for ner in flatten_ner:\n",
    "        ent = \" \".join(all_sentences[ner[0]:ner[1]+1])\n",
    "        dot.node(ent, color=colors[ner[2]])\n",
    "    for re in flatten_re:\n",
    "        s = \" \".join(all_sentences[re[0][0]:(re[0][1]+1)])\n",
    "        o = \" \".join(all_sentences[re[1][0]:(re[1][1]+1)])\n",
    "        p = re[2]\n",
    "        dot.edge(s, o, label=p)\n",
    "    dot.view()\n",
    "    dot.render()\n",
    "\n"
   ]
  },
  {
   "cell_type": "code",
   "execution_count": null,
   "id": "87eef03d",
   "metadata": {},
   "outputs": [],
   "source": [
    "display_graph(all_sentences, flatten_ner, flatten_re, filename='img/kg')\n",
    "    \n"
   ]
  },
  {
   "cell_type": "code",
   "execution_count": null,
   "id": "c946cc5f-9f29-4b66-9c98-aa8d1ce2d732",
   "metadata": {},
   "outputs": [],
   "source": [
    "def display_all(data):\n",
    "    all_sentences = [j for i in data[\"sentences\"] for j in i]\n",
    "    flatten_ner = [j for i in data[\"predicted_ner\"] for j in i]\n",
    "    flatten_re  = [j for i in data[\"predicted_re\"] for j in i[1]]\n",
    "    display_ent(all_sentences, flatten_ner)\n",
    "    display_graph(all_sentences, flatten_ner, flatten_re, filename=f\"img/{data['doc_key']}\")\n",
    "\n",
    "display_all(data_re[3])"
   ]
  },
  {
   "cell_type": "markdown",
   "id": "b463728d",
   "metadata": {},
   "source": [
    "# Statistics of IE from Summary"
   ]
  },
  {
   "cell_type": "code",
   "execution_count": 1,
   "id": "8e3c453c",
   "metadata": {},
   "outputs": [],
   "source": [
    "import pandas as pd\n",
    "\n",
    "def ent_rel_type(dataset):\n",
    "    col = [\"paper_id\", \"summary\"]\n",
    "    ent_types = ['Method', 'OtherScientificTerm', 'Task', 'Generic', 'Material', 'Metric']\n",
    "    rel_types = ['PART-OF', 'USED-FOR', 'FEATURE-OF', 'CONJUNCTION', 'EVALUATE-FOR', 'HYPONYM-OF', 'COMPARE']\n",
    "    \n",
    "    ent_stat_df = pd.DataFrame(columns=col+ent_types)\n",
    "    rel_stat_df = pd.DataFrame(columns=col+rel_types)\n",
    "    len_dataset = len(dataset)\n",
    "    \n",
    "    for idx, data in enumerate(dataset):\n",
    "        print_progress(idx, len_dataset, 'Processing ')\n",
    "        \n",
    "        paper_id = data[\"doc_key\"]\n",
    "        all_sentences = [j for i in data[\"sentences\"] for j in i]\n",
    "        flatten_ner = [j for i in data[\"predicted_ner\"] for j in i]\n",
    "        flatten_re  = [j for i in data[\"predicted_re\"] for j in i[1]]\n",
    "\n",
    "        # Count entity\n",
    "        ent_count = {}\n",
    "        for ent_type in ent_types: ent_count[ent_type]=0\n",
    "        for ent in flatten_ner:\n",
    "            ent_count[ent[2]] += 1\n",
    "        ent_data = [paper_id, \" \".join(all_sentences)] + list(ent_count.values())\n",
    "        row_ent_df = pd.DataFrame([ent_data], columns=col+ent_types)\n",
    "        ent_stat_df = pd.concat([ent_stat_df, row_ent_df], axis=0)\n",
    "\n",
    "        # Count relation\n",
    "        rel_count = {}\n",
    "        for rel_type in rel_types: rel_count[rel_type]=0\n",
    "        for rel in flatten_re:\n",
    "            rel_count[rel[2]] += 1\n",
    "        rel_data = [paper_id, \" \".join(all_sentences)] + list(rel_count.values())\n",
    "        row_rel_df = pd.DataFrame([rel_data], columns=col+rel_types)\n",
    "        rel_stat_df = pd.concat([rel_stat_df, row_rel_df], axis=0)\n",
    "        \n",
    "    return ent_stat_df, rel_stat_df\n"
   ]
  },
  {
   "cell_type": "code",
   "execution_count": 4,
   "id": "6f80dd06-decf-4915-a575-5e77aa249cd4",
   "metadata": {},
   "outputs": [
    {
     "name": "stdout",
     "output_type": "stream",
     "text": [
      "Operating on: summary (train data)\n",
      "Processing [==================================================] 18934/18934\n",
      "Operating on: summary (val data)\n",
      "Processing [==================================================] 3604/3604\n"
     ]
    }
   ],
   "source": [
    "section = \"summary\"\n",
    "for data_split in [\"train\", \"val\"]:\n",
    "    print(f\"Operating on: {section} ({data_split} data)\")\n",
    "    filepath = getPath(section, data_split)\n",
    "    with open(filepath, 'r') as json_file:\n",
    "        json_list = list(json_file)\n",
    "    dataset = [json.loads(json_str) for json_str in json_list]\n",
    "    ent_stat_df, rel_stat_df = ent_rel_type(dataset)\n",
    "    \n",
    "    output_path = f\"_statistics_data/{section}\"\n",
    "    if not os.path.exists(output_path): os.mkdir(output_path)\n",
    "\n",
    "    ent_stat_df.to_csv(f\"{output_path}/{data_split}_ent.csv\")\n",
    "    rel_stat_df.to_csv(f\"{output_path}/{data_split}_rel.csv\")    \n"
   ]
  },
  {
   "cell_type": "code",
   "execution_count": null,
   "id": "dc52eb57-7021-4599-b009-8a017c6ed63b",
   "metadata": {},
   "outputs": [],
   "source": [
    "ent_stat_df"
   ]
  },
  {
   "cell_type": "code",
   "execution_count": 34,
   "id": "4794563f",
   "metadata": {},
   "outputs": [
    {
     "data": {
      "text/html": [
       "<div>\n",
       "<style scoped>\n",
       "    .dataframe tbody tr th:only-of-type {\n",
       "        vertical-align: middle;\n",
       "    }\n",
       "\n",
       "    .dataframe tbody tr th {\n",
       "        vertical-align: top;\n",
       "    }\n",
       "\n",
       "    .dataframe thead th {\n",
       "        text-align: right;\n",
       "    }\n",
       "</style>\n",
       "<table border=\"1\" class=\"dataframe\">\n",
       "  <thead>\n",
       "    <tr style=\"text-align: right;\">\n",
       "      <th></th>\n",
       "      <th>paper_id</th>\n",
       "      <th>summary</th>\n",
       "      <th>PART-OF</th>\n",
       "      <th>USED-FOR</th>\n",
       "      <th>FEATURE-OF</th>\n",
       "      <th>CONJUNCTION</th>\n",
       "      <th>EVALUATE-FOR</th>\n",
       "      <th>HYPONYM-OF</th>\n",
       "      <th>COMPARE</th>\n",
       "    </tr>\n",
       "  </thead>\n",
       "  <tbody>\n",
       "    <tr>\n",
       "      <th>0</th>\n",
       "      <td>SP:7f4b788b00a2a10bcd60351c3e04c8f597101e96</td>\n",
       "      <td>This paper studies FL under local differential...</td>\n",
       "      <td>0</td>\n",
       "      <td>1</td>\n",
       "      <td>1</td>\n",
       "      <td>1</td>\n",
       "      <td>1</td>\n",
       "      <td>0</td>\n",
       "      <td>0</td>\n",
       "    </tr>\n",
       "    <tr>\n",
       "      <th>0</th>\n",
       "      <td>SP:7f4b788b00a2a10bcd60351c3e04c8f597101e96</td>\n",
       "      <td>This paper studies a low communication algorit...</td>\n",
       "      <td>0</td>\n",
       "      <td>10</td>\n",
       "      <td>1</td>\n",
       "      <td>2</td>\n",
       "      <td>1</td>\n",
       "      <td>0</td>\n",
       "      <td>0</td>\n",
       "    </tr>\n",
       "    <tr>\n",
       "      <th>0</th>\n",
       "      <td>SP:7f4b788b00a2a10bcd60351c3e04c8f597101e96</td>\n",
       "      <td>The paper proposed a differentially private tr...</td>\n",
       "      <td>4</td>\n",
       "      <td>5</td>\n",
       "      <td>0</td>\n",
       "      <td>2</td>\n",
       "      <td>0</td>\n",
       "      <td>0</td>\n",
       "      <td>1</td>\n",
       "    </tr>\n",
       "    <tr>\n",
       "      <th>0</th>\n",
       "      <td>SP:632666b52c7c551d67fbbe70c06ed589c3a5e187</td>\n",
       "      <td>This submission works on the neural machine tr...</td>\n",
       "      <td>1</td>\n",
       "      <td>7</td>\n",
       "      <td>0</td>\n",
       "      <td>5</td>\n",
       "      <td>0</td>\n",
       "      <td>5</td>\n",
       "      <td>0</td>\n",
       "    </tr>\n",
       "    <tr>\n",
       "      <th>0</th>\n",
       "      <td>SP:632666b52c7c551d67fbbe70c06ed589c3a5e187</td>\n",
       "      <td>This paper proposes a method to introduce * * ...</td>\n",
       "      <td>1</td>\n",
       "      <td>7</td>\n",
       "      <td>0</td>\n",
       "      <td>0</td>\n",
       "      <td>0</td>\n",
       "      <td>0</td>\n",
       "      <td>0</td>\n",
       "    </tr>\n",
       "    <tr>\n",
       "      <th>...</th>\n",
       "      <td>...</td>\n",
       "      <td>...</td>\n",
       "      <td>...</td>\n",
       "      <td>...</td>\n",
       "      <td>...</td>\n",
       "      <td>...</td>\n",
       "      <td>...</td>\n",
       "      <td>...</td>\n",
       "      <td>...</td>\n",
       "    </tr>\n",
       "    <tr>\n",
       "      <th>0</th>\n",
       "      <td>SP:18aaba3423e81e9437b509d1a5e24836ef5635f6</td>\n",
       "      <td>This paper defines a set of learnable basis fu...</td>\n",
       "      <td>0</td>\n",
       "      <td>3</td>\n",
       "      <td>1</td>\n",
       "      <td>0</td>\n",
       "      <td>0</td>\n",
       "      <td>0</td>\n",
       "      <td>0</td>\n",
       "    </tr>\n",
       "    <tr>\n",
       "      <th>0</th>\n",
       "      <td>SP:18aaba3423e81e9437b509d1a5e24836ef5635f6</td>\n",
       "      <td>A typical Wavelet Transform is built through t...</td>\n",
       "      <td>0</td>\n",
       "      <td>2</td>\n",
       "      <td>1</td>\n",
       "      <td>0</td>\n",
       "      <td>0</td>\n",
       "      <td>0</td>\n",
       "      <td>0</td>\n",
       "    </tr>\n",
       "    <tr>\n",
       "      <th>0</th>\n",
       "      <td>SP:3058e6bc5e8c62af325c214c9e1436d6cdf09204</td>\n",
       "      <td>This paper builds a new graph convolutional ne...</td>\n",
       "      <td>2</td>\n",
       "      <td>5</td>\n",
       "      <td>1</td>\n",
       "      <td>2</td>\n",
       "      <td>2</td>\n",
       "      <td>0</td>\n",
       "      <td>0</td>\n",
       "    </tr>\n",
       "    <tr>\n",
       "      <th>0</th>\n",
       "      <td>SP:3058e6bc5e8c62af325c214c9e1436d6cdf09204</td>\n",
       "      <td>The authors propose using non - Euclidean spac...</td>\n",
       "      <td>0</td>\n",
       "      <td>3</td>\n",
       "      <td>0</td>\n",
       "      <td>0</td>\n",
       "      <td>0</td>\n",
       "      <td>0</td>\n",
       "      <td>0</td>\n",
       "    </tr>\n",
       "    <tr>\n",
       "      <th>0</th>\n",
       "      <td>SP:3058e6bc5e8c62af325c214c9e1436d6cdf09204</td>\n",
       "      <td>In this paper , the authors address representa...</td>\n",
       "      <td>0</td>\n",
       "      <td>4</td>\n",
       "      <td>0</td>\n",
       "      <td>2</td>\n",
       "      <td>0</td>\n",
       "      <td>0</td>\n",
       "      <td>0</td>\n",
       "    </tr>\n",
       "  </tbody>\n",
       "</table>\n",
       "<p>3604 rows × 9 columns</p>\n",
       "</div>"
      ],
      "text/plain": [
       "                                       paper_id  \\\n",
       "0   SP:7f4b788b00a2a10bcd60351c3e04c8f597101e96   \n",
       "0   SP:7f4b788b00a2a10bcd60351c3e04c8f597101e96   \n",
       "0   SP:7f4b788b00a2a10bcd60351c3e04c8f597101e96   \n",
       "0   SP:632666b52c7c551d67fbbe70c06ed589c3a5e187   \n",
       "0   SP:632666b52c7c551d67fbbe70c06ed589c3a5e187   \n",
       "..                                          ...   \n",
       "0   SP:18aaba3423e81e9437b509d1a5e24836ef5635f6   \n",
       "0   SP:18aaba3423e81e9437b509d1a5e24836ef5635f6   \n",
       "0   SP:3058e6bc5e8c62af325c214c9e1436d6cdf09204   \n",
       "0   SP:3058e6bc5e8c62af325c214c9e1436d6cdf09204   \n",
       "0   SP:3058e6bc5e8c62af325c214c9e1436d6cdf09204   \n",
       "\n",
       "                                              summary PART-OF USED-FOR  \\\n",
       "0   This paper studies FL under local differential...       0        1   \n",
       "0   This paper studies a low communication algorit...       0       10   \n",
       "0   The paper proposed a differentially private tr...       4        5   \n",
       "0   This submission works on the neural machine tr...       1        7   \n",
       "0   This paper proposes a method to introduce * * ...       1        7   \n",
       "..                                                ...     ...      ...   \n",
       "0   This paper defines a set of learnable basis fu...       0        3   \n",
       "0   A typical Wavelet Transform is built through t...       0        2   \n",
       "0   This paper builds a new graph convolutional ne...       2        5   \n",
       "0   The authors propose using non - Euclidean spac...       0        3   \n",
       "0   In this paper , the authors address representa...       0        4   \n",
       "\n",
       "   FEATURE-OF CONJUNCTION EVALUATE-FOR HYPONYM-OF COMPARE  \n",
       "0           1           1            1          0       0  \n",
       "0           1           2            1          0       0  \n",
       "0           0           2            0          0       1  \n",
       "0           0           5            0          5       0  \n",
       "0           0           0            0          0       0  \n",
       "..        ...         ...          ...        ...     ...  \n",
       "0           1           0            0          0       0  \n",
       "0           1           0            0          0       0  \n",
       "0           1           2            2          0       0  \n",
       "0           0           0            0          0       0  \n",
       "0           0           2            0          0       0  \n",
       "\n",
       "[3604 rows x 9 columns]"
      ]
     },
     "execution_count": 34,
     "metadata": {},
     "output_type": "execute_result"
    }
   ],
   "source": [
    "rel_stat_df"
   ]
  },
  {
   "cell_type": "code",
   "execution_count": 92,
   "id": "45fcc43e",
   "metadata": {},
   "outputs": [
    {
     "data": {
      "text/plain": [
       "summary\n",
       "2    194\n",
       "3    352\n",
       "4    410\n",
       "5    104\n",
       "Name: num_paper, dtype: int64"
      ]
     },
     "execution_count": 92,
     "metadata": {},
     "output_type": "execute_result"
    }
   ],
   "source": [
    "def count_num_paper(df):\n",
    "    num_paper = df.groupby(['paper_id']).count()\n",
    "    num_paper['num_paper'] = 1\n",
    "    num_paper = num_paper.groupby(['summary']).count()\n",
    "    return num_paper[\"num_paper\"]\n",
    "count_num_paper(rel_stat_df)"
   ]
  },
  {
   "cell_type": "code",
   "execution_count": 106,
   "id": "9f8c3033",
   "metadata": {},
   "outputs": [
    {
     "data": {
      "image/png": "[encoded data removed]",
      "text/plain": [
       "<Figure size 640x480 with 1 Axes>"
      ]
     },
     "metadata": {},
     "output_type": "display_data"
    }
   ],
   "source": [
    "def hist_graph(df, cols, name_count):\n",
    "    fig, ax = plt.subplots()\n",
    "    ent_max = max([df[col].max() for col in cols]) \n",
    "\n",
    "    ax.hist(df[cols], density=True, histtype='bar', label=cols)\n",
    "    ax.legend(prop={'size': 10})\n",
    "\n",
    "    ax.set_xlabel(f\"Number of {name_count} per each summary\")\n",
    "    ax.set_title(f\"{name_count} histogram\")\n",
    "\n",
    "hist_graph(ent_stat_df, ent_types, name_count=\"entity types\")"
   ]
  },
  {
   "cell_type": "code",
   "execution_count": 107,
   "id": "ba96b033",
   "metadata": {},
   "outputs": [
    {
     "data": {
      "image/png": "[encoded data removed]",
      "text/plain": [
       "<Figure size 640x480 with 1 Axes>"
      ]
     },
     "metadata": {},
     "output_type": "display_data"
    }
   ],
   "source": [
    "hist_graph(rel_stat_df, rel_types, name_count=\"relation types\")"
   ]
  },
  {
   "cell_type": "markdown",
   "id": "1cff9e66-f9b9-43c9-bfa3-1caef6b75d60",
   "metadata": {},
   "source": [
    "# Get sequence of triple"
   ]
  },
  {
   "cell_type": "markdown",
   "id": "2fb80014-0fa6-43ba-b473-9ec64bc27a6e",
   "metadata": {},
   "source": [
    "## Abstract"
   ]
  },
  {
   "cell_type": "code",
   "execution_count": 312,
   "id": "250f3ec3-e62c-4d50-bb59-013923f149fd",
   "metadata": {},
   "outputs": [],
   "source": [
    "def getDataset(section, data_split):\n",
    "    filepath = getPath(section, data_split)\n",
    "    with open(filepath, 'r') as json_file:\n",
    "        json_list = list(json_file)\n",
    "    return [json.loads(json_str) for json_str in json_list]\n",
    "dataset_abs = getDataset(\"abstract\", \"train\")"
   ]
  },
  {
   "cell_type": "code",
   "execution_count": 327,
   "id": "6f054a87",
   "metadata": {},
   "outputs": [],
   "source": [
    "def getTripSeq(data, sym=True, incFreeEnt=True):\n",
    "    sym_rel = ['CONJUNCTION', 'COMPARE']\n",
    "    all_sentences = [j for i in data[\"sentences\"] for j in i]\n",
    "    flatten_ner = [j for i in data[\"predicted_ner\"] for j in i]\n",
    "    flatten_re  = [j for i in data[\"predicted_re\"] for j in i[1]]\n",
    "    seqTrip = \"\"\n",
    "    tripEnt = []\n",
    "    for rel in flatten_re:\n",
    "        s = \" \".join(all_sentences[rel[0][0]:(rel[0][1]+1)])\n",
    "        o = \" \".join(all_sentences[rel[1][0]:(rel[1][1]+1)])\n",
    "        p = rel[2]\n",
    "        seqTrip += f\"{s} {p} {o}. \"\n",
    "        if sym and p in sym_rel:\n",
    "            seqTrip += f\"{o} {p} {s}. \"\n",
    "        if incFreeEnt:\n",
    "            if s not in tripEnt: tripEnt.append(s)\n",
    "            if o not in tripEnt: tripEnt.append(o)\n",
    "    if incFreeEnt:\n",
    "        allEnt = []\n",
    "        for ner in flatten_ner:\n",
    "            ent = \" \".join(all_sentences[ner[0]:ner[1]+1])\n",
    "            if ent not in allEnt: allEnt.append(ent)\n",
    "        freeEnt = allEnt.copy()\n",
    "        for ent in tripEnt: freeEnt.remove(ent)\n",
    "        if len(freeEnt) != 0: seqTrip += f\"Others entities are {' ,'.join(freeEnt)}.\"\n",
    "    return seqTrip"
   ]
  },
  {
   "cell_type": "code",
   "execution_count": 288,
   "id": "36ef5076-70c6-43fc-a4b5-9a259bc4daf1",
   "metadata": {},
   "outputs": [],
   "source": [
    "a = getTripSeq(dataset_abs[1])"
   ]
  },
  {
   "cell_type": "code",
   "execution_count": 303,
   "id": "d60eb749-96ad-4e37-8d8a-9b2afe7b9a5f",
   "metadata": {},
   "outputs": [],
   "source": [
    "import spacy\n",
    "nlp = spacy.load(\"en_core_web_sm\")\n",
    "\n",
    "def getTokenLen(input_text):\n",
    "    doc_text = nlp(input_text)\n",
    "    return sum([len(sent) for sent in doc_text.sents])"
   ]
  },
  {
   "cell_type": "code",
   "execution_count": 304,
   "id": "79d6e975-4ea8-4f06-98f5-9e9190f1fef6",
   "metadata": {},
   "outputs": [],
   "source": [
    "def getProcessedLen(dataset):\n",
    "    col = [\"paper_id\", \"original\", \"triple\", \"original_len\", \"triple_len\", \"diff\"]\n",
    "    len_df = pd.DataFrame(columns=col)\n",
    "    len_dataset = len(dataset)\n",
    "    for i, data in enumerate(dataset):\n",
    "        data['triple_seq'] = getTripSeq(data)\n",
    "        paper_id = data['doc_key']\n",
    "        original = [j for i in data[\"sentences\"] for j in i]\n",
    "        triple = (data['triple_seq'])\n",
    "        row = pd.DataFrame([[\n",
    "            paper_id,\n",
    "            \" \".join(original),\n",
    "            triple,\n",
    "            len(original), \n",
    "            getTokenLen(triple), \n",
    "            len(original)-getTokenLen(triple)\n",
    "        ]],columns=col)\n",
    "        len_df = pd.concat([len_df, row], axis=0)\n",
    "        print_progress(i, len_dataset, 'Processing ')\n",
    "    return len_df.convert_dtypes()"
   ]
  },
  {
   "cell_type": "code",
   "execution_count": 305,
   "id": "8b370e20-5fb0-4a21-85d2-de510d4d34ba",
   "metadata": {},
   "outputs": [
    {
     "name": "stdout",
     "output_type": "stream",
     "text": [
      "Processing [==================================================] 8379/8379\n"
     ]
    }
   ],
   "source": [
    "len_abs_df = getProcessedLen(dataset_abs)"
   ]
  },
  {
   "cell_type": "code",
   "execution_count": 292,
   "id": "ebd07dd2-ea93-4bb2-8063-37a790449760",
   "metadata": {},
   "outputs": [
    {
     "data": {
      "text/plain": [
       "<AxesSubplot:ylabel='Density'>"
      ]
     },
     "execution_count": 292,
     "metadata": {},
     "output_type": "execute_result"
    },
    {
     "data": {
      "image/png": "[encoded data removed]",
      "text/plain": [
       "<Figure size 640x480 with 1 Axes>"
      ]
     },
     "metadata": {},
     "output_type": "display_data"
    }
   ],
   "source": [
    "fig, ax = plt.subplots()\n",
    "len_abs_df['diff'].plot(kind='density', ax=ax, xlim=[-250, 500])"
   ]
  },
  {
   "cell_type": "code",
   "execution_count": 295,
   "id": "6e32d9cd-b810-4a81-a348-f1876b617a57",
   "metadata": {},
   "outputs": [
    {
     "data": {
      "text/html": [
       "<div>\n",
       "<style scoped>\n",
       "    .dataframe tbody tr th:only-of-type {\n",
       "        vertical-align: middle;\n",
       "    }\n",
       "\n",
       "    .dataframe tbody tr th {\n",
       "        vertical-align: top;\n",
       "    }\n",
       "\n",
       "    .dataframe thead th {\n",
       "        text-align: right;\n",
       "    }\n",
       "</style>\n",
       "<table border=\"1\" class=\"dataframe\">\n",
       "  <thead>\n",
       "    <tr style=\"text-align: right;\">\n",
       "      <th></th>\n",
       "      <th>original_len</th>\n",
       "      <th>triple_len</th>\n",
       "      <th>diff</th>\n",
       "    </tr>\n",
       "  </thead>\n",
       "  <tbody>\n",
       "    <tr>\n",
       "      <th>max</th>\n",
       "      <td>7819.000000</td>\n",
       "      <td>3334.000000</td>\n",
       "      <td>4485.00000</td>\n",
       "    </tr>\n",
       "    <tr>\n",
       "      <th>mean</th>\n",
       "      <td>208.778494</td>\n",
       "      <td>162.242034</td>\n",
       "      <td>46.53646</td>\n",
       "    </tr>\n",
       "    <tr>\n",
       "      <th>min</th>\n",
       "      <td>14.000000</td>\n",
       "      <td>4.000000</td>\n",
       "      <td>-240.00000</td>\n",
       "    </tr>\n",
       "  </tbody>\n",
       "</table>\n",
       "</div>"
      ],
      "text/plain": [
       "      original_len   triple_len        diff\n",
       "max    7819.000000  3334.000000  4485.00000\n",
       "mean    208.778494   162.242034    46.53646\n",
       "min      14.000000     4.000000  -240.00000"
      ]
     },
     "execution_count": 295,
     "metadata": {},
     "output_type": "execute_result"
    }
   ],
   "source": [
    "len_abs_df.describe().loc[[\"max\", \"mean\", \"min\"]]"
   ]
  },
  {
   "cell_type": "code",
   "execution_count": 301,
   "id": "24b50aed-3432-4848-8a0a-a3b4b67b9b90",
   "metadata": {},
   "outputs": [
    {
     "name": "stdout",
     "output_type": "stream",
     "text": [
      "Others entities are .\n"
     ]
    }
   ],
   "source": [
    "print(len_abs_df[len_abs_df[\"triple_len\"]==4][\"triple\"][0])"
   ]
  },
  {
   "cell_type": "code",
   "execution_count": 168,
   "id": "0d3c6048-3438-40fd-bb05-5d072b680eb6",
   "metadata": {},
   "outputs": [
    {
     "data": {
      "text/html": [
       "<div>\n",
       "<style scoped>\n",
       "    .dataframe tbody tr th:only-of-type {\n",
       "        vertical-align: middle;\n",
       "    }\n",
       "\n",
       "    .dataframe tbody tr th {\n",
       "        vertical-align: top;\n",
       "    }\n",
       "\n",
       "    .dataframe thead th {\n",
       "        text-align: right;\n",
       "    }\n",
       "</style>\n",
       "<table border=\"1\" class=\"dataframe\">\n",
       "  <thead>\n",
       "    <tr style=\"text-align: right;\">\n",
       "      <th></th>\n",
       "      <th>paper_id</th>\n",
       "      <th>original</th>\n",
       "      <th>triple</th>\n",
       "      <th>original_len</th>\n",
       "      <th>triple_len</th>\n",
       "      <th>diff</th>\n",
       "      <th>diff_percent</th>\n",
       "    </tr>\n",
       "  </thead>\n",
       "  <tbody>\n",
       "    <tr>\n",
       "      <th>0</th>\n",
       "      <td>SP:1ccd6cfc6dce5a3f4b0c65dd1625f71ac3225c2d</td>\n",
       "      <td>We show how feature maps in convolutional netw...</td>\n",
       "      <td>feature maps PART-OF convolutional networks. s...</td>\n",
       "      <td>7819</td>\n",
       "      <td>2938</td>\n",
       "      <td>4881</td>\n",
       "      <td>0.624249</td>\n",
       "    </tr>\n",
       "  </tbody>\n",
       "</table>\n",
       "</div>"
      ],
      "text/plain": [
       "                                      paper_id  \\\n",
       "0  SP:1ccd6cfc6dce5a3f4b0c65dd1625f71ac3225c2d   \n",
       "\n",
       "                                            original  \\\n",
       "0  We show how feature maps in convolutional netw...   \n",
       "\n",
       "                                              triple  original_len  \\\n",
       "0  feature maps PART-OF convolutional networks. s...          7819   \n",
       "\n",
       "   triple_len  diff  diff_percent  \n",
       "0        2938  4881      0.624249  "
      ]
     },
     "execution_count": 168,
     "metadata": {},
     "output_type": "execute_result"
    }
   ],
   "source": [
    "(len_abs_df[len_abs_df[\"original_len\"]==7819])"
   ]
  },
  {
   "cell_type": "code",
   "execution_count": 171,
   "id": "cc6a9027-4646-4faf-81f7-b7fb5a0692a3",
   "metadata": {},
   "outputs": [
    {
     "data": {
      "text/html": [
       "<div>\n",
       "<style scoped>\n",
       "    .dataframe tbody tr th:only-of-type {\n",
       "        vertical-align: middle;\n",
       "    }\n",
       "\n",
       "    .dataframe tbody tr th {\n",
       "        vertical-align: top;\n",
       "    }\n",
       "\n",
       "    .dataframe thead th {\n",
       "        text-align: right;\n",
       "    }\n",
       "</style>\n",
       "<table border=\"1\" class=\"dataframe\">\n",
       "  <thead>\n",
       "    <tr style=\"text-align: right;\">\n",
       "      <th></th>\n",
       "      <th>paper_id</th>\n",
       "      <th>original</th>\n",
       "      <th>triple</th>\n",
       "      <th>original_len</th>\n",
       "      <th>triple_len</th>\n",
       "      <th>diff</th>\n",
       "      <th>diff_percent</th>\n",
       "    </tr>\n",
       "  </thead>\n",
       "  <tbody>\n",
       "    <tr>\n",
       "      <th>0</th>\n",
       "      <td>SP:4d08cdb2de2044bcb574a425b42963b83fbebfbc</td>\n",
       "      <td>We study the average CVloo stability of kernel...</td>\n",
       "      <td>average CVloo stability FEATURE-OF kernel ridg...</td>\n",
       "      <td>93</td>\n",
       "      <td>38</td>\n",
       "      <td>55</td>\n",
       "      <td>59.139785</td>\n",
       "    </tr>\n",
       "    <tr>\n",
       "      <th>0</th>\n",
       "      <td>SP:b80bc890180934092cde037b49d94d6e4e06fad9</td>\n",
       "      <td>The use of episodic memories in continual lear...</td>\n",
       "      <td>episodic memories USED-FOR catastrophic forget...</td>\n",
       "      <td>148</td>\n",
       "      <td>118</td>\n",
       "      <td>30</td>\n",
       "      <td>20.270270</td>\n",
       "    </tr>\n",
       "    <tr>\n",
       "      <th>0</th>\n",
       "      <td>SP:09f2fe6a482bbd6f9bd2c62aa841f995171ba939</td>\n",
       "      <td>Existing Multi - Task Learning(MTL ) strategie...</td>\n",
       "      <td>shared learning USED-FOR Multi - Task Learning...</td>\n",
       "      <td>293</td>\n",
       "      <td>345</td>\n",
       "      <td>-52</td>\n",
       "      <td>-17.747440</td>\n",
       "    </tr>\n",
       "    <tr>\n",
       "      <th>0</th>\n",
       "      <td>SP:a1e2218e6943bf138aeb359e23628676b396ed66</td>\n",
       "      <td>This paper deals with the fuel optimization pr...</td>\n",
       "      <td>fuel optimization problem USED-FOR hybrid elec...</td>\n",
       "      <td>224</td>\n",
       "      <td>284</td>\n",
       "      <td>-60</td>\n",
       "      <td>-26.785714</td>\n",
       "    </tr>\n",
       "    <tr>\n",
       "      <th>0</th>\n",
       "      <td>SP:43e525fb3fa611df7fd44bd3bc9843e57b154c66</td>\n",
       "      <td>Our work is concerned with the generation and ...</td>\n",
       "      <td>RNA HYPONYM-OF genetic macromolecule. graph - ...</td>\n",
       "      <td>199</td>\n",
       "      <td>150</td>\n",
       "      <td>49</td>\n",
       "      <td>24.623116</td>\n",
       "    </tr>\n",
       "    <tr>\n",
       "      <th>...</th>\n",
       "      <td>...</td>\n",
       "      <td>...</td>\n",
       "      <td>...</td>\n",
       "      <td>...</td>\n",
       "      <td>...</td>\n",
       "      <td>...</td>\n",
       "      <td>...</td>\n",
       "    </tr>\n",
       "    <tr>\n",
       "      <th>0</th>\n",
       "      <td>SP:0d872fb4321f3a4a3fc61cf4d33b0c7e33f2d695</td>\n",
       "      <td>Discovering the underlying mathematical expres...</td>\n",
       "      <td>deep learning approaches USED-FOR symbolic reg...</td>\n",
       "      <td>178</td>\n",
       "      <td>115</td>\n",
       "      <td>63</td>\n",
       "      <td>35.393258</td>\n",
       "    </tr>\n",
       "    <tr>\n",
       "      <th>0</th>\n",
       "      <td>SP:4706017e6f8b958c7d0825fed98b285ea2994b59</td>\n",
       "      <td>Some conventional transforms such as Discrete ...</td>\n",
       "      <td>Discrete Walsh - Hadamard Transform ( DWHT ) C...</td>\n",
       "      <td>198</td>\n",
       "      <td>226</td>\n",
       "      <td>-28</td>\n",
       "      <td>-14.141414</td>\n",
       "    </tr>\n",
       "    <tr>\n",
       "      <th>0</th>\n",
       "      <td>SP:4706017e6f8b958c7d0825fed98b285ea2994b59</td>\n",
       "      <td>Some conventional transforms such as Discrete ...</td>\n",
       "      <td>Discrete Walsh - Hadamard Transform ( DWHT ) C...</td>\n",
       "      <td>198</td>\n",
       "      <td>226</td>\n",
       "      <td>-28</td>\n",
       "      <td>-14.141414</td>\n",
       "    </tr>\n",
       "    <tr>\n",
       "      <th>0</th>\n",
       "      <td>SP:63ad3be1dae7ede5c02a847304072c1cbc91b1cb</td>\n",
       "      <td>Thanks to graph neural networks ( GNNs ) , sem...</td>\n",
       "      <td>graph neural networks ( GNNs ) USED-FOR semi -...</td>\n",
       "      <td>220</td>\n",
       "      <td>236</td>\n",
       "      <td>-16</td>\n",
       "      <td>-7.272727</td>\n",
       "    </tr>\n",
       "    <tr>\n",
       "      <th>0</th>\n",
       "      <td>SP:63ad3be1dae7ede5c02a847304072c1cbc91b1cb</td>\n",
       "      <td>Thanks to graph neural networks ( GNNs ) , sem...</td>\n",
       "      <td>graph neural networks ( GNNs ) USED-FOR semi -...</td>\n",
       "      <td>220</td>\n",
       "      <td>236</td>\n",
       "      <td>-16</td>\n",
       "      <td>-7.272727</td>\n",
       "    </tr>\n",
       "  </tbody>\n",
       "</table>\n",
       "<p>18934 rows × 7 columns</p>\n",
       "</div>"
      ],
      "text/plain": [
       "                                       paper_id  \\\n",
       "0   SP:4d08cdb2de2044bcb574a425b42963b83fbebfbc   \n",
       "0   SP:b80bc890180934092cde037b49d94d6e4e06fad9   \n",
       "0   SP:09f2fe6a482bbd6f9bd2c62aa841f995171ba939   \n",
       "0   SP:a1e2218e6943bf138aeb359e23628676b396ed66   \n",
       "0   SP:43e525fb3fa611df7fd44bd3bc9843e57b154c66   \n",
       "..                                          ...   \n",
       "0   SP:0d872fb4321f3a4a3fc61cf4d33b0c7e33f2d695   \n",
       "0   SP:4706017e6f8b958c7d0825fed98b285ea2994b59   \n",
       "0   SP:4706017e6f8b958c7d0825fed98b285ea2994b59   \n",
       "0   SP:63ad3be1dae7ede5c02a847304072c1cbc91b1cb   \n",
       "0   SP:63ad3be1dae7ede5c02a847304072c1cbc91b1cb   \n",
       "\n",
       "                                             original  \\\n",
       "0   We study the average CVloo stability of kernel...   \n",
       "0   The use of episodic memories in continual lear...   \n",
       "0   Existing Multi - Task Learning(MTL ) strategie...   \n",
       "0   This paper deals with the fuel optimization pr...   \n",
       "0   Our work is concerned with the generation and ...   \n",
       "..                                                ...   \n",
       "0   Discovering the underlying mathematical expres...   \n",
       "0   Some conventional transforms such as Discrete ...   \n",
       "0   Some conventional transforms such as Discrete ...   \n",
       "0   Thanks to graph neural networks ( GNNs ) , sem...   \n",
       "0   Thanks to graph neural networks ( GNNs ) , sem...   \n",
       "\n",
       "                                               triple  original_len  \\\n",
       "0   average CVloo stability FEATURE-OF kernel ridg...            93   \n",
       "0   episodic memories USED-FOR catastrophic forget...           148   \n",
       "0   shared learning USED-FOR Multi - Task Learning...           293   \n",
       "0   fuel optimization problem USED-FOR hybrid elec...           224   \n",
       "0   RNA HYPONYM-OF genetic macromolecule. graph - ...           199   \n",
       "..                                                ...           ...   \n",
       "0   deep learning approaches USED-FOR symbolic reg...           178   \n",
       "0   Discrete Walsh - Hadamard Transform ( DWHT ) C...           198   \n",
       "0   Discrete Walsh - Hadamard Transform ( DWHT ) C...           198   \n",
       "0   graph neural networks ( GNNs ) USED-FOR semi -...           220   \n",
       "0   graph neural networks ( GNNs ) USED-FOR semi -...           220   \n",
       "\n",
       "    triple_len  diff  diff_percent  \n",
       "0           38    55     59.139785  \n",
       "0          118    30     20.270270  \n",
       "0          345   -52    -17.747440  \n",
       "0          284   -60    -26.785714  \n",
       "0          150    49     24.623116  \n",
       "..         ...   ...           ...  \n",
       "0          115    63     35.393258  \n",
       "0          226   -28    -14.141414  \n",
       "0          226   -28    -14.141414  \n",
       "0          236   -16     -7.272727  \n",
       "0          236   -16     -7.272727  \n",
       "\n",
       "[18934 rows x 7 columns]"
      ]
     },
     "execution_count": 171,
     "metadata": {},
     "output_type": "execute_result"
    }
   ],
   "source": [
    "def calPercDiff(row):\n",
    "    return (row['original_len']-row['triple_len'])/row['original_len']*100\n",
    "\n",
    "len_abs_df[\"diff_percent\"] = len_abs_df.apply(lambda row: calPercDiff(row), axis=1)\n",
    "len_abs_df"
   ]
  },
  {
   "cell_type": "code",
   "execution_count": 175,
   "id": "de3739d1-ffb0-4192-aef7-ece5b2ca2886",
   "metadata": {},
   "outputs": [
    {
     "data": {
      "text/html": [
       "<div>\n",
       "<style scoped>\n",
       "    .dataframe tbody tr th:only-of-type {\n",
       "        vertical-align: middle;\n",
       "    }\n",
       "\n",
       "    .dataframe tbody tr th {\n",
       "        vertical-align: top;\n",
       "    }\n",
       "\n",
       "    .dataframe thead th {\n",
       "        text-align: right;\n",
       "    }\n",
       "</style>\n",
       "<table border=\"1\" class=\"dataframe\">\n",
       "  <thead>\n",
       "    <tr style=\"text-align: right;\">\n",
       "      <th></th>\n",
       "      <th>paper_id</th>\n",
       "      <th>original</th>\n",
       "      <th>triple</th>\n",
       "      <th>original_len</th>\n",
       "      <th>triple_len</th>\n",
       "      <th>diff</th>\n",
       "      <th>diff_percent</th>\n",
       "    </tr>\n",
       "  </thead>\n",
       "  <tbody>\n",
       "    <tr>\n",
       "      <th>0</th>\n",
       "      <td>SP:4d08cdb2de2044bcb574a425b42963b83fbebfbc</td>\n",
       "      <td>We study the average CVloo stability of kernel...</td>\n",
       "      <td>average CVloo stability FEATURE-OF kernel ridg...</td>\n",
       "      <td>93</td>\n",
       "      <td>38</td>\n",
       "      <td>55</td>\n",
       "      <td>59.139785</td>\n",
       "    </tr>\n",
       "    <tr>\n",
       "      <th>0</th>\n",
       "      <td>SP:b80bc890180934092cde037b49d94d6e4e06fad9</td>\n",
       "      <td>The use of episodic memories in continual lear...</td>\n",
       "      <td>episodic memories USED-FOR catastrophic forget...</td>\n",
       "      <td>148</td>\n",
       "      <td>118</td>\n",
       "      <td>30</td>\n",
       "      <td>20.270270</td>\n",
       "    </tr>\n",
       "    <tr>\n",
       "      <th>0</th>\n",
       "      <td>SP:09f2fe6a482bbd6f9bd2c62aa841f995171ba939</td>\n",
       "      <td>Existing Multi - Task Learning(MTL ) strategie...</td>\n",
       "      <td>shared learning USED-FOR Multi - Task Learning...</td>\n",
       "      <td>293</td>\n",
       "      <td>345</td>\n",
       "      <td>-52</td>\n",
       "      <td>-17.747440</td>\n",
       "    </tr>\n",
       "    <tr>\n",
       "      <th>0</th>\n",
       "      <td>SP:a1e2218e6943bf138aeb359e23628676b396ed66</td>\n",
       "      <td>This paper deals with the fuel optimization pr...</td>\n",
       "      <td>fuel optimization problem USED-FOR hybrid elec...</td>\n",
       "      <td>224</td>\n",
       "      <td>284</td>\n",
       "      <td>-60</td>\n",
       "      <td>-26.785714</td>\n",
       "    </tr>\n",
       "    <tr>\n",
       "      <th>0</th>\n",
       "      <td>SP:43e525fb3fa611df7fd44bd3bc9843e57b154c66</td>\n",
       "      <td>Our work is concerned with the generation and ...</td>\n",
       "      <td>RNA HYPONYM-OF genetic macromolecule. graph - ...</td>\n",
       "      <td>199</td>\n",
       "      <td>150</td>\n",
       "      <td>49</td>\n",
       "      <td>24.623116</td>\n",
       "    </tr>\n",
       "    <tr>\n",
       "      <th>...</th>\n",
       "      <td>...</td>\n",
       "      <td>...</td>\n",
       "      <td>...</td>\n",
       "      <td>...</td>\n",
       "      <td>...</td>\n",
       "      <td>...</td>\n",
       "      <td>...</td>\n",
       "    </tr>\n",
       "    <tr>\n",
       "      <th>0</th>\n",
       "      <td>SP:0d872fb4321f3a4a3fc61cf4d33b0c7e33f2d695</td>\n",
       "      <td>Discovering the underlying mathematical expres...</td>\n",
       "      <td>deep learning approaches USED-FOR symbolic reg...</td>\n",
       "      <td>178</td>\n",
       "      <td>115</td>\n",
       "      <td>63</td>\n",
       "      <td>35.393258</td>\n",
       "    </tr>\n",
       "    <tr>\n",
       "      <th>0</th>\n",
       "      <td>SP:4706017e6f8b958c7d0825fed98b285ea2994b59</td>\n",
       "      <td>Some conventional transforms such as Discrete ...</td>\n",
       "      <td>Discrete Walsh - Hadamard Transform ( DWHT ) C...</td>\n",
       "      <td>198</td>\n",
       "      <td>226</td>\n",
       "      <td>-28</td>\n",
       "      <td>-14.141414</td>\n",
       "    </tr>\n",
       "    <tr>\n",
       "      <th>0</th>\n",
       "      <td>SP:4706017e6f8b958c7d0825fed98b285ea2994b59</td>\n",
       "      <td>Some conventional transforms such as Discrete ...</td>\n",
       "      <td>Discrete Walsh - Hadamard Transform ( DWHT ) C...</td>\n",
       "      <td>198</td>\n",
       "      <td>226</td>\n",
       "      <td>-28</td>\n",
       "      <td>-14.141414</td>\n",
       "    </tr>\n",
       "    <tr>\n",
       "      <th>0</th>\n",
       "      <td>SP:63ad3be1dae7ede5c02a847304072c1cbc91b1cb</td>\n",
       "      <td>Thanks to graph neural networks ( GNNs ) , sem...</td>\n",
       "      <td>graph neural networks ( GNNs ) USED-FOR semi -...</td>\n",
       "      <td>220</td>\n",
       "      <td>236</td>\n",
       "      <td>-16</td>\n",
       "      <td>-7.272727</td>\n",
       "    </tr>\n",
       "    <tr>\n",
       "      <th>0</th>\n",
       "      <td>SP:63ad3be1dae7ede5c02a847304072c1cbc91b1cb</td>\n",
       "      <td>Thanks to graph neural networks ( GNNs ) , sem...</td>\n",
       "      <td>graph neural networks ( GNNs ) USED-FOR semi -...</td>\n",
       "      <td>220</td>\n",
       "      <td>236</td>\n",
       "      <td>-16</td>\n",
       "      <td>-7.272727</td>\n",
       "    </tr>\n",
       "  </tbody>\n",
       "</table>\n",
       "<p>18923 rows × 7 columns</p>\n",
       "</div>"
      ],
      "text/plain": [
       "                                       paper_id  \\\n",
       "0   SP:4d08cdb2de2044bcb574a425b42963b83fbebfbc   \n",
       "0   SP:b80bc890180934092cde037b49d94d6e4e06fad9   \n",
       "0   SP:09f2fe6a482bbd6f9bd2c62aa841f995171ba939   \n",
       "0   SP:a1e2218e6943bf138aeb359e23628676b396ed66   \n",
       "0   SP:43e525fb3fa611df7fd44bd3bc9843e57b154c66   \n",
       "..                                          ...   \n",
       "0   SP:0d872fb4321f3a4a3fc61cf4d33b0c7e33f2d695   \n",
       "0   SP:4706017e6f8b958c7d0825fed98b285ea2994b59   \n",
       "0   SP:4706017e6f8b958c7d0825fed98b285ea2994b59   \n",
       "0   SP:63ad3be1dae7ede5c02a847304072c1cbc91b1cb   \n",
       "0   SP:63ad3be1dae7ede5c02a847304072c1cbc91b1cb   \n",
       "\n",
       "                                             original  \\\n",
       "0   We study the average CVloo stability of kernel...   \n",
       "0   The use of episodic memories in continual lear...   \n",
       "0   Existing Multi - Task Learning(MTL ) strategie...   \n",
       "0   This paper deals with the fuel optimization pr...   \n",
       "0   Our work is concerned with the generation and ...   \n",
       "..                                                ...   \n",
       "0   Discovering the underlying mathematical expres...   \n",
       "0   Some conventional transforms such as Discrete ...   \n",
       "0   Some conventional transforms such as Discrete ...   \n",
       "0   Thanks to graph neural networks ( GNNs ) , sem...   \n",
       "0   Thanks to graph neural networks ( GNNs ) , sem...   \n",
       "\n",
       "                                               triple  original_len  \\\n",
       "0   average CVloo stability FEATURE-OF kernel ridg...            93   \n",
       "0   episodic memories USED-FOR catastrophic forget...           148   \n",
       "0   shared learning USED-FOR Multi - Task Learning...           293   \n",
       "0   fuel optimization problem USED-FOR hybrid elec...           224   \n",
       "0   RNA HYPONYM-OF genetic macromolecule. graph - ...           199   \n",
       "..                                                ...           ...   \n",
       "0   deep learning approaches USED-FOR symbolic reg...           178   \n",
       "0   Discrete Walsh - Hadamard Transform ( DWHT ) C...           198   \n",
       "0   Discrete Walsh - Hadamard Transform ( DWHT ) C...           198   \n",
       "0   graph neural networks ( GNNs ) USED-FOR semi -...           220   \n",
       "0   graph neural networks ( GNNs ) USED-FOR semi -...           220   \n",
       "\n",
       "    triple_len  diff  diff_percent  \n",
       "0           38    55     59.139785  \n",
       "0          118    30     20.270270  \n",
       "0          345   -52    -17.747440  \n",
       "0          284   -60    -26.785714  \n",
       "0          150    49     24.623116  \n",
       "..         ...   ...           ...  \n",
       "0          115    63     35.393258  \n",
       "0          226   -28    -14.141414  \n",
       "0          226   -28    -14.141414  \n",
       "0          236   -16     -7.272727  \n",
       "0          236   -16     -7.272727  \n",
       "\n",
       "[18923 rows x 7 columns]"
      ]
     },
     "execution_count": 175,
     "metadata": {},
     "output_type": "execute_result"
    }
   ],
   "source": [
    "len_abs_df_filt = len_abs_df[len_abs_df[\"triple_len\"]>0]\n",
    "len_abs_df_filt"
   ]
  },
  {
   "cell_type": "code",
   "execution_count": 178,
   "id": "4e0c6039-53b4-464e-8387-697f322d2f99",
   "metadata": {},
   "outputs": [
    {
     "data": {
      "text/html": [
       "<div>\n",
       "<style scoped>\n",
       "    .dataframe tbody tr th:only-of-type {\n",
       "        vertical-align: middle;\n",
       "    }\n",
       "\n",
       "    .dataframe tbody tr th {\n",
       "        vertical-align: top;\n",
       "    }\n",
       "\n",
       "    .dataframe thead th {\n",
       "        text-align: right;\n",
       "    }\n",
       "</style>\n",
       "<table border=\"1\" class=\"dataframe\">\n",
       "  <thead>\n",
       "    <tr style=\"text-align: right;\">\n",
       "      <th></th>\n",
       "      <th>original_len</th>\n",
       "      <th>triple_len</th>\n",
       "      <th>diff</th>\n",
       "      <th>diff_percent</th>\n",
       "    </tr>\n",
       "  </thead>\n",
       "  <tbody>\n",
       "    <tr>\n",
       "      <th>max</th>\n",
       "      <td>7819.000000</td>\n",
       "      <td>2938.000000</td>\n",
       "      <td>4881.0000</td>\n",
       "      <td>95.813953</td>\n",
       "    </tr>\n",
       "    <tr>\n",
       "      <th>mean</th>\n",
       "      <td>211.380278</td>\n",
       "      <td>143.559478</td>\n",
       "      <td>67.8208</td>\n",
       "      <td>30.813316</td>\n",
       "    </tr>\n",
       "    <tr>\n",
       "      <th>min</th>\n",
       "      <td>14.000000</td>\n",
       "      <td>7.000000</td>\n",
       "      <td>-231.0000</td>\n",
       "      <td>-161.000000</td>\n",
       "    </tr>\n",
       "  </tbody>\n",
       "</table>\n",
       "</div>"
      ],
      "text/plain": [
       "      original_len   triple_len       diff  diff_percent\n",
       "max    7819.000000  2938.000000  4881.0000     95.813953\n",
       "mean    211.380278   143.559478    67.8208     30.813316\n",
       "min      14.000000     7.000000  -231.0000   -161.000000"
      ]
     },
     "execution_count": 178,
     "metadata": {},
     "output_type": "execute_result"
    }
   ],
   "source": [
    "len_abs_df_filt.describe().loc[[\"max\", \"mean\", \"min\"]]"
   ]
  },
  {
   "cell_type": "code",
   "execution_count": 184,
   "id": "fa517f77-1e08-4ece-a852-8ace3ed8a898",
   "metadata": {},
   "outputs": [
    {
     "name": "stdout",
     "output_type": "stream",
     "text": [
      "selective classification PART-OF online learning model.  \n",
      "\n",
      "selective classification PART-OF online learning model.  \n",
      "\n",
      "selective classification PART-OF online learning model.  \n",
      "\n",
      "convergence regimes FEATURE-OF algorithms.  \n",
      "\n",
      "convergence regimes FEATURE-OF algorithms.  \n",
      "\n"
     ]
    }
   ],
   "source": [
    "for triple in (len_abs_df_filt[len_abs_df_filt[\"diff_percent\"]>95])[\"triple\"]:\n",
    "    print(triple, \"\\n\")"
   ]
  },
  {
   "cell_type": "code",
   "execution_count": 193,
   "id": "71bfc02f-27d9-45be-bca3-1799a6612784",
   "metadata": {},
   "outputs": [
    {
     "data": {
      "text/html": [
       "<div>\n",
       "<style scoped>\n",
       "    .dataframe tbody tr th:only-of-type {\n",
       "        vertical-align: middle;\n",
       "    }\n",
       "\n",
       "    .dataframe tbody tr th {\n",
       "        vertical-align: top;\n",
       "    }\n",
       "\n",
       "    .dataframe thead th {\n",
       "        text-align: right;\n",
       "    }\n",
       "</style>\n",
       "<table border=\"1\" class=\"dataframe\">\n",
       "  <thead>\n",
       "    <tr style=\"text-align: right;\">\n",
       "      <th></th>\n",
       "      <th>paper_id</th>\n",
       "      <th>original</th>\n",
       "      <th>triple</th>\n",
       "      <th>original_len</th>\n",
       "      <th>triple_len</th>\n",
       "      <th>diff</th>\n",
       "      <th>diff_percent</th>\n",
       "    </tr>\n",
       "  </thead>\n",
       "  <tbody>\n",
       "    <tr>\n",
       "      <th>0</th>\n",
       "      <td>SP:5555557cae004b0c784305bc3a9d25801bdbe7f7</td>\n",
       "      <td>Motivated by applications to resource - limite...</td>\n",
       "      <td>selective classification PART-OF online learni...</td>\n",
       "      <td>215</td>\n",
       "      <td>9</td>\n",
       "      <td>206</td>\n",
       "      <td>95.813953</td>\n",
       "    </tr>\n",
       "    <tr>\n",
       "      <th>0</th>\n",
       "      <td>SP:5555557cae004b0c784305bc3a9d25801bdbe7f7</td>\n",
       "      <td>Motivated by applications to resource - limite...</td>\n",
       "      <td>selective classification PART-OF online learni...</td>\n",
       "      <td>215</td>\n",
       "      <td>9</td>\n",
       "      <td>206</td>\n",
       "      <td>95.813953</td>\n",
       "    </tr>\n",
       "    <tr>\n",
       "      <th>0</th>\n",
       "      <td>SP:5555557cae004b0c784305bc3a9d25801bdbe7f7</td>\n",
       "      <td>Motivated by applications to resource - limite...</td>\n",
       "      <td>selective classification PART-OF online learni...</td>\n",
       "      <td>215</td>\n",
       "      <td>9</td>\n",
       "      <td>206</td>\n",
       "      <td>95.813953</td>\n",
       "    </tr>\n",
       "    <tr>\n",
       "      <th>0</th>\n",
       "      <td>SP:b9eff5f0e2d89e5074e564fcbe7b0183c8c4818b</td>\n",
       "      <td>In environments with continuous state and acti...</td>\n",
       "      <td>convergence regimes FEATURE-OF algorithms.</td>\n",
       "      <td>157</td>\n",
       "      <td>7</td>\n",
       "      <td>150</td>\n",
       "      <td>95.541401</td>\n",
       "    </tr>\n",
       "    <tr>\n",
       "      <th>0</th>\n",
       "      <td>SP:b9eff5f0e2d89e5074e564fcbe7b0183c8c4818b</td>\n",
       "      <td>In environments with continuous state and acti...</td>\n",
       "      <td>convergence regimes FEATURE-OF algorithms.</td>\n",
       "      <td>157</td>\n",
       "      <td>7</td>\n",
       "      <td>150</td>\n",
       "      <td>95.541401</td>\n",
       "    </tr>\n",
       "  </tbody>\n",
       "</table>\n",
       "</div>"
      ],
      "text/plain": [
       "                                      paper_id  \\\n",
       "0  SP:5555557cae004b0c784305bc3a9d25801bdbe7f7   \n",
       "0  SP:5555557cae004b0c784305bc3a9d25801bdbe7f7   \n",
       "0  SP:5555557cae004b0c784305bc3a9d25801bdbe7f7   \n",
       "0  SP:b9eff5f0e2d89e5074e564fcbe7b0183c8c4818b   \n",
       "0  SP:b9eff5f0e2d89e5074e564fcbe7b0183c8c4818b   \n",
       "\n",
       "                                            original  \\\n",
       "0  Motivated by applications to resource - limite...   \n",
       "0  Motivated by applications to resource - limite...   \n",
       "0  Motivated by applications to resource - limite...   \n",
       "0  In environments with continuous state and acti...   \n",
       "0  In environments with continuous state and acti...   \n",
       "\n",
       "                                              triple  original_len  \\\n",
       "0  selective classification PART-OF online learni...           215   \n",
       "0  selective classification PART-OF online learni...           215   \n",
       "0  selective classification PART-OF online learni...           215   \n",
       "0        convergence regimes FEATURE-OF algorithms.            157   \n",
       "0        convergence regimes FEATURE-OF algorithms.            157   \n",
       "\n",
       "   triple_len  diff  diff_percent  \n",
       "0           9   206     95.813953  \n",
       "0           9   206     95.813953  \n",
       "0           9   206     95.813953  \n",
       "0           7   150     95.541401  \n",
       "0           7   150     95.541401  "
      ]
     },
     "execution_count": 193,
     "metadata": {},
     "output_type": "execute_result"
    }
   ],
   "source": [
    "len_abs_df_filt[len_abs_df_filt[\"diff_percent\"]>95]"
   ]
  },
  {
   "cell_type": "code",
   "execution_count": 191,
   "id": "ea8ec8ec-b831-4f31-a6d4-14c1cd009ffe",
   "metadata": {},
   "outputs": [
    {
     "name": "stdout",
     "output_type": "stream",
     "text": [
      "Original:\n",
      " Motivated by applications to resource - limited and safety - critical domains , we study selective classification in the online learning model , wherein a predictor may abstain from classifying an instance . For example , this may model an adaptive decision to invoke more resources on this instance . Two salient aspects of the setting we consider are that the data may be non - realisable , due to which abstention may be a valid long - term action , and that feedback is only received when the learner abstains , which models the fact that reliable labels are only available when the resource intensive processing is invoked . Within this framework , we explore strategies that make few mistakes , while not abstaining too many times more than the best - in - hindsight error - free classifier from a given class . That is , the one that makes no mistakes , while abstaining the fewest number of times . We construct simple versioning - based schemes for any μ ∈ ( 0 , 1 ] , that make most T mistakes while incurring Õ(T 1−μ ) excess abstention against adaptive adversaries . We further show that this dependence on T is tight , and provide illustrative experiments on realistic datasets .\n",
      "Triples:\n",
      " selective classification PART-OF online learning model. \n"
     ]
    }
   ],
   "source": [
    "for i, (o,t) in (len_abs_df_filt[len_abs_df_filt[\"diff_percent\"]>95])[[\"original\", \"triple\"]].iterrows():\n",
    "    print(\"Original:\\n\", o)\n",
    "    print(\"Triples:\\n\", t)\n",
    "    break\n",
    "    "
   ]
  },
  {
   "cell_type": "markdown",
   "id": "fd35708b-af69-4f26-bd86-0810773755e6",
   "metadata": {},
   "source": [
    "## Class"
   ]
  },
  {
   "cell_type": "code",
   "execution_count": 328,
   "id": "9ced9dd3-149f-4605-8fc3-4ff6459f7d4b",
   "metadata": {},
   "outputs": [],
   "source": [
    "class tripStat:\n",
    "    def __init__(self, section, data_split):\n",
    "        self.section = section\n",
    "        self.data_split = data_split\n",
    "        self.dataset = getDataset(self.section, self.data_split)\n",
    "        self.df = getProcessedLen(self.dataset)\n",
    "        self.df[\"diff_percent\"] = self.df.apply(lambda row: calPercDiff(row), axis=1)\n",
    "\n",
    "    def showDist(self, show=[\"diff_percent\"]):\n",
    "        fig, ax = plt.subplots()\n",
    "        for col in show:\n",
    "            self.df[col].plot(kind='density', ax=ax)\n",
    "            \n",
    "    def describe(self):\n",
    "        return self.df.describe().loc[[\"max\", \"mean\", \"min\"]]\n"
   ]
  },
  {
   "cell_type": "markdown",
   "id": "f7ff7ef5-dca2-4dcb-84e8-3d2e9f55331e",
   "metadata": {},
   "source": [
    "## Summary"
   ]
  },
  {
   "cell_type": "code",
   "execution_count": 329,
   "id": "5ef31c27-4bad-4b8f-bf8f-df9d3d2ae212",
   "metadata": {},
   "outputs": [
    {
     "name": "stdout",
     "output_type": "stream",
     "text": [
      "Processing [==================================================] 3604/3604\n"
     ]
    },
    {
     "data": {
      "image/png": "[encoded data removed]",
      "text/plain": [
       "<Figure size 640x480 with 1 Axes>"
      ]
     },
     "metadata": {},
     "output_type": "display_data"
    }
   ],
   "source": [
    "stat_sum_train = tripStat(\"summary\", \"val\")\n",
    "stat_sum_train.showDist()"
   ]
  },
  {
   "cell_type": "code",
   "execution_count": 325,
   "id": "110a8fce-e2b8-473f-a419-63e2c83cf877",
   "metadata": {},
   "outputs": [
    {
     "data": {
      "text/html": [
       "<div>\n",
       "<style scoped>\n",
       "    .dataframe tbody tr th:only-of-type {\n",
       "        vertical-align: middle;\n",
       "    }\n",
       "\n",
       "    .dataframe tbody tr th {\n",
       "        vertical-align: top;\n",
       "    }\n",
       "\n",
       "    .dataframe thead th {\n",
       "        text-align: right;\n",
       "    }\n",
       "</style>\n",
       "<table border=\"1\" class=\"dataframe\">\n",
       "  <thead>\n",
       "    <tr style=\"text-align: right;\">\n",
       "      <th></th>\n",
       "      <th>original_len</th>\n",
       "      <th>triple_len</th>\n",
       "      <th>diff</th>\n",
       "      <th>diff_percent</th>\n",
       "    </tr>\n",
       "  </thead>\n",
       "  <tbody>\n",
       "    <tr>\n",
       "      <th>max</th>\n",
       "      <td>801.000000</td>\n",
       "      <td>412.000000</td>\n",
       "      <td>604.000000</td>\n",
       "      <td>93.678161</td>\n",
       "    </tr>\n",
       "    <tr>\n",
       "      <th>mean</th>\n",
       "      <td>119.783019</td>\n",
       "      <td>83.158713</td>\n",
       "      <td>36.624306</td>\n",
       "      <td>26.877910</td>\n",
       "    </tr>\n",
       "    <tr>\n",
       "      <th>min</th>\n",
       "      <td>27.000000</td>\n",
       "      <td>5.000000</td>\n",
       "      <td>-190.000000</td>\n",
       "      <td>-214.772727</td>\n",
       "    </tr>\n",
       "  </tbody>\n",
       "</table>\n",
       "</div>"
      ],
      "text/plain": [
       "      original_len  triple_len        diff  diff_percent\n",
       "max     801.000000  412.000000  604.000000     93.678161\n",
       "mean    119.783019   83.158713   36.624306     26.877910\n",
       "min      27.000000    5.000000 -190.000000   -214.772727"
      ]
     },
     "execution_count": 325,
     "metadata": {},
     "output_type": "execute_result"
    }
   ],
   "source": [
    "stat_sum_train.describe()"
   ]
  },
  {
   "cell_type": "code",
   "execution_count": 335,
   "id": "ae6b08f8-ed45-4bf4-8afc-89aac07c9a6e",
   "metadata": {},
   "outputs": [
    {
     "data": {
      "text/html": [
       "<div>\n",
       "<style scoped>\n",
       "    .dataframe tbody tr th:only-of-type {\n",
       "        vertical-align: middle;\n",
       "    }\n",
       "\n",
       "    .dataframe tbody tr th {\n",
       "        vertical-align: top;\n",
       "    }\n",
       "\n",
       "    .dataframe thead th {\n",
       "        text-align: right;\n",
       "    }\n",
       "</style>\n",
       "<table border=\"1\" class=\"dataframe\">\n",
       "  <thead>\n",
       "    <tr style=\"text-align: right;\">\n",
       "      <th></th>\n",
       "      <th>paper_id</th>\n",
       "      <th>original</th>\n",
       "      <th>triple</th>\n",
       "      <th>original_len</th>\n",
       "      <th>triple_len</th>\n",
       "      <th>diff</th>\n",
       "      <th>diff_percent</th>\n",
       "    </tr>\n",
       "  </thead>\n",
       "  <tbody>\n",
       "    <tr>\n",
       "      <th>0</th>\n",
       "      <td>SP:7bee8d65c68765cbfe38767743fec27981879d34</td>\n",
       "      <td>Experiments are convincing . The provided code...</td>\n",
       "      <td>Others entities are NTK.</td>\n",
       "      <td>30</td>\n",
       "      <td>5</td>\n",
       "      <td>25</td>\n",
       "      <td>83.333333</td>\n",
       "    </tr>\n",
       "  </tbody>\n",
       "</table>\n",
       "</div>"
      ],
      "text/plain": [
       "                                      paper_id  \\\n",
       "0  SP:7bee8d65c68765cbfe38767743fec27981879d34   \n",
       "\n",
       "                                            original  \\\n",
       "0  Experiments are convincing . The provided code...   \n",
       "\n",
       "                     triple  original_len  triple_len  diff  diff_percent  \n",
       "0  Others entities are NTK.            30           5    25     83.333333  "
      ]
     },
     "execution_count": 335,
     "metadata": {},
     "output_type": "execute_result"
    }
   ],
   "source": [
    "lowest_trip = stat_sum_train.df[stat_sum_train.df[\"triple_len\"]==5]\n",
    "lowest_trip"
   ]
  },
  {
   "cell_type": "code",
   "execution_count": 336,
   "id": "6cf36e2a-e5e9-4155-997d-a629d2483195",
   "metadata": {},
   "outputs": [
    {
     "data": {
      "text/plain": [
       "'Experiments are convincing . The provided code is helpful for researchers who need a fast computation of NTK . Though the ideological ( mathematical part ) is very simple .'"
      ]
     },
     "execution_count": 336,
     "metadata": {},
     "output_type": "execute_result"
    }
   ],
   "source": [
    "lowest_trip[\"original\"][0]"
   ]
  },
  {
   "cell_type": "code",
   "execution_count": 337,
   "id": "593193b8-dec6-412d-95f9-516312e62678",
   "metadata": {},
   "outputs": [
    {
     "data": {
      "text/plain": [
       "'Others entities are NTK.'"
      ]
     },
     "execution_count": 337,
     "metadata": {},
     "output_type": "execute_result"
    }
   ],
   "source": [
    "lowest_trip[\"triple\"][0]"
   ]
  },
  {
   "cell_type": "markdown",
   "id": "b6b0527d-c019-454b-b9cb-f12d1e14e972",
   "metadata": {},
   "source": [
    "## First section"
   ]
  },
  {
   "cell_type": "code",
   "execution_count": 213,
   "id": "f07a0609-86fb-4f01-b4a2-5208e8612ab1",
   "metadata": {},
   "outputs": [
    {
     "name": "stdout",
     "output_type": "stream",
     "text": [
      "_scire_models/section_1/val_re.json\n"
     ]
    }
   ],
   "source": [
    "filepath = getPath(\"section_1\", \"val\")\n",
    "print(filepath)\n",
    "with open(filepath, 'r') as json_file:\n",
    "    json_list = list(json_file)\n",
    "dataset_sec1 = [json.loads(json_str) for json_str in json_list]"
   ]
  },
  {
   "cell_type": "code",
   "execution_count": 215,
   "id": "70b37552-d494-45d0-8948-70b90ec4fb50",
   "metadata": {},
   "outputs": [
    {
     "data": {
      "text/plain": [
       "[]"
      ]
     },
     "execution_count": 215,
     "metadata": {},
     "output_type": "execute_result"
    }
   ],
   "source": [
    "dataset_sec1"
   ]
  },
  {
   "cell_type": "code",
   "execution_count": 206,
   "id": "7f4d7831-ac85-47d2-8267-a8788fba3302",
   "metadata": {},
   "outputs": [
    {
     "name": "stdout",
     "output_type": "stream",
     "text": [
      "Processing [==================================================] 18934/18934\n"
     ]
    }
   ],
   "source": [
    "len_sum_df = getProcessedLen(dataset_sum)"
   ]
  },
  {
   "cell_type": "code",
   "execution_count": 210,
   "id": "7a97dfa0-1a81-4f92-b45c-3488cfede6db",
   "metadata": {},
   "outputs": [
    {
     "data": {
      "text/html": [
       "<div>\n",
       "<style scoped>\n",
       "    .dataframe tbody tr th:only-of-type {\n",
       "        vertical-align: middle;\n",
       "    }\n",
       "\n",
       "    .dataframe tbody tr th {\n",
       "        vertical-align: top;\n",
       "    }\n",
       "\n",
       "    .dataframe thead th {\n",
       "        text-align: right;\n",
       "    }\n",
       "</style>\n",
       "<table border=\"1\" class=\"dataframe\">\n",
       "  <thead>\n",
       "    <tr style=\"text-align: right;\">\n",
       "      <th></th>\n",
       "      <th>original_len</th>\n",
       "      <th>triple_len</th>\n",
       "      <th>diff</th>\n",
       "      <th>diff_percent</th>\n",
       "    </tr>\n",
       "  </thead>\n",
       "  <tbody>\n",
       "    <tr>\n",
       "      <th>max</th>\n",
       "      <td>1210.000000</td>\n",
       "      <td>842.000000</td>\n",
       "      <td>1056.000000</td>\n",
       "      <td>100.000000</td>\n",
       "    </tr>\n",
       "    <tr>\n",
       "      <th>mean</th>\n",
       "      <td>118.182001</td>\n",
       "      <td>72.080754</td>\n",
       "      <td>46.101246</td>\n",
       "      <td>35.738162</td>\n",
       "    </tr>\n",
       "    <tr>\n",
       "      <th>min</th>\n",
       "      <td>24.000000</td>\n",
       "      <td>0.000000</td>\n",
       "      <td>-258.000000</td>\n",
       "      <td>-151.515152</td>\n",
       "    </tr>\n",
       "  </tbody>\n",
       "</table>\n",
       "</div>"
      ],
      "text/plain": [
       "      original_len  triple_len         diff  diff_percent\n",
       "max    1210.000000  842.000000  1056.000000    100.000000\n",
       "mean    118.182001   72.080754    46.101246     35.738162\n",
       "min      24.000000    0.000000  -258.000000   -151.515152"
      ]
     },
     "execution_count": 210,
     "metadata": {},
     "output_type": "execute_result"
    }
   ],
   "source": [
    "len_sum_df = len_sum_df.convert_dtypes()\n",
    "len_sum_df[\"diff_percent\"] = len_sum_df.apply(lambda row: calPercDiff(row), axis=1)\n",
    "len_sum_df.describe().loc[[\"max\", \"mean\", \"min\"]]"
   ]
  },
  {
   "cell_type": "markdown",
   "id": "263b5699-94c1-4e90-b5da-da793b8dd3fd",
   "metadata": {},
   "source": [
    "## Summary"
   ]
  },
  {
   "cell_type": "code",
   "execution_count": 205,
   "id": "ca8c1a78-87a1-4d8c-88df-3b8da15d13fb",
   "metadata": {},
   "outputs": [],
   "source": [
    "filepath = getPath(\"summary\", \"train\")\n",
    "with open(filepath, 'r') as json_file:\n",
    "    json_list = list(json_file)\n",
    "dataset_sum = [json.loads(json_str) for json_str in json_list]"
   ]
  },
  {
   "cell_type": "code",
   "execution_count": 206,
   "id": "7b0bb402-8648-4190-97ea-dde885e24f82",
   "metadata": {},
   "outputs": [
    {
     "name": "stdout",
     "output_type": "stream",
     "text": [
      "Processing [==================================================] 18934/18934\n"
     ]
    }
   ],
   "source": [
    "len_sum_df = getProcessedLen(dataset_sum)"
   ]
  },
  {
   "cell_type": "code",
   "execution_count": 210,
   "id": "060f78af-1481-4b51-a8b3-a15895bc1691",
   "metadata": {},
   "outputs": [
    {
     "data": {
      "text/html": [
       "<div>\n",
       "<style scoped>\n",
       "    .dataframe tbody tr th:only-of-type {\n",
       "        vertical-align: middle;\n",
       "    }\n",
       "\n",
       "    .dataframe tbody tr th {\n",
       "        vertical-align: top;\n",
       "    }\n",
       "\n",
       "    .dataframe thead th {\n",
       "        text-align: right;\n",
       "    }\n",
       "</style>\n",
       "<table border=\"1\" class=\"dataframe\">\n",
       "  <thead>\n",
       "    <tr style=\"text-align: right;\">\n",
       "      <th></th>\n",
       "      <th>original_len</th>\n",
       "      <th>triple_len</th>\n",
       "      <th>diff</th>\n",
       "      <th>diff_percent</th>\n",
       "    </tr>\n",
       "  </thead>\n",
       "  <tbody>\n",
       "    <tr>\n",
       "      <th>max</th>\n",
       "      <td>1210.000000</td>\n",
       "      <td>842.000000</td>\n",
       "      <td>1056.000000</td>\n",
       "      <td>100.000000</td>\n",
       "    </tr>\n",
       "    <tr>\n",
       "      <th>mean</th>\n",
       "      <td>118.182001</td>\n",
       "      <td>72.080754</td>\n",
       "      <td>46.101246</td>\n",
       "      <td>35.738162</td>\n",
       "    </tr>\n",
       "    <tr>\n",
       "      <th>min</th>\n",
       "      <td>24.000000</td>\n",
       "      <td>0.000000</td>\n",
       "      <td>-258.000000</td>\n",
       "      <td>-151.515152</td>\n",
       "    </tr>\n",
       "  </tbody>\n",
       "</table>\n",
       "</div>"
      ],
      "text/plain": [
       "      original_len  triple_len         diff  diff_percent\n",
       "max    1210.000000  842.000000  1056.000000    100.000000\n",
       "mean    118.182001   72.080754    46.101246     35.738162\n",
       "min      24.000000    0.000000  -258.000000   -151.515152"
      ]
     },
     "execution_count": 210,
     "metadata": {},
     "output_type": "execute_result"
    }
   ],
   "source": [
    "len_sum_df = len_sum_df.convert_dtypes()\n",
    "len_sum_df[\"diff_percent\"] = len_sum_df.apply(lambda row: calPercDiff(row), axis=1)\n",
    "len_sum_df.describe().loc[[\"max\", \"mean\", \"min\"]]"
   ]
  }
 ],
 "metadata": {
  "kernelspec": {
   "display_name": "Python 3 (ipykernel)",
   "language": "python",
   "name": "python3"
  },
  "language_info": {
   "codemirror_mode": {
    "name": "ipython",
    "version": 3
   },
   "file_extension": ".py",
   "mimetype": "text/x-python",
   "name": "python",
   "nbconvert_exporter": "python",
   "pygments_lexer": "ipython3",
   "version": "3.8.10"
  }
 },
 "nbformat": 4,
 "nbformat_minor": 5
}
