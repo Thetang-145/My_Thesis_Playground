{
 "cells": [
  {
   "cell_type": "code",
   "execution_count": 1,
   "id": "de829ab0-c585-4a0d-b4e6-60b9055d9443",
   "metadata": {},
   "outputs": [],
   "source": [
    "import sys\n",
    "import json\n",
    "import pandas as pd\n",
    "import matplotlib.pyplot as plt"
   ]
  },
  {
   "cell_type": "code",
   "execution_count": 5,
   "id": "aa9aacde-4b6f-4b37-afe0-1d37657f7465",
   "metadata": {},
   "outputs": [],
   "source": [
    "paths = {\n",
    "    \"train\": \"dataset/training_complete.jsonl\",\n",
    "    \"val\": \"dataset/validation_complete.jsonl\",\n",
    "    \"test\": \"dataset/testing_with_paper_release.jsonl\"\n",
    "}"
   ]
  },
  {
   "cell_type": "code",
   "execution_count": 9,
   "id": "b034aa82-ac26-4a49-83ee-00bed33c7eb0",
   "metadata": {},
   "outputs": [
    {
     "data": {
      "text/plain": [
       "dict_keys(['paper_id', 'summary', 'paper'])"
      ]
     },
     "execution_count": 9,
     "metadata": {},
     "output_type": "execute_result"
    }
   ],
   "source": [
    "path = paths[\"train\"]\n",
    "with open(path, 'r') as json_file:\n",
    "    json_list = list(json_file)\n",
    "    col_name = [\"paper_id\",\"summary\"]\n",
    "summary_df = pd.DataFrame(columns=col_name)\n",
    "for json_str in json_list:\n",
    "    result = json.loads(json_str)\n",
    "    df = pd.DataFrame([[result[\"paper_id\"], result[\"summary\"]]], columns=col_name)\n",
    "    summary_df = pd.concat([summary_df,df])\n",
    "    # break\n",
    "(result['paper']).keys()\n",
    "result.keys()"
   ]
  },
  {
   "cell_type": "code",
   "execution_count": null,
   "id": "c0d85df0-97dc-4211-a063-c36eb983125d",
   "metadata": {},
   "outputs": [],
   "source": []
  }
 ],
 "metadata": {
  "kernelspec": {
   "display_name": "Python 3 (ipykernel)",
   "language": "python",
   "name": "python3"
  },
  "language_info": {
   "codemirror_mode": {
    "name": "ipython",
    "version": 3
   },
   "file_extension": ".py",
   "mimetype": "text/x-python",
   "name": "python",
   "nbconvert_exporter": "python",
   "pygments_lexer": "ipython3",
   "version": "3.8.10"
  }
 },
 "nbformat": 4,
 "nbformat_minor": 5
}
