{
 "cells": [
  {
   "cell_type": "code",
   "execution_count": 18,
   "id": "5e52f28a-37ee-4a2a-8239-e0adbdfd3040",
   "metadata": {
    "tags": []
   },
   "outputs": [],
   "source": [
    "from rouge import Rouge\n",
    "import pandas as pd\n",
    "from pathlib import Path\n",
    "import json\n"
   ]
  },
  {
   "cell_type": "code",
   "execution_count": 26,
   "id": "d0ebebf6-7e9d-4e2e-8e0b-e4efc4a082ff",
   "metadata": {
    "tags": []
   },
   "outputs": [
    {
     "data": {
      "text/html": [
       "<div>\n",
       "<style scoped>\n",
       "    .dataframe tbody tr th:only-of-type {\n",
       "        vertical-align: middle;\n",
       "    }\n",
       "\n",
       "    .dataframe tbody tr th {\n",
       "        vertical-align: top;\n",
       "    }\n",
       "\n",
       "    .dataframe thead th {\n",
       "        text-align: right;\n",
       "    }\n",
       "</style>\n",
       "<table border=\"1\" class=\"dataframe\">\n",
       "  <thead>\n",
       "    <tr style=\"text-align: right;\">\n",
       "      <th></th>\n",
       "      <th>paper_id</th>\n",
       "      <th>gen_sum</th>\n",
       "    </tr>\n",
       "  </thead>\n",
       "  <tbody>\n",
       "    <tr>\n",
       "      <th>0</th>\n",
       "      <td>SP:7f4b788b00a2a10bcd60351c3e04c8f597101e96</td>\n",
       "      <td>This paper proposes a new algorithm for federa...</td>\n",
       "    </tr>\n",
       "    <tr>\n",
       "      <th>1</th>\n",
       "      <td>SP:7f4b788b00a2a10bcd60351c3e04c8f597101e96</td>\n",
       "      <td>This paper proposes a new algorithm for federa...</td>\n",
       "    </tr>\n",
       "    <tr>\n",
       "      <th>2</th>\n",
       "      <td>SP:7f4b788b00a2a10bcd60351c3e04c8f597101e96</td>\n",
       "      <td>This paper proposes a new algorithm for federa...</td>\n",
       "    </tr>\n",
       "    <tr>\n",
       "      <th>3</th>\n",
       "      <td>SP:632666b52c7c551d67fbbe70c06ed589c3a5e187</td>\n",
       "      <td>This paper proposes a method for self-attentio...</td>\n",
       "    </tr>\n",
       "    <tr>\n",
       "      <th>4</th>\n",
       "      <td>SP:632666b52c7c551d67fbbe70c06ed589c3a5e187</td>\n",
       "      <td>This paper proposes a method for self-attentio...</td>\n",
       "    </tr>\n",
       "    <tr>\n",
       "      <th>...</th>\n",
       "      <td>...</td>\n",
       "      <td>...</td>\n",
       "    </tr>\n",
       "    <tr>\n",
       "      <th>3599</th>\n",
       "      <td>SP:18aaba3423e81e9437b509d1a5e24836ef5635f6</td>\n",
       "      <td>This paper proposes a method for learning repr...</td>\n",
       "    </tr>\n",
       "    <tr>\n",
       "      <th>3600</th>\n",
       "      <td>SP:18aaba3423e81e9437b509d1a5e24836ef5635f6</td>\n",
       "      <td>This paper proposes a method for learning repr...</td>\n",
       "    </tr>\n",
       "    <tr>\n",
       "      <th>3601</th>\n",
       "      <td>SP:3058e6bc5e8c62af325c214c9e1436d6cdf09204</td>\n",
       "      <td>This paper proposes a unified formalism for gr...</td>\n",
       "    </tr>\n",
       "    <tr>\n",
       "      <th>3602</th>\n",
       "      <td>SP:3058e6bc5e8c62af325c214c9e1436d6cdf09204</td>\n",
       "      <td>This paper proposes a unified formalism for gr...</td>\n",
       "    </tr>\n",
       "    <tr>\n",
       "      <th>3603</th>\n",
       "      <td>SP:3058e6bc5e8c62af325c214c9e1436d6cdf09204</td>\n",
       "      <td>This paper proposes a unified formalism for gr...</td>\n",
       "    </tr>\n",
       "  </tbody>\n",
       "</table>\n",
       "<p>3604 rows × 2 columns</p>\n",
       "</div>"
      ],
      "text/plain": [
       "                                         paper_id  \\\n",
       "0     SP:7f4b788b00a2a10bcd60351c3e04c8f597101e96   \n",
       "1     SP:7f4b788b00a2a10bcd60351c3e04c8f597101e96   \n",
       "2     SP:7f4b788b00a2a10bcd60351c3e04c8f597101e96   \n",
       "3     SP:632666b52c7c551d67fbbe70c06ed589c3a5e187   \n",
       "4     SP:632666b52c7c551d67fbbe70c06ed589c3a5e187   \n",
       "...                                           ...   \n",
       "3599  SP:18aaba3423e81e9437b509d1a5e24836ef5635f6   \n",
       "3600  SP:18aaba3423e81e9437b509d1a5e24836ef5635f6   \n",
       "3601  SP:3058e6bc5e8c62af325c214c9e1436d6cdf09204   \n",
       "3602  SP:3058e6bc5e8c62af325c214c9e1436d6cdf09204   \n",
       "3603  SP:3058e6bc5e8c62af325c214c9e1436d6cdf09204   \n",
       "\n",
       "                                                gen_sum  \n",
       "0     This paper proposes a new algorithm for federa...  \n",
       "1     This paper proposes a new algorithm for federa...  \n",
       "2     This paper proposes a new algorithm for federa...  \n",
       "3     This paper proposes a method for self-attentio...  \n",
       "4     This paper proposes a method for self-attentio...  \n",
       "...                                                 ...  \n",
       "3599  This paper proposes a method for learning repr...  \n",
       "3600  This paper proposes a method for learning repr...  \n",
       "3601  This paper proposes a unified formalism for gr...  \n",
       "3602  This paper proposes a unified formalism for gr...  \n",
       "3603  This paper proposes a unified formalism for gr...  \n",
       "\n",
       "[3604 rows x 2 columns]"
      ]
     },
     "execution_count": 26,
     "metadata": {},
     "output_type": "execute_result"
    }
   ],
   "source": [
    "generated_sum = pd.read_csv(\"model/result.csv\", index_col=0)\n",
    "generated_sum"
   ]
  },
  {
   "cell_type": "code",
   "execution_count": 28,
   "id": "cc682ed7-24dc-4724-a66b-e1a901a2eb10",
   "metadata": {
    "tags": []
   },
   "outputs": [
    {
     "data": {
      "text/html": [
       "<div>\n",
       "<style scoped>\n",
       "    .dataframe tbody tr th:only-of-type {\n",
       "        vertical-align: middle;\n",
       "    }\n",
       "\n",
       "    .dataframe tbody tr th {\n",
       "        vertical-align: top;\n",
       "    }\n",
       "\n",
       "    .dataframe thead th {\n",
       "        text-align: right;\n",
       "    }\n",
       "</style>\n",
       "<table border=\"1\" class=\"dataframe\">\n",
       "  <thead>\n",
       "    <tr style=\"text-align: right;\">\n",
       "      <th></th>\n",
       "      <th>paper_id</th>\n",
       "      <th>gen_sum</th>\n",
       "    </tr>\n",
       "  </thead>\n",
       "  <tbody>\n",
       "    <tr>\n",
       "      <th>0</th>\n",
       "      <td>SP:7f4b788b00a2a10bcd60351c3e04c8f597101e96</td>\n",
       "      <td>This paper proposes a new algorithm for federa...</td>\n",
       "    </tr>\n",
       "    <tr>\n",
       "      <th>3</th>\n",
       "      <td>SP:632666b52c7c551d67fbbe70c06ed589c3a5e187</td>\n",
       "      <td>This paper proposes a method for self-attentio...</td>\n",
       "    </tr>\n",
       "    <tr>\n",
       "      <th>6</th>\n",
       "      <td>SP:e3e728837f26acb9da283a42c219b6c3b3e131cb</td>\n",
       "      <td>This paper proposes a Bayesian Stackelberg Mar...</td>\n",
       "    </tr>\n",
       "    <tr>\n",
       "      <th>9</th>\n",
       "      <td>SP:97911e02bf06b34d022e7548beb5169a1d825903</td>\n",
       "      <td>This paper studies the problem of unsupervised...</td>\n",
       "    </tr>\n",
       "    <tr>\n",
       "      <th>12</th>\n",
       "      <td>SP:59f9de3ebe4a04d2fc8778d8e3415bf85efb7822</td>\n",
       "      <td>This paper proposes a zero-shot approach for a...</td>\n",
       "    </tr>\n",
       "    <tr>\n",
       "      <th>...</th>\n",
       "      <td>...</td>\n",
       "      <td>...</td>\n",
       "    </tr>\n",
       "    <tr>\n",
       "      <th>3589</th>\n",
       "      <td>SP:77b8bed08af8be8af0c65a72a6e22cfb02645d02</td>\n",
       "      <td>This paper proposes a hybrid method for variat...</td>\n",
       "    </tr>\n",
       "    <tr>\n",
       "      <th>3592</th>\n",
       "      <td>SP:64f2744e938bd62cd47c1066dc404a42134953da</td>\n",
       "      <td>This paper proposes a new method for causal in...</td>\n",
       "    </tr>\n",
       "    <tr>\n",
       "      <th>3595</th>\n",
       "      <td>SP:971d0d94adf5113ee1bef8df9ea7dbd508cf4cbc</td>\n",
       "      <td>This paper proposes a method for finding compa...</td>\n",
       "    </tr>\n",
       "    <tr>\n",
       "      <th>3598</th>\n",
       "      <td>SP:18aaba3423e81e9437b509d1a5e24836ef5635f6</td>\n",
       "      <td>This paper proposes a method for learning repr...</td>\n",
       "    </tr>\n",
       "    <tr>\n",
       "      <th>3601</th>\n",
       "      <td>SP:3058e6bc5e8c62af325c214c9e1436d6cdf09204</td>\n",
       "      <td>This paper proposes a unified formalism for gr...</td>\n",
       "    </tr>\n",
       "  </tbody>\n",
       "</table>\n",
       "<p>1060 rows × 2 columns</p>\n",
       "</div>"
      ],
      "text/plain": [
       "                                         paper_id  \\\n",
       "0     SP:7f4b788b00a2a10bcd60351c3e04c8f597101e96   \n",
       "3     SP:632666b52c7c551d67fbbe70c06ed589c3a5e187   \n",
       "6     SP:e3e728837f26acb9da283a42c219b6c3b3e131cb   \n",
       "9     SP:97911e02bf06b34d022e7548beb5169a1d825903   \n",
       "12    SP:59f9de3ebe4a04d2fc8778d8e3415bf85efb7822   \n",
       "...                                           ...   \n",
       "3589  SP:77b8bed08af8be8af0c65a72a6e22cfb02645d02   \n",
       "3592  SP:64f2744e938bd62cd47c1066dc404a42134953da   \n",
       "3595  SP:971d0d94adf5113ee1bef8df9ea7dbd508cf4cbc   \n",
       "3598  SP:18aaba3423e81e9437b509d1a5e24836ef5635f6   \n",
       "3601  SP:3058e6bc5e8c62af325c214c9e1436d6cdf09204   \n",
       "\n",
       "                                                gen_sum  \n",
       "0     This paper proposes a new algorithm for federa...  \n",
       "3     This paper proposes a method for self-attentio...  \n",
       "6     This paper proposes a Bayesian Stackelberg Mar...  \n",
       "9     This paper studies the problem of unsupervised...  \n",
       "12    This paper proposes a zero-shot approach for a...  \n",
       "...                                                 ...  \n",
       "3589  This paper proposes a hybrid method for variat...  \n",
       "3592  This paper proposes a new method for causal in...  \n",
       "3595  This paper proposes a method for finding compa...  \n",
       "3598  This paper proposes a method for learning repr...  \n",
       "3601  This paper proposes a unified formalism for gr...  \n",
       "\n",
       "[1060 rows x 2 columns]"
      ]
     },
     "execution_count": 28,
     "metadata": {},
     "output_type": "execute_result"
    }
   ],
   "source": [
    "generated_sum = generated_sum.drop_duplicates()\n",
    "generated_sum"
   ]
  },
  {
   "cell_type": "code",
   "execution_count": 11,
   "id": "d08ccac9-c89c-4859-942e-3fd11bdef0cd",
   "metadata": {
    "tags": []
   },
   "outputs": [],
   "source": [
    "RAWDATAFILES = {\n",
    "    \"train\": \"training_complete.jsonl\",\n",
    "    \"val\": \"validation_complete.jsonl\",\n",
    "    \"test\": \"testing_with_paper_release.jsonl\"\n",
    "}"
   ]
  },
  {
   "cell_type": "code",
   "execution_count": 22,
   "id": "c9101f40-35e1-48cf-b433-7a8c98b4ba8e",
   "metadata": {
    "tags": []
   },
   "outputs": [],
   "source": [
    "def load_data(filepath):\n",
    "    with open(filepath, 'r') as json_file:\n",
    "        json_list = list(json_file)\n",
    "    dataset = []\n",
    "    data_len = len(json_list)\n",
    "    for i, json_str in enumerate(json_list):\n",
    "        result = json.loads(json_str)\n",
    "        dataset.append({\n",
    "            \"paper_id\": result[\"paper_id\"], \n",
    "            \"ref_sum\": result[\"summary\"]\n",
    "        })\n",
    "    return pd.DataFrame(dataset)"
   ]
  },
  {
   "cell_type": "code",
   "execution_count": 23,
   "id": "18d97b9e-cd69-464e-986c-776ffeec219e",
   "metadata": {
    "tags": []
   },
   "outputs": [
    {
     "data": {
      "text/html": [
       "<div>\n",
       "<style scoped>\n",
       "    .dataframe tbody tr th:only-of-type {\n",
       "        vertical-align: middle;\n",
       "    }\n",
       "\n",
       "    .dataframe tbody tr th {\n",
       "        vertical-align: top;\n",
       "    }\n",
       "\n",
       "    .dataframe thead th {\n",
       "        text-align: right;\n",
       "    }\n",
       "</style>\n",
       "<table border=\"1\" class=\"dataframe\">\n",
       "  <thead>\n",
       "    <tr style=\"text-align: right;\">\n",
       "      <th></th>\n",
       "      <th>paper_id</th>\n",
       "      <th>ref_sum</th>\n",
       "    </tr>\n",
       "  </thead>\n",
       "  <tbody>\n",
       "    <tr>\n",
       "      <th>0</th>\n",
       "      <td>SP:7f4b788b00a2a10bcd60351c3e04c8f597101e96</td>\n",
       "      <td>This paper studies FL under local differential...</td>\n",
       "    </tr>\n",
       "    <tr>\n",
       "      <th>1</th>\n",
       "      <td>SP:7f4b788b00a2a10bcd60351c3e04c8f597101e96</td>\n",
       "      <td>This paper studies a low communication algorit...</td>\n",
       "    </tr>\n",
       "    <tr>\n",
       "      <th>2</th>\n",
       "      <td>SP:7f4b788b00a2a10bcd60351c3e04c8f597101e96</td>\n",
       "      <td>The paper proposed a differentially private tr...</td>\n",
       "    </tr>\n",
       "    <tr>\n",
       "      <th>3</th>\n",
       "      <td>SP:632666b52c7c551d67fbbe70c06ed589c3a5e187</td>\n",
       "      <td>This submission works on the neural machine tr...</td>\n",
       "    </tr>\n",
       "    <tr>\n",
       "      <th>4</th>\n",
       "      <td>SP:632666b52c7c551d67fbbe70c06ed589c3a5e187</td>\n",
       "      <td>This paper proposes a method to introduce **pr...</td>\n",
       "    </tr>\n",
       "    <tr>\n",
       "      <th>...</th>\n",
       "      <td>...</td>\n",
       "      <td>...</td>\n",
       "    </tr>\n",
       "    <tr>\n",
       "      <th>3599</th>\n",
       "      <td>SP:18aaba3423e81e9437b509d1a5e24836ef5635f6</td>\n",
       "      <td>This paper defines a set of learnable basis fu...</td>\n",
       "    </tr>\n",
       "    <tr>\n",
       "      <th>3600</th>\n",
       "      <td>SP:18aaba3423e81e9437b509d1a5e24836ef5635f6</td>\n",
       "      <td>A typical Wavelet Transform is built through t...</td>\n",
       "    </tr>\n",
       "    <tr>\n",
       "      <th>3601</th>\n",
       "      <td>SP:3058e6bc5e8c62af325c214c9e1436d6cdf09204</td>\n",
       "      <td>This paper builds a new graph convolutional ne...</td>\n",
       "    </tr>\n",
       "    <tr>\n",
       "      <th>3602</th>\n",
       "      <td>SP:3058e6bc5e8c62af325c214c9e1436d6cdf09204</td>\n",
       "      <td>The authors propose using non-Euclidean spaces...</td>\n",
       "    </tr>\n",
       "    <tr>\n",
       "      <th>3603</th>\n",
       "      <td>SP:3058e6bc5e8c62af325c214c9e1436d6cdf09204</td>\n",
       "      <td>In this paper, the authors address representat...</td>\n",
       "    </tr>\n",
       "  </tbody>\n",
       "</table>\n",
       "<p>3604 rows × 2 columns</p>\n",
       "</div>"
      ],
      "text/plain": [
       "                                         paper_id  \\\n",
       "0     SP:7f4b788b00a2a10bcd60351c3e04c8f597101e96   \n",
       "1     SP:7f4b788b00a2a10bcd60351c3e04c8f597101e96   \n",
       "2     SP:7f4b788b00a2a10bcd60351c3e04c8f597101e96   \n",
       "3     SP:632666b52c7c551d67fbbe70c06ed589c3a5e187   \n",
       "4     SP:632666b52c7c551d67fbbe70c06ed589c3a5e187   \n",
       "...                                           ...   \n",
       "3599  SP:18aaba3423e81e9437b509d1a5e24836ef5635f6   \n",
       "3600  SP:18aaba3423e81e9437b509d1a5e24836ef5635f6   \n",
       "3601  SP:3058e6bc5e8c62af325c214c9e1436d6cdf09204   \n",
       "3602  SP:3058e6bc5e8c62af325c214c9e1436d6cdf09204   \n",
       "3603  SP:3058e6bc5e8c62af325c214c9e1436d6cdf09204   \n",
       "\n",
       "                                                ref_sum  \n",
       "0     This paper studies FL under local differential...  \n",
       "1     This paper studies a low communication algorit...  \n",
       "2     The paper proposed a differentially private tr...  \n",
       "3     This submission works on the neural machine tr...  \n",
       "4     This paper proposes a method to introduce **pr...  \n",
       "...                                                 ...  \n",
       "3599  This paper defines a set of learnable basis fu...  \n",
       "3600  A typical Wavelet Transform is built through t...  \n",
       "3601  This paper builds a new graph convolutional ne...  \n",
       "3602  The authors propose using non-Euclidean spaces...  \n",
       "3603  In this paper, the authors address representat...  \n",
       "\n",
       "[3604 rows x 2 columns]"
      ]
     },
     "execution_count": 23,
     "metadata": {},
     "output_type": "execute_result"
    }
   ],
   "source": [
    "main_path = str((Path().absolute()).parents[0])\n",
    "filepath = main_path+\"/MuP_sum/dataset/\"+RAWDATAFILES['val']\n",
    "reference_sum = load_data(filepath)\n",
    "reference_sum"
   ]
  },
  {
   "cell_type": "code",
   "execution_count": 29,
   "id": "1cf8e12c-5672-4fbb-8410-7a1332c9de3c",
   "metadata": {
    "tags": []
   },
   "outputs": [
    {
     "data": {
      "text/html": [
       "<div>\n",
       "<style scoped>\n",
       "    .dataframe tbody tr th:only-of-type {\n",
       "        vertical-align: middle;\n",
       "    }\n",
       "\n",
       "    .dataframe tbody tr th {\n",
       "        vertical-align: top;\n",
       "    }\n",
       "\n",
       "    .dataframe thead th {\n",
       "        text-align: right;\n",
       "    }\n",
       "</style>\n",
       "<table border=\"1\" class=\"dataframe\">\n",
       "  <thead>\n",
       "    <tr style=\"text-align: right;\">\n",
       "      <th></th>\n",
       "      <th>paper_id</th>\n",
       "      <th>ref_sum</th>\n",
       "      <th>gen_sum</th>\n",
       "    </tr>\n",
       "  </thead>\n",
       "  <tbody>\n",
       "    <tr>\n",
       "      <th>0</th>\n",
       "      <td>SP:7f4b788b00a2a10bcd60351c3e04c8f597101e96</td>\n",
       "      <td>This paper studies FL under local differential...</td>\n",
       "      <td>This paper proposes a new algorithm for federa...</td>\n",
       "    </tr>\n",
       "    <tr>\n",
       "      <th>1</th>\n",
       "      <td>SP:7f4b788b00a2a10bcd60351c3e04c8f597101e96</td>\n",
       "      <td>This paper studies a low communication algorit...</td>\n",
       "      <td>This paper proposes a new algorithm for federa...</td>\n",
       "    </tr>\n",
       "    <tr>\n",
       "      <th>2</th>\n",
       "      <td>SP:7f4b788b00a2a10bcd60351c3e04c8f597101e96</td>\n",
       "      <td>The paper proposed a differentially private tr...</td>\n",
       "      <td>This paper proposes a new algorithm for federa...</td>\n",
       "    </tr>\n",
       "    <tr>\n",
       "      <th>3</th>\n",
       "      <td>SP:632666b52c7c551d67fbbe70c06ed589c3a5e187</td>\n",
       "      <td>This submission works on the neural machine tr...</td>\n",
       "      <td>This paper proposes a method for self-attentio...</td>\n",
       "    </tr>\n",
       "    <tr>\n",
       "      <th>4</th>\n",
       "      <td>SP:632666b52c7c551d67fbbe70c06ed589c3a5e187</td>\n",
       "      <td>This paper proposes a method to introduce **pr...</td>\n",
       "      <td>This paper proposes a method for self-attentio...</td>\n",
       "    </tr>\n",
       "    <tr>\n",
       "      <th>...</th>\n",
       "      <td>...</td>\n",
       "      <td>...</td>\n",
       "      <td>...</td>\n",
       "    </tr>\n",
       "    <tr>\n",
       "      <th>3599</th>\n",
       "      <td>SP:18aaba3423e81e9437b509d1a5e24836ef5635f6</td>\n",
       "      <td>This paper defines a set of learnable basis fu...</td>\n",
       "      <td>This paper proposes a method for learning repr...</td>\n",
       "    </tr>\n",
       "    <tr>\n",
       "      <th>3600</th>\n",
       "      <td>SP:18aaba3423e81e9437b509d1a5e24836ef5635f6</td>\n",
       "      <td>A typical Wavelet Transform is built through t...</td>\n",
       "      <td>This paper proposes a method for learning repr...</td>\n",
       "    </tr>\n",
       "    <tr>\n",
       "      <th>3601</th>\n",
       "      <td>SP:3058e6bc5e8c62af325c214c9e1436d6cdf09204</td>\n",
       "      <td>This paper builds a new graph convolutional ne...</td>\n",
       "      <td>This paper proposes a unified formalism for gr...</td>\n",
       "    </tr>\n",
       "    <tr>\n",
       "      <th>3602</th>\n",
       "      <td>SP:3058e6bc5e8c62af325c214c9e1436d6cdf09204</td>\n",
       "      <td>The authors propose using non-Euclidean spaces...</td>\n",
       "      <td>This paper proposes a unified formalism for gr...</td>\n",
       "    </tr>\n",
       "    <tr>\n",
       "      <th>3603</th>\n",
       "      <td>SP:3058e6bc5e8c62af325c214c9e1436d6cdf09204</td>\n",
       "      <td>In this paper, the authors address representat...</td>\n",
       "      <td>This paper proposes a unified formalism for gr...</td>\n",
       "    </tr>\n",
       "  </tbody>\n",
       "</table>\n",
       "<p>3604 rows × 3 columns</p>\n",
       "</div>"
      ],
      "text/plain": [
       "                                         paper_id  \\\n",
       "0     SP:7f4b788b00a2a10bcd60351c3e04c8f597101e96   \n",
       "1     SP:7f4b788b00a2a10bcd60351c3e04c8f597101e96   \n",
       "2     SP:7f4b788b00a2a10bcd60351c3e04c8f597101e96   \n",
       "3     SP:632666b52c7c551d67fbbe70c06ed589c3a5e187   \n",
       "4     SP:632666b52c7c551d67fbbe70c06ed589c3a5e187   \n",
       "...                                           ...   \n",
       "3599  SP:18aaba3423e81e9437b509d1a5e24836ef5635f6   \n",
       "3600  SP:18aaba3423e81e9437b509d1a5e24836ef5635f6   \n",
       "3601  SP:3058e6bc5e8c62af325c214c9e1436d6cdf09204   \n",
       "3602  SP:3058e6bc5e8c62af325c214c9e1436d6cdf09204   \n",
       "3603  SP:3058e6bc5e8c62af325c214c9e1436d6cdf09204   \n",
       "\n",
       "                                                ref_sum  \\\n",
       "0     This paper studies FL under local differential...   \n",
       "1     This paper studies a low communication algorit...   \n",
       "2     The paper proposed a differentially private tr...   \n",
       "3     This submission works on the neural machine tr...   \n",
       "4     This paper proposes a method to introduce **pr...   \n",
       "...                                                 ...   \n",
       "3599  This paper defines a set of learnable basis fu...   \n",
       "3600  A typical Wavelet Transform is built through t...   \n",
       "3601  This paper builds a new graph convolutional ne...   \n",
       "3602  The authors propose using non-Euclidean spaces...   \n",
       "3603  In this paper, the authors address representat...   \n",
       "\n",
       "                                                gen_sum  \n",
       "0     This paper proposes a new algorithm for federa...  \n",
       "1     This paper proposes a new algorithm for federa...  \n",
       "2     This paper proposes a new algorithm for federa...  \n",
       "3     This paper proposes a method for self-attentio...  \n",
       "4     This paper proposes a method for self-attentio...  \n",
       "...                                                 ...  \n",
       "3599  This paper proposes a method for learning repr...  \n",
       "3600  This paper proposes a method for learning repr...  \n",
       "3601  This paper proposes a unified formalism for gr...  \n",
       "3602  This paper proposes a unified formalism for gr...  \n",
       "3603  This paper proposes a unified formalism for gr...  \n",
       "\n",
       "[3604 rows x 3 columns]"
      ]
     },
     "execution_count": 29,
     "metadata": {},
     "output_type": "execute_result"
    }
   ],
   "source": [
    "summary_df = pd.merge(reference_sum, generated_sum, on='paper_id', how='inner')\n",
    "summary_df"
   ]
  },
  {
   "cell_type": "code",
   "execution_count": 30,
   "id": "6e2a3038-f28e-4a66-97e1-af36ab11f928",
   "metadata": {
    "tags": []
   },
   "outputs": [],
   "source": [
    "# Define the reference and candidate texts\n",
    "reference = list(summary_df['ref_sum'])\n",
    "candidate = list(summary_df['gen_sum'])"
   ]
  },
  {
   "cell_type": "code",
   "execution_count": 33,
   "id": "3b01b8d4-3cad-4650-aa4d-03b434619afb",
   "metadata": {
    "tags": []
   },
   "outputs": [],
   "source": [
    "# Create a Rouge object\n",
    "rouge = Rouge()\n",
    "\n",
    "# Calculate the ROUGE score\n",
    "scores = rouge.get_scores(candidate, reference)"
   ]
  },
  {
   "cell_type": "code",
   "execution_count": 34,
   "id": "c159e046-f058-45ea-8201-09fcbb3707a0",
   "metadata": {
    "tags": []
   },
   "outputs": [
    {
     "name": "stdout",
     "output_type": "stream",
     "text": [
      "3604\n"
     ]
    }
   ],
   "source": [
    "# Print the scores\n",
    "print(len(scores))"
   ]
  },
  {
   "cell_type": "code",
   "execution_count": 38,
   "id": "6c095851-ee22-41ff-aa78-ddc44fb202e6",
   "metadata": {
    "tags": []
   },
   "outputs": [],
   "source": [
    "def getScore(score_type='f'):\n",
    "    return [{\n",
    "        'rouge-1': score['rouge-1'][score_type],\n",
    "        'rouge-2': score['rouge-2'][score_type],\n",
    "        'rouge-l': score['rouge-l'][score_type],\n",
    "    } for score in scores]"
   ]
  },
  {
   "cell_type": "code",
   "execution_count": 39,
   "id": "856aeab8-9ae0-41bf-a0e6-90d0c85576b0",
   "metadata": {
    "tags": []
   },
   "outputs": [
    {
     "data": {
      "text/plain": [
       "{'rouge-1': 0.439024385244233,\n",
       " 'rouge-2': 0.14999999505000017,\n",
       " 'rouge-l': 0.39024389743935495}"
      ]
     },
     "execution_count": 39,
     "metadata": {},
     "output_type": "execute_result"
    }
   ],
   "source": [
    "f1_score = getScore()\n",
    "f1_score[0]"
   ]
  },
  {
   "cell_type": "code",
   "execution_count": 40,
   "id": "03f0a978-1c90-4e65-b9a4-24be967eff32",
   "metadata": {
    "tags": []
   },
   "outputs": [
    {
     "data": {
      "text/html": [
       "<div>\n",
       "<style scoped>\n",
       "    .dataframe tbody tr th:only-of-type {\n",
       "        vertical-align: middle;\n",
       "    }\n",
       "\n",
       "    .dataframe tbody tr th {\n",
       "        vertical-align: top;\n",
       "    }\n",
       "\n",
       "    .dataframe thead th {\n",
       "        text-align: right;\n",
       "    }\n",
       "</style>\n",
       "<table border=\"1\" class=\"dataframe\">\n",
       "  <thead>\n",
       "    <tr style=\"text-align: right;\">\n",
       "      <th></th>\n",
       "      <th>rouge-1</th>\n",
       "      <th>rouge-2</th>\n",
       "      <th>rouge-l</th>\n",
       "    </tr>\n",
       "  </thead>\n",
       "  <tbody>\n",
       "    <tr>\n",
       "      <th>0</th>\n",
       "      <td>0.439024</td>\n",
       "      <td>0.150000</td>\n",
       "      <td>0.390244</td>\n",
       "    </tr>\n",
       "    <tr>\n",
       "      <th>1</th>\n",
       "      <td>0.340741</td>\n",
       "      <td>0.075676</td>\n",
       "      <td>0.340741</td>\n",
       "    </tr>\n",
       "    <tr>\n",
       "      <th>2</th>\n",
       "      <td>0.324324</td>\n",
       "      <td>0.116883</td>\n",
       "      <td>0.324324</td>\n",
       "    </tr>\n",
       "    <tr>\n",
       "      <th>3</th>\n",
       "      <td>0.420168</td>\n",
       "      <td>0.142012</td>\n",
       "      <td>0.369748</td>\n",
       "    </tr>\n",
       "    <tr>\n",
       "      <th>4</th>\n",
       "      <td>0.288136</td>\n",
       "      <td>0.074534</td>\n",
       "      <td>0.254237</td>\n",
       "    </tr>\n",
       "    <tr>\n",
       "      <th>...</th>\n",
       "      <td>...</td>\n",
       "      <td>...</td>\n",
       "      <td>...</td>\n",
       "    </tr>\n",
       "    <tr>\n",
       "      <th>3599</th>\n",
       "      <td>0.250000</td>\n",
       "      <td>0.054054</td>\n",
       "      <td>0.230769</td>\n",
       "    </tr>\n",
       "    <tr>\n",
       "      <th>3600</th>\n",
       "      <td>0.392157</td>\n",
       "      <td>0.076336</td>\n",
       "      <td>0.313725</td>\n",
       "    </tr>\n",
       "    <tr>\n",
       "      <th>3601</th>\n",
       "      <td>0.246753</td>\n",
       "      <td>0.076555</td>\n",
       "      <td>0.220779</td>\n",
       "    </tr>\n",
       "    <tr>\n",
       "      <th>3602</th>\n",
       "      <td>0.245902</td>\n",
       "      <td>0.024540</td>\n",
       "      <td>0.245902</td>\n",
       "    </tr>\n",
       "    <tr>\n",
       "      <th>3603</th>\n",
       "      <td>0.304762</td>\n",
       "      <td>0.060150</td>\n",
       "      <td>0.247619</td>\n",
       "    </tr>\n",
       "  </tbody>\n",
       "</table>\n",
       "<p>3604 rows × 3 columns</p>\n",
       "</div>"
      ],
      "text/plain": [
       "       rouge-1   rouge-2   rouge-l\n",
       "0     0.439024  0.150000  0.390244\n",
       "1     0.340741  0.075676  0.340741\n",
       "2     0.324324  0.116883  0.324324\n",
       "3     0.420168  0.142012  0.369748\n",
       "4     0.288136  0.074534  0.254237\n",
       "...        ...       ...       ...\n",
       "3599  0.250000  0.054054  0.230769\n",
       "3600  0.392157  0.076336  0.313725\n",
       "3601  0.246753  0.076555  0.220779\n",
       "3602  0.245902  0.024540  0.245902\n",
       "3603  0.304762  0.060150  0.247619\n",
       "\n",
       "[3604 rows x 3 columns]"
      ]
     },
     "execution_count": 40,
     "metadata": {},
     "output_type": "execute_result"
    }
   ],
   "source": [
    "f1_df = pd.DataFrame(f1_score)\n",
    "f1_df"
   ]
  },
  {
   "cell_type": "code",
   "execution_count": 43,
   "id": "a74feb34-74a6-4f52-bd55-cbea2d2ed125",
   "metadata": {
    "tags": []
   },
   "outputs": [
    {
     "data": {
      "text/html": [
       "<div>\n",
       "<style scoped>\n",
       "    .dataframe tbody tr th:only-of-type {\n",
       "        vertical-align: middle;\n",
       "    }\n",
       "\n",
       "    .dataframe tbody tr th {\n",
       "        vertical-align: top;\n",
       "    }\n",
       "\n",
       "    .dataframe thead th {\n",
       "        text-align: right;\n",
       "    }\n",
       "</style>\n",
       "<table border=\"1\" class=\"dataframe\">\n",
       "  <thead>\n",
       "    <tr style=\"text-align: right;\">\n",
       "      <th></th>\n",
       "      <th>rouge-1</th>\n",
       "      <th>rouge-2</th>\n",
       "      <th>rouge-l</th>\n",
       "    </tr>\n",
       "  </thead>\n",
       "  <tbody>\n",
       "    <tr>\n",
       "      <th>count</th>\n",
       "      <td>3604.000000</td>\n",
       "      <td>3604.000000</td>\n",
       "      <td>3604.000000</td>\n",
       "    </tr>\n",
       "    <tr>\n",
       "      <th>mean</th>\n",
       "      <td>0.315669</td>\n",
       "      <td>0.080911</td>\n",
       "      <td>0.288550</td>\n",
       "    </tr>\n",
       "    <tr>\n",
       "      <th>std</th>\n",
       "      <td>0.068144</td>\n",
       "      <td>0.044611</td>\n",
       "      <td>0.064310</td>\n",
       "    </tr>\n",
       "    <tr>\n",
       "      <th>min</th>\n",
       "      <td>0.080000</td>\n",
       "      <td>0.000000</td>\n",
       "      <td>0.080000</td>\n",
       "    </tr>\n",
       "    <tr>\n",
       "      <th>25%</th>\n",
       "      <td>0.268041</td>\n",
       "      <td>0.049155</td>\n",
       "      <td>0.244444</td>\n",
       "    </tr>\n",
       "    <tr>\n",
       "      <th>50%</th>\n",
       "      <td>0.313043</td>\n",
       "      <td>0.074627</td>\n",
       "      <td>0.283582</td>\n",
       "    </tr>\n",
       "    <tr>\n",
       "      <th>75%</th>\n",
       "      <td>0.360360</td>\n",
       "      <td>0.105263</td>\n",
       "      <td>0.330097</td>\n",
       "    </tr>\n",
       "    <tr>\n",
       "      <th>max</th>\n",
       "      <td>0.621359</td>\n",
       "      <td>0.368000</td>\n",
       "      <td>0.610526</td>\n",
       "    </tr>\n",
       "  </tbody>\n",
       "</table>\n",
       "</div>"
      ],
      "text/plain": [
       "           rouge-1      rouge-2      rouge-l\n",
       "count  3604.000000  3604.000000  3604.000000\n",
       "mean      0.315669     0.080911     0.288550\n",
       "std       0.068144     0.044611     0.064310\n",
       "min       0.080000     0.000000     0.080000\n",
       "25%       0.268041     0.049155     0.244444\n",
       "50%       0.313043     0.074627     0.283582\n",
       "75%       0.360360     0.105263     0.330097\n",
       "max       0.621359     0.368000     0.610526"
      ]
     },
     "execution_count": 43,
     "metadata": {},
     "output_type": "execute_result"
    }
   ],
   "source": [
    "f1_df.describe()"
   ]
  },
  {
   "cell_type": "code",
   "execution_count": 45,
   "id": "57a894b4-6060-41bf-8301-303408477a67",
   "metadata": {
    "tags": []
   },
   "outputs": [
    {
     "data": {
      "text/html": [
       "<div>\n",
       "<style scoped>\n",
       "    .dataframe tbody tr th:only-of-type {\n",
       "        vertical-align: middle;\n",
       "    }\n",
       "\n",
       "    .dataframe tbody tr th {\n",
       "        vertical-align: top;\n",
       "    }\n",
       "\n",
       "    .dataframe thead th {\n",
       "        text-align: right;\n",
       "    }\n",
       "</style>\n",
       "<table border=\"1\" class=\"dataframe\">\n",
       "  <thead>\n",
       "    <tr style=\"text-align: right;\">\n",
       "      <th></th>\n",
       "      <th>rouge-1</th>\n",
       "      <th>rouge-2</th>\n",
       "      <th>rouge-l</th>\n",
       "    </tr>\n",
       "  </thead>\n",
       "  <tbody>\n",
       "    <tr>\n",
       "      <th>300</th>\n",
       "      <td>0.097561</td>\n",
       "      <td>0.000000</td>\n",
       "      <td>0.085366</td>\n",
       "    </tr>\n",
       "    <tr>\n",
       "      <th>1501</th>\n",
       "      <td>0.080000</td>\n",
       "      <td>0.015873</td>\n",
       "      <td>0.080000</td>\n",
       "    </tr>\n",
       "    <tr>\n",
       "      <th>1776</th>\n",
       "      <td>0.088889</td>\n",
       "      <td>0.038835</td>\n",
       "      <td>0.088889</td>\n",
       "    </tr>\n",
       "  </tbody>\n",
       "</table>\n",
       "</div>"
      ],
      "text/plain": [
       "       rouge-1   rouge-2   rouge-l\n",
       "300   0.097561  0.000000  0.085366\n",
       "1501  0.080000  0.015873  0.080000\n",
       "1776  0.088889  0.038835  0.088889"
      ]
     },
     "execution_count": 45,
     "metadata": {},
     "output_type": "execute_result"
    }
   ],
   "source": [
    "f1_df[f1_df['rouge-1']<0.1]"
   ]
  },
  {
   "cell_type": "code",
   "execution_count": 55,
   "id": "74c9c719-7351-4d3e-a760-352908150dd6",
   "metadata": {
    "tags": []
   },
   "outputs": [],
   "source": [
    "def print_example(i):\n",
    "    print(\"Reference:\")\n",
    "    print(summary_df.iloc[i]['ref_sum'])\n",
    "    print(\"Generation:\")\n",
    "    print(summary_df.iloc[i]['gen_sum'])"
   ]
  },
  {
   "cell_type": "code",
   "execution_count": 56,
   "id": "3af1c0b3-6090-4139-ab89-a56384ebc3ef",
   "metadata": {
    "tags": []
   },
   "outputs": [
    {
     "name": "stdout",
     "output_type": "stream",
     "text": [
      "Reference:\n",
      "The submission is not anonymized, the author's name chaoyanghe appears frequently in the attached SSFL_Sumpplementary/SSFL-Source-Code. Therefore, it should be directly desk rejected.  --- Logging error --- Traceback (most recent call last):   File \"/Users/chaoyanghe/opt/anaconda3/envs/fedml/lib/python3.7/logging/__init__.py\", line 1025, in emit     msg = self.format(record)   File \"/Users/chaoyanghe/opt/anaconda3/envs/fedml/lib/python3.7/logging/__init__.py\", line 869, in format     return fmt.format(record)   File \"/Users/chaoyanghe/opt/anaconda3/envs/fedml/lib/python3.7/logging/__init__.py\", line 608, in format     record.message = record.getMessage()   File \"/Users/chaoyanghe/opt/anaconda3/envs/fedml/lib/python3.7/logging/__init__.py\", line 369, in getMessage     msg = msg % self.args\n",
      "Generation:\n",
      "This paper proposes a personalized federated learning (SSFL) framework for self-supervised learning. The authors propose two algorithms: perFedAvg and Ditto to address label deficiency in the centralized self supervised learning setting. In particular, the authors propose Per-SSFL to address the label deficiency problem in the federated setting. Experiments are conducted on CIFAR-10 and synthetic non-I.I.D. dataset to demonstrate the effectiveness of the proposed algorithms.\n"
     ]
    }
   ],
   "source": [
    "print_example(1501)"
   ]
  },
  {
   "cell_type": "code",
   "execution_count": 57,
   "id": "15205ffa-c9c5-4946-99a4-59c32dab9eb6",
   "metadata": {
    "tags": []
   },
   "outputs": [
    {
     "name": "stdout",
     "output_type": "stream",
     "text": [
      "Reference:\n",
      "Generating a pruned network falls into two broad categories: 1) spend some extra time and effort to train or fine-tune the pruned model after first training a dense version, or 2) cut out that extra time and effort by generating a sparse network \"from scratch.\"  While approach (1) has historically given the best accuracy, recent advances (such as the lottery ticket hypothesis) suggest that there are sparse networks hidden in the initialization that don't need to first be trained, if only we could divine the structure of those models.  Approach (2) seeks to do just this: determine the connectivity as close to initialization possible.  However, even the best results taking this second path fall short when compared to the accuracy of the former path - why is this?  The submission pokes at three recent techniques to pull out some commonalities that are *not* shared with (1), suggesting possible issues that need to be overcome to improve accuracy, and proposes a set of experiments and comparisons that should be part of any new technique that claims to discover a good sparse mask at initialization.\n",
      "Generation:\n",
      "This paper studies the problem of pruning neural networks. The authors propose three pruning heuristics: SNIP, GraSP, and magnitude pruning. They show that SNIP and GraSP perform better than random pruning, and that the magnitude pruner performs better than the random pruner. In addition, the authors show that magnitude pruners are more effective than SNIP.\n"
     ]
    }
   ],
   "source": [
    "print_example(300)"
   ]
  },
  {
   "cell_type": "code",
   "execution_count": 58,
   "id": "17ec8007-3a68-42f8-8c76-0b3b1115fcef",
   "metadata": {
    "tags": []
   },
   "outputs": [
    {
     "name": "stdout",
     "output_type": "stream",
     "text": [
      "Reference:\n",
      "The authors propose a new RNN architecture, long expressive memory (LEM), motivated by a system of ODEs with multiple time constants. They prove that it can avoid the vanishing gradient problem while retaining the flexibility to approximate a broad class of dynamical systems. They report comparable or improved prediction performance of LEM-based sequence models across a very wide variety of tasks, as compared to several recent alternatives.\n",
      "Generation:\n",
      "This paper proposes a method for learning long-term sequential dependencies. The method is based on a system of multiscale ordinary differential equations (MODE) and time-discretization. The proposed method is evaluated on image classification, keyword spotting and language modeling tasks.\n"
     ]
    }
   ],
   "source": [
    "print_example(1776)"
   ]
  },
  {
   "cell_type": "code",
   "execution_count": 59,
   "id": "dfdd99a5-0569-40c8-b5f2-fc420b32f500",
   "metadata": {
    "tags": []
   },
   "outputs": [
    {
     "data": {
      "text/html": [
       "<div>\n",
       "<style scoped>\n",
       "    .dataframe tbody tr th:only-of-type {\n",
       "        vertical-align: middle;\n",
       "    }\n",
       "\n",
       "    .dataframe tbody tr th {\n",
       "        vertical-align: top;\n",
       "    }\n",
       "\n",
       "    .dataframe thead th {\n",
       "        text-align: right;\n",
       "    }\n",
       "</style>\n",
       "<table border=\"1\" class=\"dataframe\">\n",
       "  <thead>\n",
       "    <tr style=\"text-align: right;\">\n",
       "      <th></th>\n",
       "      <th>rouge-1</th>\n",
       "      <th>rouge-2</th>\n",
       "      <th>rouge-l</th>\n",
       "    </tr>\n",
       "  </thead>\n",
       "  <tbody>\n",
       "    <tr>\n",
       "      <th>1635</th>\n",
       "      <td>0.610526</td>\n",
       "      <td>0.368000</td>\n",
       "      <td>0.610526</td>\n",
       "    </tr>\n",
       "    <tr>\n",
       "      <th>1873</th>\n",
       "      <td>0.621359</td>\n",
       "      <td>0.285714</td>\n",
       "      <td>0.504854</td>\n",
       "    </tr>\n",
       "  </tbody>\n",
       "</table>\n",
       "</div>"
      ],
      "text/plain": [
       "       rouge-1   rouge-2   rouge-l\n",
       "1635  0.610526  0.368000  0.610526\n",
       "1873  0.621359  0.285714  0.504854"
      ]
     },
     "execution_count": 59,
     "metadata": {},
     "output_type": "execute_result"
    }
   ],
   "source": [
    "f1_df[f1_df['rouge-1']>0.6]"
   ]
  },
  {
   "cell_type": "code",
   "execution_count": 60,
   "id": "23666ab3-6794-4cea-86ac-0f77dbdb51e7",
   "metadata": {
    "tags": []
   },
   "outputs": [
    {
     "name": "stdout",
     "output_type": "stream",
     "text": [
      "Reference:\n",
      "This paper proposes a decomposition-based explanations method for graph neural networks.  In detail, the authors design a subgraph level interpretation algorithm to reveal complex interactions between graph nodes, so as to achieve the faithful explanation for GNN predictions. They demonstrate the effectiveness of the proposed method on synthetic and real-world datasets.   \n",
      "Generation:\n",
      "This paper proposes a method for improving the faithfulness of graph neural networks (GNNs). The main idea is to use a subgraph level interpretation algorithm to learn a faithful explanation of GNN predictions. The method is based on the idea that GNNs should be able to explain complex interactions between graph nodes. The main contribution of this paper is to propose a method to learn the faithful explanation for GNN. The proposed method is evaluated on both synthetic and real-world datasets.\n"
     ]
    }
   ],
   "source": [
    "print_example(1635)"
   ]
  },
  {
   "cell_type": "code",
   "execution_count": 61,
   "id": "3ab4f23a-02cf-4f3f-8cbe-bf12f634394a",
   "metadata": {
    "tags": []
   },
   "outputs": [
    {
     "name": "stdout",
     "output_type": "stream",
     "text": [
      "Reference:\n",
      "This paper studies the properties of applying gradient flow and gradient descent to deep linear networks on linearly separable data. For strictly decreasing loss like the logistic loss, this paper shows 1) the loss goes to 0, 2) for every layer the normalized weight matrix converges to a rank-1 matrix 3) these rank-1 matrices are aligned. For the logistic loss, this paper further shows the linear function is the maximum margin solution.\n",
      "Generation:\n",
      "This paper studies the asymptotic weight matrix alignment in deep linear networks with linearly separable data. The authors show that gradient flow and gradient descent converge to a linear function when the weight matrices of the network are rank-1 matrices. They also show that the gradient flow converges to the maximum margin solution of the logistic loss with decreasing step size. The paper also shows that gradient descent converges faster than gradient flow with increasing step size when the network is linearly separated.\n"
     ]
    }
   ],
   "source": [
    "print_example(1873)"
   ]
  },
  {
   "cell_type": "code",
   "execution_count": null,
   "id": "be1c684e-88fb-45b0-8289-4ea53a58c58d",
   "metadata": {},
   "outputs": [],
   "source": []
  }
 ],
 "metadata": {
  "kernelspec": {
   "display_name": "Python 3 (ipykernel)",
   "language": "python",
   "name": "python3"
  },
  "language_info": {
   "codemirror_mode": {
    "name": "ipython",
    "version": 3
   },
   "file_extension": ".py",
   "mimetype": "text/x-python",
   "name": "python",
   "nbconvert_exporter": "python",
   "pygments_lexer": "ipython3",
   "version": "3.8.10"
  }
 },
 "nbformat": 4,
 "nbformat_minor": 5
}
