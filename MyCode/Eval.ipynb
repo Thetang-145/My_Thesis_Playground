{
 "cells": [
  {
   "cell_type": "code",
   "execution_count": 1,
   "metadata": {},
   "outputs": [],
   "source": [
    "import pandas as pd\n",
    "from pathlib import Path\n",
    "import json"
   ]
  },
  {
   "cell_type": "code",
   "execution_count": 8,
   "metadata": {},
   "outputs": [],
   "source": [
    "RAWDATAFILES = {\n",
    "    \"train\": \"training_complete.jsonl\",\n",
    "    \"val\": \"validation_complete.jsonl\",\n",
    "    \"test\": \"testing_with_paper_release.jsonl\"\n",
    "}\n",
    "\n",
    "def load_data(filepath):\n",
    "    with open(filepath, 'r') as json_file:\n",
    "        json_list = list(json_file)\n",
    "    dataset = []\n",
    "    data_len = len(json_list)\n",
    "    for i, json_str in enumerate(json_list):\n",
    "        result = json.loads(json_str)\n",
    "        dataset.append({\n",
    "            \"paper_id\": result[\"paper_id\"], \n",
    "            \"abstract\": result[\"paper\"][\"abstractText\"], \n",
    "            \"ref_sum\": result[\"summary\"]\n",
    "        })\n",
    "    return pd.DataFrame(dataset)"
   ]
  },
  {
   "cell_type": "code",
   "execution_count": 9,
   "metadata": {},
   "outputs": [
    {
     "data": {
      "text/html": [
       "<div>\n",
       "<style scoped>\n",
       "    .dataframe tbody tr th:only-of-type {\n",
       "        vertical-align: middle;\n",
       "    }\n",
       "\n",
       "    .dataframe tbody tr th {\n",
       "        vertical-align: top;\n",
       "    }\n",
       "\n",
       "    .dataframe thead th {\n",
       "        text-align: right;\n",
       "    }\n",
       "</style>\n",
       "<table border=\"1\" class=\"dataframe\">\n",
       "  <thead>\n",
       "    <tr style=\"text-align: right;\">\n",
       "      <th></th>\n",
       "      <th>paper_id</th>\n",
       "      <th>abstract</th>\n",
       "      <th>ref_sum</th>\n",
       "    </tr>\n",
       "  </thead>\n",
       "  <tbody>\n",
       "    <tr>\n",
       "      <th>0</th>\n",
       "      <td>SP:7f4b788b00a2a10bcd60351c3e04c8f597101e96</td>\n",
       "      <td>Federated learning (FL) is a technique that tr...</td>\n",
       "      <td>This paper studies FL under local differential...</td>\n",
       "    </tr>\n",
       "    <tr>\n",
       "      <th>1</th>\n",
       "      <td>SP:7f4b788b00a2a10bcd60351c3e04c8f597101e96</td>\n",
       "      <td>Federated learning (FL) is a technique that tr...</td>\n",
       "      <td>This paper studies a low communication algorit...</td>\n",
       "    </tr>\n",
       "    <tr>\n",
       "      <th>2</th>\n",
       "      <td>SP:7f4b788b00a2a10bcd60351c3e04c8f597101e96</td>\n",
       "      <td>Federated learning (FL) is a technique that tr...</td>\n",
       "      <td>The paper proposed a differentially private tr...</td>\n",
       "    </tr>\n",
       "    <tr>\n",
       "      <th>3</th>\n",
       "      <td>SP:632666b52c7c551d67fbbe70c06ed589c3a5e187</td>\n",
       "      <td>Self-attention networks (SANs) have shown prom...</td>\n",
       "      <td>This submission works on the neural machine tr...</td>\n",
       "    </tr>\n",
       "    <tr>\n",
       "      <th>4</th>\n",
       "      <td>SP:632666b52c7c551d67fbbe70c06ed589c3a5e187</td>\n",
       "      <td>Self-attention networks (SANs) have shown prom...</td>\n",
       "      <td>This paper proposes a method to introduce **pr...</td>\n",
       "    </tr>\n",
       "    <tr>\n",
       "      <th>...</th>\n",
       "      <td>...</td>\n",
       "      <td>...</td>\n",
       "      <td>...</td>\n",
       "    </tr>\n",
       "    <tr>\n",
       "      <th>3599</th>\n",
       "      <td>SP:18aaba3423e81e9437b509d1a5e24836ef5635f6</td>\n",
       "      <td>We undertake the problem of representation lea...</td>\n",
       "      <td>This paper defines a set of learnable basis fu...</td>\n",
       "    </tr>\n",
       "    <tr>\n",
       "      <th>3600</th>\n",
       "      <td>SP:18aaba3423e81e9437b509d1a5e24836ef5635f6</td>\n",
       "      <td>We undertake the problem of representation lea...</td>\n",
       "      <td>A typical Wavelet Transform is built through t...</td>\n",
       "    </tr>\n",
       "    <tr>\n",
       "      <th>3601</th>\n",
       "      <td>SP:3058e6bc5e8c62af325c214c9e1436d6cdf09204</td>\n",
       "      <td>Interest has been rising lately towards method...</td>\n",
       "      <td>This paper builds a new graph convolutional ne...</td>\n",
       "    </tr>\n",
       "    <tr>\n",
       "      <th>3602</th>\n",
       "      <td>SP:3058e6bc5e8c62af325c214c9e1436d6cdf09204</td>\n",
       "      <td>Interest has been rising lately towards method...</td>\n",
       "      <td>The authors propose using non-Euclidean spaces...</td>\n",
       "    </tr>\n",
       "    <tr>\n",
       "      <th>3603</th>\n",
       "      <td>SP:3058e6bc5e8c62af325c214c9e1436d6cdf09204</td>\n",
       "      <td>Interest has been rising lately towards method...</td>\n",
       "      <td>In this paper, the authors address representat...</td>\n",
       "    </tr>\n",
       "  </tbody>\n",
       "</table>\n",
       "<p>3604 rows × 3 columns</p>\n",
       "</div>"
      ],
      "text/plain": [
       "                                         paper_id  \\\n",
       "0     SP:7f4b788b00a2a10bcd60351c3e04c8f597101e96   \n",
       "1     SP:7f4b788b00a2a10bcd60351c3e04c8f597101e96   \n",
       "2     SP:7f4b788b00a2a10bcd60351c3e04c8f597101e96   \n",
       "3     SP:632666b52c7c551d67fbbe70c06ed589c3a5e187   \n",
       "4     SP:632666b52c7c551d67fbbe70c06ed589c3a5e187   \n",
       "...                                           ...   \n",
       "3599  SP:18aaba3423e81e9437b509d1a5e24836ef5635f6   \n",
       "3600  SP:18aaba3423e81e9437b509d1a5e24836ef5635f6   \n",
       "3601  SP:3058e6bc5e8c62af325c214c9e1436d6cdf09204   \n",
       "3602  SP:3058e6bc5e8c62af325c214c9e1436d6cdf09204   \n",
       "3603  SP:3058e6bc5e8c62af325c214c9e1436d6cdf09204   \n",
       "\n",
       "                                               abstract  \\\n",
       "0     Federated learning (FL) is a technique that tr...   \n",
       "1     Federated learning (FL) is a technique that tr...   \n",
       "2     Federated learning (FL) is a technique that tr...   \n",
       "3     Self-attention networks (SANs) have shown prom...   \n",
       "4     Self-attention networks (SANs) have shown prom...   \n",
       "...                                                 ...   \n",
       "3599  We undertake the problem of representation lea...   \n",
       "3600  We undertake the problem of representation lea...   \n",
       "3601  Interest has been rising lately towards method...   \n",
       "3602  Interest has been rising lately towards method...   \n",
       "3603  Interest has been rising lately towards method...   \n",
       "\n",
       "                                                ref_sum  \n",
       "0     This paper studies FL under local differential...  \n",
       "1     This paper studies a low communication algorit...  \n",
       "2     The paper proposed a differentially private tr...  \n",
       "3     This submission works on the neural machine tr...  \n",
       "4     This paper proposes a method to introduce **pr...  \n",
       "...                                                 ...  \n",
       "3599  This paper defines a set of learnable basis fu...  \n",
       "3600  A typical Wavelet Transform is built through t...  \n",
       "3601  This paper builds a new graph convolutional ne...  \n",
       "3602  The authors propose using non-Euclidean spaces...  \n",
       "3603  In this paper, the authors address representat...  \n",
       "\n",
       "[3604 rows x 3 columns]"
      ]
     },
     "execution_count": 9,
     "metadata": {},
     "output_type": "execute_result"
    }
   ],
   "source": [
    "main_path = str((Path().absolute()).parents[0])\n",
    "filepath = main_path+\"/MuP_sum/dataset/\"+RAWDATAFILES['val']\n",
    "reference_sum = load_data(filepath)\n",
    "reference_sum"
   ]
  },
  {
   "cell_type": "code",
   "execution_count": 10,
   "metadata": {},
   "outputs": [
    {
     "data": {
      "text/plain": [
       "'Federated learning (FL) is a technique that trains machine learning models from decentralized data sources. We study FL under local differential privacy constraints, which provides strong protection against sensitive data disclosures via obfuscating the data before leaving the client. We identify two major concerns in designing practical privacy-preserving FL algorithms: communication efficiency and highdimensional compatibility. We then develop a gradient-based learning algorithm called sqSGD (selective quantized stochastic gradient descent) that addresses both concerns. The proposed algorithm is based on a novel privacy-preserving quantization scheme that uses a constant number of bits per dimension per client. Then we improve the base algorithm in two ways: first, we apply a gradient subsampling strategy that offers simultaneously better training performance and smaller communication costs under a fixed privacy budget. Secondly, we utilize randomized rotation as a preprocessing step to reduce quantization error. We also initialize a discussion about the role of quantization and perturbation in FL algorithm design with privacy and communication constraints. Finally, the practicality of the proposed framework is demonstrated on benchmark datasets. Experiment results show that sqSGD successfully learns large models like LeNet and ResNet with local privacy constraints. In addition, with fixed privacy and communication level, the performance of sqSGD significantly dominates that of baseline algorithms.'"
      ]
     },
     "execution_count": 10,
     "metadata": {},
     "output_type": "execute_result"
    }
   ],
   "source": [
    "reference_sum[\"abstract\"].iloc[0]"
   ]
  },
  {
   "cell_type": "code",
   "execution_count": null,
   "metadata": {},
   "outputs": [],
   "source": []
  }
 ],
 "metadata": {
  "kernelspec": {
   "display_name": "Python 3",
   "language": "python",
   "name": "python3"
  },
  "language_info": {
   "codemirror_mode": {
    "name": "ipython",
    "version": 3
   },
   "file_extension": ".py",
   "mimetype": "text/x-python",
   "name": "python",
   "nbconvert_exporter": "python",
   "pygments_lexer": "ipython3",
   "version": "3.8.15"
  },
  "orig_nbformat": 4
 },
 "nbformat": 4,
 "nbformat_minor": 2
}
